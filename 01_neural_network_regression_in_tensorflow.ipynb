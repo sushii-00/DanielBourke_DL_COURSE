{
  "nbformat": 4,
  "nbformat_minor": 0,
  "metadata": {
    "colab": {
      "name": "01_neural_network_regression_in_tensorflow.ipynb",
      "provenance": [],
      "collapsed_sections": [],
      "mount_file_id": "1SelvZhnauLrnmolaYdLyJIVZVfaz51XJ",
      "authorship_tag": "ABX9TyPncnLSs07zPuW4oztQBC36",
      "include_colab_link": true
    },
    "kernelspec": {
      "name": "python3",
      "display_name": "Python 3"
    },
    "language_info": {
      "name": "python"
    }
  },
  "cells": [
    {
      "cell_type": "markdown",
      "metadata": {
        "id": "view-in-github",
        "colab_type": "text"
      },
      "source": [
        "<a href=\"https://colab.research.google.com/github/sushii-00/DanielBourke_DL_Course/blob/main/01_neural_network_regression_in_tensorflow.ipynb\" target=\"_parent\"><img src=\"https://colab.research.google.com/assets/colab-badge.svg\" alt=\"Open In Colab\"/></a>"
      ]
    },
    {
      "cell_type": "markdown",
      "metadata": {
        "id": "ruRlfQEW-nXA"
      },
      "source": [
        "#Introduction to regression with neural networks in tensorflow\n",
        "\n",
        "There are many definitions for a regression problem but in our  case, we're going to simplify it:\n",
        "\n",
        "* predicting a numerical variable based on some other combination of variables, even shorter... predicting a number."
      ]
    },
    {
      "cell_type": "code",
      "metadata": {
        "colab": {
          "base_uri": "https://localhost:8080/"
        },
        "id": "TrMh63RIDyy-",
        "outputId": "9352c51d-fd75-4ad2-fc58-edb1470315fb"
      },
      "source": [
        "#import tensorflow \n",
        "import tensorflow as tf\n",
        "print(tf.__version__)"
      ],
      "execution_count": null,
      "outputs": [
        {
          "output_type": "stream",
          "text": [
            "2.4.1\n"
          ],
          "name": "stdout"
        }
      ]
    },
    {
      "cell_type": "markdown",
      "metadata": {
        "id": "aJcFOod2EH8P"
      },
      "source": [
        "## creating some data to view and fit\n"
      ]
    },
    {
      "cell_type": "code",
      "metadata": {
        "colab": {
          "base_uri": "https://localhost:8080/",
          "height": 269
        },
        "id": "qanRf2KSEXl5",
        "outputId": "95009f77-cd91-4b49-db2d-e5400c010478"
      },
      "source": [
        "import numpy as np\n",
        "import matplotlib.pyplot as plt\n",
        "\n",
        "# creating features\n",
        "X = np.array([-7.0,-4.0,-1.0,2.0,5.0,8.0,11.0,14.0])\n",
        "\n",
        "# creating labels\n",
        "\n",
        "y = np.array([3.0,6.0,9.0,12.0,15.0,18.0,21.0,24.0])\n",
        "\n",
        "# visualise it:\n",
        "\n",
        "plt.scatter(X,y);\n"
      ],
      "execution_count": null,
      "outputs": [
        {
          "output_type": "display_data",
          "data": {
            "image/png": "[encoded data removed]",
            "text/plain": [
              "<Figure size 432x288 with 1 Axes>"
            ]
          },
          "metadata": {
            "tags": [],
            "needs_background": "light"
          }
        }
      ]
    },
    {
      "cell_type": "code",
      "metadata": {
        "colab": {
          "base_uri": "https://localhost:8080/"
        },
        "id": "NmL-nXJCEXo3",
        "outputId": "cacd900f-8f4e-43f8-ab3c-a6b0ead62b59"
      },
      "source": [
        "X+10"
      ],
      "execution_count": null,
      "outputs": [
        {
          "output_type": "execute_result",
          "data": {
            "text/plain": [
              "array([ 3.,  6.,  9., 12., 15., 18., 21., 24.])"
            ]
          },
          "metadata": {
            "tags": []
          },
          "execution_count": 3
        }
      ]
    },
    {
      "cell_type": "code",
      "metadata": {
        "colab": {
          "base_uri": "https://localhost:8080/"
        },
        "id": "cSzb7rH6EXsD",
        "outputId": "6b0498b6-d73a-4a31-9665-29e30db6e91f"
      },
      "source": [
        "y == X+10"
      ],
      "execution_count": null,
      "outputs": [
        {
          "output_type": "execute_result",
          "data": {
            "text/plain": [
              "array([ True,  True,  True,  True,  True,  True,  True,  True])"
            ]
          },
          "metadata": {
            "tags": []
          },
          "execution_count": 4
        }
      ]
    },
    {
      "cell_type": "markdown",
      "metadata": {
        "id": "yo_0KvLaEXu-"
      },
      "source": [
        "## input and output shapes"
      ]
    },
    {
      "cell_type": "code",
      "metadata": {
        "colab": {
          "base_uri": "https://localhost:8080/"
        },
        "id": "-Dsfti4tFW_y",
        "outputId": "a99ad609-303b-4df2-885c-39a64b5dc362"
      },
      "source": [
        "# create a demo tensor for our housing price prediction problem\n",
        "\n",
        "house_info = tf.constant([\"bedroom\", \"bathroom\",\"garage\"])\n",
        "house_price = tf.constant([939700])\n",
        "house_info, house_price"
      ],
      "execution_count": null,
      "outputs": [
        {
          "output_type": "execute_result",
          "data": {
            "text/plain": [
              "(<tf.Tensor: shape=(3,), dtype=string, numpy=array([b'bedroom', b'bathroom', b'garage'], dtype=object)>,\n",
              " <tf.Tensor: shape=(1,), dtype=int32, numpy=array([939700], dtype=int32)>)"
            ]
          },
          "metadata": {
            "tags": []
          },
          "execution_count": 5
        }
      ]
    },
    {
      "cell_type": "code",
      "metadata": {
        "colab": {
          "base_uri": "https://localhost:8080/"
        },
        "id": "v6QhqQMEFXCd",
        "outputId": "9e1a5336-0a16-4c2d-9547-d2bfbb5b7470"
      },
      "source": [
        "input_shape = X.shape\n",
        "output_shape = y.shape\n",
        "input_shape , output_shape"
      ],
      "execution_count": null,
      "outputs": [
        {
          "output_type": "execute_result",
          "data": {
            "text/plain": [
              "((8,), (8,))"
            ]
          },
          "metadata": {
            "tags": []
          },
          "execution_count": 6
        }
      ]
    },
    {
      "cell_type": "code",
      "metadata": {
        "colab": {
          "base_uri": "https://localhost:8080/"
        },
        "id": "PNaqCACVFXE9",
        "outputId": "5ae6d689-8b20-4568-b7b8-c8396052917c"
      },
      "source": [
        " X[0], y[0]"
      ],
      "execution_count": null,
      "outputs": [
        {
          "output_type": "execute_result",
          "data": {
            "text/plain": [
              "(-7.0, 3.0)"
            ]
          },
          "metadata": {
            "tags": []
          },
          "execution_count": 7
        }
      ]
    },
    {
      "cell_type": "code",
      "metadata": {
        "colab": {
          "base_uri": "https://localhost:8080/"
        },
        "id": "MRyvupk1FXHo",
        "outputId": "a01669c2-045a-4c4c-b0a7-da553d05b9b8"
      },
      "source": [
        "X[1],y[1]"
      ],
      "execution_count": null,
      "outputs": [
        {
          "output_type": "execute_result",
          "data": {
            "text/plain": [
              "(-4.0, 6.0)"
            ]
          },
          "metadata": {
            "tags": []
          },
          "execution_count": 8
        }
      ]
    },
    {
      "cell_type": "code",
      "metadata": {
        "colab": {
          "base_uri": "https://localhost:8080/"
        },
        "id": "5-h7QZxNFXJ9",
        "outputId": "c4955699-33c2-49e0-c66e-65cf8c673612"
      },
      "source": [
        "input_shape = X[0].shape\n",
        "output_shape = y[0].shape\n",
        "input_shape , output_shape"
      ],
      "execution_count": null,
      "outputs": [
        {
          "output_type": "execute_result",
          "data": {
            "text/plain": [
              "((), ())"
            ]
          },
          "metadata": {
            "tags": []
          },
          "execution_count": 9
        }
      ]
    },
    {
      "cell_type": "code",
      "metadata": {
        "colab": {
          "base_uri": "https://localhost:8080/"
        },
        "id": "QiPRSOFkFXMH",
        "outputId": "16a40c81-414d-466c-bbff-e598cda72c13"
      },
      "source": [
        "X[0].ndim"
      ],
      "execution_count": null,
      "outputs": [
        {
          "output_type": "execute_result",
          "data": {
            "text/plain": [
              "0"
            ]
          },
          "metadata": {
            "tags": []
          },
          "execution_count": 10
        }
      ]
    },
    {
      "cell_type": "code",
      "metadata": {
        "colab": {
          "base_uri": "https://localhost:8080/"
        },
        "id": "op9WM3MkFXOv",
        "outputId": "3c706f02-0feb-45b2-94f1-8801c0b82a97"
      },
      "source": [
        "# turn numpy arrays into tensors with data type float32\n",
        "X = tf.cast(tf.constant(X), dtype=tf.float32)\n",
        "y = tf.cast(tf.constant(y),dtype= tf.float32)\n",
        "X,y"
      ],
      "execution_count": null,
      "outputs": [
        {
          "output_type": "execute_result",
          "data": {
            "text/plain": [
              "(<tf.Tensor: shape=(8,), dtype=float32, numpy=array([-7., -4., -1.,  2.,  5.,  8., 11., 14.], dtype=float32)>,\n",
              " <tf.Tensor: shape=(8,), dtype=float32, numpy=array([ 3.,  6.,  9., 12., 15., 18., 21., 24.], dtype=float32)>)"
            ]
          },
          "metadata": {
            "tags": []
          },
          "execution_count": 11
        }
      ]
    },
    {
      "cell_type": "code",
      "metadata": {
        "colab": {
          "base_uri": "https://localhost:8080/"
        },
        "id": "_5s50NEHFXRj",
        "outputId": "cb69a74e-72b9-44bc-df7c-059e7174fe64"
      },
      "source": [
        "input_shape = X[0].shape\n",
        "output_shape = y[0].shape\n",
        "input_shape , output_shape"
      ],
      "execution_count": null,
      "outputs": [
        {
          "output_type": "execute_result",
          "data": {
            "text/plain": [
              "(TensorShape([]), TensorShape([]))"
            ]
          },
          "metadata": {
            "tags": []
          },
          "execution_count": 12
        }
      ]
    },
    {
      "cell_type": "code",
      "metadata": {
        "colab": {
          "base_uri": "https://localhost:8080/",
          "height": 286
        },
        "id": "4EkG2P_fFXT9",
        "outputId": "60fb6cf8-5cda-422f-b243-2b58e96a47af"
      },
      "source": [
        "plt.scatter(X,y)"
      ],
      "execution_count": null,
      "outputs": [
        {
          "output_type": "execute_result",
          "data": {
            "text/plain": [
              "<matplotlib.collections.PathCollection at 0x7fbf031bba10>"
            ]
          },
          "metadata": {
            "tags": []
          },
          "execution_count": 13
        },
        {
          "output_type": "display_data",
          "data": {
            "image/png": "[encoded data removed]",
            "text/plain": [
              "<Figure size 432x288 with 1 Axes>"
            ]
          },
          "metadata": {
            "tags": [],
            "needs_background": "light"
          }
        }
      ]
    },
    {
      "cell_type": "markdown",
      "metadata": {
        "id": "gxd3Jd7RraSb"
      },
      "source": [
        "## steps in modelling with tensorflow\n",
        "\n",
        "1. **Creating a model**- define the input and output layers, as well as the hidden layers of a deep learning model.\n",
        "2. **Compiling a model**- define the loss function (in other words, the function which tells our model how wrong it is) and the optimiser (tells our model how to improve its patterns its learning) and evaluation metrics (what we can use to interpret the performance of our model).\n",
        "3. Fitting a model - letting the model try to find patterns between X and y (features and labels)."
      ]
    },
    {
      "cell_type": "code",
      "metadata": {
        "colab": {
          "base_uri": "https://localhost:8080/"
        },
        "id": "1vNXsw_Ire2D",
        "outputId": "186172bb-abc6-420e-afce-f2a061d9d180"
      },
      "source": [
        "# set random seed\n",
        "tf.random.set_seed(42)\n",
        "\n",
        "# 1. Create a model using the Sequential API\n",
        "model = tf.keras.Sequential([\n",
        "                  tf.keras.layers.Dense(1)])\n",
        "\n",
        "# 2. compile the model\n",
        "model.compile(loss=tf.keras.losses.mae,  #mae= mean absolute error; error is the difference absolutes and predictions \n",
        "              optimizer=tf.keras.optimizers.SGD(), #sgd is short for stochatic gradient descend                          \n",
        "              metrics= [\"mae\"])\n",
        "\n",
        "# 3. fit the model\n",
        "model.fit(X, y, epochs=5) # epochs => can be defined as X and y are given to the model and it has 5(here) opportunities to go throgh X and y totally befor giving us the final predictions or declaring that the model is trained.\n",
        "\n",
        "\n",
        "              \n",
        "\n"
      ],
      "execution_count": null,
      "outputs": [
        {
          "output_type": "stream",
          "text": [
            "Epoch 1/5\n",
            "1/1 [==============================] - 0s 351ms/step - loss: 11.5048 - mae: 11.5048\n",
            "Epoch 2/5\n",
            "1/1 [==============================] - 0s 5ms/step - loss: 11.3723 - mae: 11.3723\n",
            "Epoch 3/5\n",
            "1/1 [==============================] - 0s 7ms/step - loss: 11.2398 - mae: 11.2398\n",
            "Epoch 4/5\n",
            "1/1 [==============================] - 0s 4ms/step - loss: 11.1073 - mae: 11.1073\n",
            "Epoch 5/5\n",
            "1/1 [==============================] - 0s 7ms/step - loss: 10.9748 - mae: 10.9748\n"
          ],
          "name": "stdout"
        },
        {
          "output_type": "execute_result",
          "data": {
            "text/plain": [
              "<tensorflow.python.keras.callbacks.History at 0x7fbf03ee4cd0>"
            ]
          },
          "metadata": {
            "tags": []
          },
          "execution_count": 14
        }
      ]
    },
    {
      "cell_type": "code",
      "metadata": {
        "colab": {
          "base_uri": "https://localhost:8080/"
        },
        "id": "R5m5WiCrre4p",
        "outputId": "c70b827f-3b30-4d50-e9e3-72934172032a"
      },
      "source": [
        "# check out X and y\n",
        "X,y"
      ],
      "execution_count": null,
      "outputs": [
        {
          "output_type": "execute_result",
          "data": {
            "text/plain": [
              "(<tf.Tensor: shape=(8,), dtype=float32, numpy=array([-7., -4., -1.,  2.,  5.,  8., 11., 14.], dtype=float32)>,\n",
              " <tf.Tensor: shape=(8,), dtype=float32, numpy=array([ 3.,  6.,  9., 12., 15., 18., 21., 24.], dtype=float32)>)"
            ]
          },
          "metadata": {
            "tags": []
          },
          "execution_count": 15
        }
      ]
    },
    {
      "cell_type": "code",
      "metadata": {
        "colab": {
          "base_uri": "https://localhost:8080/"
        },
        "id": "IpQQgc0Gre7E",
        "outputId": "f57583bb-724f-4d7c-8549-f16193201470"
      },
      "source": [
        "#Try and make prediction using our model\n",
        "y_pred = model.predict([17.0])\n",
        "y_pred"
      ],
      "execution_count": null,
      "outputs": [
        {
          "output_type": "execute_result",
          "data": {
            "text/plain": [
              "array([[12.716021]], dtype=float32)"
            ]
          },
          "metadata": {
            "tags": []
          },
          "execution_count": 16
        }
      ]
    },
    {
      "cell_type": "code",
      "metadata": {
        "colab": {
          "base_uri": "https://localhost:8080/"
        },
        "id": "q9FOf1sbre-a",
        "outputId": "e795b781-5d21-4d6b-e1f4-8c18126e050f"
      },
      "source": [
        "y_pred + 11 # we added the error to check if our model is only as off as if we added the error to our result our prediction would fall right into place"
      ],
      "execution_count": null,
      "outputs": [
        {
          "output_type": "execute_result",
          "data": {
            "text/plain": [
              "array([[23.71602]], dtype=float32)"
            ]
          },
          "metadata": {
            "tags": []
          },
          "execution_count": 17
        }
      ]
    },
    {
      "cell_type": "code",
      "metadata": {
        "id": "SIOv9qIoy_kv"
      },
      "source": [
        "# but that is still pretty off."
      ],
      "execution_count": null,
      "outputs": []
    },
    {
      "cell_type": "markdown",
      "metadata": {
        "id": "u5OLZ7EOzD5d"
      },
      "source": [
        "### IMPROVING OUR MODEL\n",
        "We can improve our model, by altering the steps we took to create a model.\n",
        "\n",
        "1. **Creating a model** - here we might add more layers, increase the number of hidden units (also called as neurons) within each of the hidden layers, change the activation function of each layer.\n",
        "2. **Compiling a model** - Here, we might change the optimisation function or perhaps the **learning rate** of the optimisation function.\n",
        "3. **Fitting a model** - Here, we might fet a model for more **epochs** (leave it training for longer) or on more data (give the model more examples to learn from)."
      ]
    },
    {
      "cell_type": "markdown",
      "metadata": {
        "id": "Qc_wNCu8I2t6"
      },
      "source": [
        "# common ways of improving a model\n",
        "* adding layers\n",
        "* Increase the number of layers\n",
        "* change the activation functions\n",
        "* change the optimization function\n",
        "* change the learning rate\n"
      ]
    },
    {
      "cell_type": "markdown",
      "metadata": {
        "id": "P_grcLOrDFxo"
      },
      "source": [
        "###let's create a more optimised and a more **DEEP** model\n",
        "\n",
        "* but let's do 1 step at a time:\n",
        "let us first just increase the number of times the model looks at the dataset. That is, lets increase the number of epochs"
      ]
    },
    {
      "cell_type": "code",
      "metadata": {
        "colab": {
          "base_uri": "https://localhost:8080/"
        },
        "id": "oYFLDm53F9Q4",
        "outputId": "d7fc7b84-af17-4b4d-ef57-9eb055b0020b"
      },
      "source": [
        "#1. create the model\n",
        "model = tf.keras.Sequential([\n",
        "                             tf.keras.layers.Dense(1)\n",
        "                             ])\n",
        "\n",
        "#2. Compile the model\n",
        "model.compile(loss=tf.keras.losses.mae,\n",
        "              optimizer=tf.keras.optimizers.SGD(),\n",
        "              metrics=[\"mae\"])\n",
        "#3. Fit the model(but this time make it look longer at the training set)\n",
        "model.fit(X,y,epochs=100)"
      ],
      "execution_count": null,
      "outputs": [
        {
          "output_type": "stream",
          "text": [
            "Epoch 1/100\n",
            "1/1 [==============================] - 0s 268ms/step - loss: 11.2219 - mae: 11.2219\n",
            "Epoch 2/100\n",
            "1/1 [==============================] - 0s 4ms/step - loss: 11.0894 - mae: 11.0894\n",
            "Epoch 3/100\n",
            "1/1 [==============================] - 0s 5ms/step - loss: 10.9569 - mae: 10.9569\n",
            "Epoch 4/100\n",
            "1/1 [==============================] - 0s 6ms/step - loss: 10.8244 - mae: 10.8244\n",
            "Epoch 5/100\n",
            "1/1 [==============================] - 0s 5ms/step - loss: 10.6919 - mae: 10.6919\n",
            "Epoch 6/100\n",
            "1/1 [==============================] - 0s 3ms/step - loss: 10.5594 - mae: 10.5594\n",
            "Epoch 7/100\n",
            "1/1 [==============================] - 0s 7ms/step - loss: 10.4269 - mae: 10.4269\n",
            "Epoch 8/100\n",
            "1/1 [==============================] - 0s 5ms/step - loss: 10.2944 - mae: 10.2944\n",
            "Epoch 9/100\n",
            "1/1 [==============================] - 0s 3ms/step - loss: 10.1619 - mae: 10.1619\n",
            "Epoch 10/100\n",
            "1/1 [==============================] - 0s 4ms/step - loss: 10.0294 - mae: 10.0294\n",
            "Epoch 11/100\n",
            "1/1 [==============================] - 0s 5ms/step - loss: 9.8969 - mae: 9.8969\n",
            "Epoch 12/100\n",
            "1/1 [==============================] - 0s 5ms/step - loss: 9.7644 - mae: 9.7644\n",
            "Epoch 13/100\n",
            "1/1 [==============================] - 0s 5ms/step - loss: 9.6319 - mae: 9.6319\n",
            "Epoch 14/100\n",
            "1/1 [==============================] - 0s 5ms/step - loss: 9.4994 - mae: 9.4994\n",
            "Epoch 15/100\n",
            "1/1 [==============================] - 0s 6ms/step - loss: 9.3669 - mae: 9.3669\n",
            "Epoch 16/100\n",
            "1/1 [==============================] - 0s 3ms/step - loss: 9.2344 - mae: 9.2344\n",
            "Epoch 17/100\n",
            "1/1 [==============================] - 0s 5ms/step - loss: 9.1019 - mae: 9.1019\n",
            "Epoch 18/100\n",
            "1/1 [==============================] - 0s 3ms/step - loss: 8.9694 - mae: 8.9694\n",
            "Epoch 19/100\n",
            "1/1 [==============================] - 0s 3ms/step - loss: 8.8369 - mae: 8.8369\n",
            "Epoch 20/100\n",
            "1/1 [==============================] - 0s 3ms/step - loss: 8.7044 - mae: 8.7044\n",
            "Epoch 21/100\n",
            "1/1 [==============================] - 0s 5ms/step - loss: 8.5719 - mae: 8.5719\n",
            "Epoch 22/100\n",
            "1/1 [==============================] - 0s 8ms/step - loss: 8.4394 - mae: 8.4394\n",
            "Epoch 23/100\n",
            "1/1 [==============================] - 0s 7ms/step - loss: 8.3069 - mae: 8.3069\n",
            "Epoch 24/100\n",
            "1/1 [==============================] - 0s 5ms/step - loss: 8.1744 - mae: 8.1744\n",
            "Epoch 25/100\n",
            "1/1 [==============================] - 0s 3ms/step - loss: 8.0419 - mae: 8.0419\n",
            "Epoch 26/100\n",
            "1/1 [==============================] - 0s 3ms/step - loss: 7.9094 - mae: 7.9094\n",
            "Epoch 27/100\n",
            "1/1 [==============================] - 0s 4ms/step - loss: 7.7769 - mae: 7.7769\n",
            "Epoch 28/100\n",
            "1/1 [==============================] - 0s 3ms/step - loss: 7.6444 - mae: 7.6444\n",
            "Epoch 29/100\n",
            "1/1 [==============================] - 0s 3ms/step - loss: 7.5119 - mae: 7.5119\n",
            "Epoch 30/100\n",
            "1/1 [==============================] - 0s 4ms/step - loss: 7.3794 - mae: 7.3794\n",
            "Epoch 31/100\n",
            "1/1 [==============================] - 0s 4ms/step - loss: 7.2750 - mae: 7.2750\n",
            "Epoch 32/100\n",
            "1/1 [==============================] - 0s 7ms/step - loss: 7.2694 - mae: 7.2694\n",
            "Epoch 33/100\n",
            "1/1 [==============================] - 0s 4ms/step - loss: 7.2638 - mae: 7.2638\n",
            "Epoch 34/100\n",
            "1/1 [==============================] - 0s 5ms/step - loss: 7.2581 - mae: 7.2581\n",
            "Epoch 35/100\n",
            "1/1 [==============================] - 0s 5ms/step - loss: 7.2525 - mae: 7.2525\n",
            "Epoch 36/100\n",
            "1/1 [==============================] - 0s 5ms/step - loss: 7.2469 - mae: 7.2469\n",
            "Epoch 37/100\n",
            "1/1 [==============================] - 0s 3ms/step - loss: 7.2412 - mae: 7.2412\n",
            "Epoch 38/100\n",
            "1/1 [==============================] - 0s 4ms/step - loss: 7.2356 - mae: 7.2356\n",
            "Epoch 39/100\n",
            "1/1 [==============================] - 0s 6ms/step - loss: 7.2300 - mae: 7.2300\n",
            "Epoch 40/100\n",
            "1/1 [==============================] - 0s 3ms/step - loss: 7.2244 - mae: 7.2244\n",
            "Epoch 41/100\n",
            "1/1 [==============================] - 0s 10ms/step - loss: 7.2188 - mae: 7.2188\n",
            "Epoch 42/100\n",
            "1/1 [==============================] - 0s 4ms/step - loss: 7.2131 - mae: 7.2131\n",
            "Epoch 43/100\n",
            "1/1 [==============================] - 0s 3ms/step - loss: 7.2075 - mae: 7.2075\n",
            "Epoch 44/100\n",
            "1/1 [==============================] - 0s 4ms/step - loss: 7.2019 - mae: 7.2019\n",
            "Epoch 45/100\n",
            "1/1 [==============================] - 0s 4ms/step - loss: 7.1962 - mae: 7.1962\n",
            "Epoch 46/100\n",
            "1/1 [==============================] - 0s 4ms/step - loss: 7.1906 - mae: 7.1906\n",
            "Epoch 47/100\n",
            "1/1 [==============================] - 0s 6ms/step - loss: 7.1850 - mae: 7.1850\n",
            "Epoch 48/100\n",
            "1/1 [==============================] - 0s 8ms/step - loss: 7.1794 - mae: 7.1794\n",
            "Epoch 49/100\n",
            "1/1 [==============================] - 0s 4ms/step - loss: 7.1737 - mae: 7.1737\n",
            "Epoch 50/100\n",
            "1/1 [==============================] - 0s 6ms/step - loss: 7.1681 - mae: 7.1681\n",
            "Epoch 51/100\n",
            "1/1 [==============================] - 0s 6ms/step - loss: 7.1625 - mae: 7.1625\n",
            "Epoch 52/100\n",
            "1/1 [==============================] - 0s 4ms/step - loss: 7.1569 - mae: 7.1569\n",
            "Epoch 53/100\n",
            "1/1 [==============================] - 0s 6ms/step - loss: 7.1512 - mae: 7.1512\n",
            "Epoch 54/100\n",
            "1/1 [==============================] - 0s 4ms/step - loss: 7.1456 - mae: 7.1456\n",
            "Epoch 55/100\n",
            "1/1 [==============================] - 0s 6ms/step - loss: 7.1400 - mae: 7.1400\n",
            "Epoch 56/100\n",
            "1/1 [==============================] - 0s 3ms/step - loss: 7.1344 - mae: 7.1344\n",
            "Epoch 57/100\n",
            "1/1 [==============================] - 0s 4ms/step - loss: 7.1287 - mae: 7.1287\n",
            "Epoch 58/100\n",
            "1/1 [==============================] - 0s 4ms/step - loss: 7.1231 - mae: 7.1231\n",
            "Epoch 59/100\n",
            "1/1 [==============================] - 0s 5ms/step - loss: 7.1175 - mae: 7.1175\n",
            "Epoch 60/100\n",
            "1/1 [==============================] - 0s 6ms/step - loss: 7.1119 - mae: 7.1119\n",
            "Epoch 61/100\n",
            "1/1 [==============================] - 0s 4ms/step - loss: 7.1062 - mae: 7.1062\n",
            "Epoch 62/100\n",
            "1/1 [==============================] - 0s 4ms/step - loss: 7.1006 - mae: 7.1006\n",
            "Epoch 63/100\n",
            "1/1 [==============================] - 0s 4ms/step - loss: 7.0950 - mae: 7.0950\n",
            "Epoch 64/100\n",
            "1/1 [==============================] - 0s 4ms/step - loss: 7.0894 - mae: 7.0894\n",
            "Epoch 65/100\n",
            "1/1 [==============================] - 0s 6ms/step - loss: 7.0838 - mae: 7.0838\n",
            "Epoch 66/100\n",
            "1/1 [==============================] - 0s 4ms/step - loss: 7.0781 - mae: 7.0781\n",
            "Epoch 67/100\n",
            "1/1 [==============================] - 0s 6ms/step - loss: 7.0725 - mae: 7.0725\n",
            "Epoch 68/100\n",
            "1/1 [==============================] - 0s 4ms/step - loss: 7.0669 - mae: 7.0669\n",
            "Epoch 69/100\n",
            "1/1 [==============================] - 0s 6ms/step - loss: 7.0613 - mae: 7.0613\n",
            "Epoch 70/100\n",
            "1/1 [==============================] - 0s 4ms/step - loss: 7.0556 - mae: 7.0556\n",
            "Epoch 71/100\n",
            "1/1 [==============================] - 0s 5ms/step - loss: 7.0500 - mae: 7.0500\n",
            "Epoch 72/100\n",
            "1/1 [==============================] - 0s 4ms/step - loss: 7.0444 - mae: 7.0444\n",
            "Epoch 73/100\n",
            "1/1 [==============================] - 0s 6ms/step - loss: 7.0388 - mae: 7.0388\n",
            "Epoch 74/100\n",
            "1/1 [==============================] - 0s 4ms/step - loss: 7.0331 - mae: 7.0331\n",
            "Epoch 75/100\n",
            "1/1 [==============================] - 0s 4ms/step - loss: 7.0275 - mae: 7.0275\n",
            "Epoch 76/100\n",
            "1/1 [==============================] - 0s 6ms/step - loss: 7.0219 - mae: 7.0219\n",
            "Epoch 77/100\n",
            "1/1 [==============================] - 0s 4ms/step - loss: 7.0163 - mae: 7.0163\n",
            "Epoch 78/100\n",
            "1/1 [==============================] - 0s 7ms/step - loss: 7.0106 - mae: 7.0106\n",
            "Epoch 79/100\n",
            "1/1 [==============================] - 0s 4ms/step - loss: 7.0050 - mae: 7.0050\n",
            "Epoch 80/100\n",
            "1/1 [==============================] - 0s 4ms/step - loss: 6.9994 - mae: 6.9994\n",
            "Epoch 81/100\n",
            "1/1 [==============================] - 0s 7ms/step - loss: 6.9938 - mae: 6.9938\n",
            "Epoch 82/100\n",
            "1/1 [==============================] - 0s 4ms/step - loss: 6.9881 - mae: 6.9881\n",
            "Epoch 83/100\n",
            "1/1 [==============================] - 0s 6ms/step - loss: 6.9825 - mae: 6.9825\n",
            "Epoch 84/100\n",
            "1/1 [==============================] - 0s 6ms/step - loss: 6.9769 - mae: 6.9769\n",
            "Epoch 85/100\n",
            "1/1 [==============================] - 0s 8ms/step - loss: 6.9713 - mae: 6.9713\n",
            "Epoch 86/100\n",
            "1/1 [==============================] - 0s 4ms/step - loss: 6.9656 - mae: 6.9656\n",
            "Epoch 87/100\n",
            "1/1 [==============================] - 0s 6ms/step - loss: 6.9600 - mae: 6.9600\n",
            "Epoch 88/100\n",
            "1/1 [==============================] - 0s 4ms/step - loss: 6.9544 - mae: 6.9544\n",
            "Epoch 89/100\n",
            "1/1 [==============================] - 0s 7ms/step - loss: 6.9488 - mae: 6.9488\n",
            "Epoch 90/100\n",
            "1/1 [==============================] - 0s 4ms/step - loss: 6.9431 - mae: 6.9431\n",
            "Epoch 91/100\n",
            "1/1 [==============================] - 0s 4ms/step - loss: 6.9375 - mae: 6.9375\n",
            "Epoch 92/100\n",
            "1/1 [==============================] - 0s 3ms/step - loss: 6.9319 - mae: 6.9319\n",
            "Epoch 93/100\n",
            "1/1 [==============================] - 0s 6ms/step - loss: 6.9263 - mae: 6.9263\n",
            "Epoch 94/100\n",
            "1/1 [==============================] - 0s 4ms/step - loss: 6.9206 - mae: 6.9206\n",
            "Epoch 95/100\n",
            "1/1 [==============================] - 0s 5ms/step - loss: 6.9150 - mae: 6.9150\n",
            "Epoch 96/100\n",
            "1/1 [==============================] - 0s 6ms/step - loss: 6.9094 - mae: 6.9094\n",
            "Epoch 97/100\n",
            "1/1 [==============================] - 0s 4ms/step - loss: 6.9038 - mae: 6.9038\n",
            "Epoch 98/100\n",
            "1/1 [==============================] - 0s 8ms/step - loss: 6.8981 - mae: 6.8981\n",
            "Epoch 99/100\n",
            "1/1 [==============================] - 0s 3ms/step - loss: 6.8925 - mae: 6.8925\n",
            "Epoch 100/100\n",
            "1/1 [==============================] - 0s 7ms/step - loss: 6.8869 - mae: 6.8869\n"
          ],
          "name": "stdout"
        },
        {
          "output_type": "execute_result",
          "data": {
            "text/plain": [
              "<tensorflow.python.keras.callbacks.History at 0x7fbefda82910>"
            ]
          },
          "metadata": {
            "tags": []
          },
          "execution_count": 19
        }
      ]
    },
    {
      "cell_type": "code",
      "metadata": {
        "colab": {
          "base_uri": "https://localhost:8080/"
        },
        "id": "r8G3QIpcF9Tv",
        "outputId": "faf0cdad-deb0-453f-909b-2badb21d9cd2"
      },
      "source": [
        "# remind ourselves of the data\n",
        "X,y"
      ],
      "execution_count": null,
      "outputs": [
        {
          "output_type": "execute_result",
          "data": {
            "text/plain": [
              "(<tf.Tensor: shape=(8,), dtype=float32, numpy=array([-7., -4., -1.,  2.,  5.,  8., 11., 14.], dtype=float32)>,\n",
              " <tf.Tensor: shape=(8,), dtype=float32, numpy=array([ 3.,  6.,  9., 12., 15., 18., 21., 24.], dtype=float32)>)"
            ]
          },
          "metadata": {
            "tags": []
          },
          "execution_count": 20
        }
      ]
    },
    {
      "cell_type": "code",
      "metadata": {
        "colab": {
          "base_uri": "https://localhost:8080/"
        },
        "id": "0Txmf4xdF9Vt",
        "outputId": "ec4dfe5c-3803-49b0-eefa-942782e4421d"
      },
      "source": [
        "#Let's see if our model's prediction has improved\n",
        "model.predict([17.0])"
      ],
      "execution_count": null,
      "outputs": [
        {
          "output_type": "execute_result",
          "data": {
            "text/plain": [
              "array([[29.739855]], dtype=float32)"
            ]
          },
          "metadata": {
            "tags": []
          },
          "execution_count": 21
        }
      ]
    },
    {
      "cell_type": "code",
      "metadata": {
        "id": "RnlrbtlOF9Xx"
      },
      "source": [
        "# by tweeking one little parameter, we have decreased our error mutlifolds"
      ],
      "execution_count": null,
      "outputs": []
    },
    {
      "cell_type": "markdown",
      "metadata": {
        "id": "MIZuY8alI2GH"
      },
      "source": [
        "### let's try to make it more optimised. \n",
        "* epoch=100 (same as before)\n",
        "* **change** : Creating a model but this time adding one hidden layer with 100 neurons"
      ]
    },
    {
      "cell_type": "code",
      "metadata": {
        "colab": {
          "base_uri": "https://localhost:8080/"
        },
        "id": "BxBYlPCKI2it",
        "outputId": "816ef73c-fec5-47f8-98cc-8fc76bef082f"
      },
      "source": [
        "#.1. Creating a model but this time adding one hidden layer with 100 neurons\n",
        "model = tf.keras.Sequential([\n",
        "                             tf.keras.layers.Dense(100,activation=\"relu\"),\n",
        "                             tf.keras.layers.Dense(1)\n",
        "                             ])\n",
        "# 2. compile the model\n",
        "model.compile(loss=tf.keras.losses.mae,\n",
        "              optimizer=tf.keras.optimizers.SGD(),\n",
        "              metrics=[\"mae\"])\n",
        "#3. Fit the model:\n",
        "model.fit(X,y,epochs=100)\n"
      ],
      "execution_count": null,
      "outputs": [
        {
          "output_type": "stream",
          "text": [
            "Epoch 1/100\n",
            "1/1 [==============================] - 0s 290ms/step - loss: 12.3193 - mae: 12.3193\n",
            "Epoch 2/100\n",
            "1/1 [==============================] - 0s 4ms/step - loss: 11.7804 - mae: 11.7804\n",
            "Epoch 3/100\n",
            "1/1 [==============================] - 0s 6ms/step - loss: 11.2324 - mae: 11.2324\n",
            "Epoch 4/100\n",
            "1/1 [==============================] - 0s 4ms/step - loss: 10.6601 - mae: 10.6601\n",
            "Epoch 5/100\n",
            "1/1 [==============================] - 0s 6ms/step - loss: 10.0632 - mae: 10.0632\n",
            "Epoch 6/100\n",
            "1/1 [==============================] - 0s 5ms/step - loss: 9.4503 - mae: 9.4503\n",
            "Epoch 7/100\n",
            "1/1 [==============================] - 0s 6ms/step - loss: 8.7991 - mae: 8.7991\n",
            "Epoch 8/100\n",
            "1/1 [==============================] - 0s 9ms/step - loss: 8.1072 - mae: 8.1072\n",
            "Epoch 9/100\n",
            "1/1 [==============================] - 0s 5ms/step - loss: 7.3691 - mae: 7.3691\n",
            "Epoch 10/100\n",
            "1/1 [==============================] - 0s 5ms/step - loss: 6.5758 - mae: 6.5758\n",
            "Epoch 11/100\n",
            "1/1 [==============================] - 0s 5ms/step - loss: 5.7205 - mae: 5.7205\n",
            "Epoch 12/100\n",
            "1/1 [==============================] - 0s 3ms/step - loss: 4.7947 - mae: 4.7947\n",
            "Epoch 13/100\n",
            "1/1 [==============================] - 0s 7ms/step - loss: 4.3581 - mae: 4.3581\n",
            "Epoch 14/100\n",
            "1/1 [==============================] - 0s 4ms/step - loss: 4.3134 - mae: 4.3134\n",
            "Epoch 15/100\n",
            "1/1 [==============================] - 0s 6ms/step - loss: 4.2550 - mae: 4.2550\n",
            "Epoch 16/100\n",
            "1/1 [==============================] - 0s 3ms/step - loss: 4.2442 - mae: 4.2442\n",
            "Epoch 17/100\n",
            "1/1 [==============================] - 0s 4ms/step - loss: 4.1520 - mae: 4.1520\n",
            "Epoch 18/100\n",
            "1/1 [==============================] - 0s 6ms/step - loss: 4.1739 - mae: 4.1739\n",
            "Epoch 19/100\n",
            "1/1 [==============================] - 0s 3ms/step - loss: 4.0681 - mae: 4.0681\n",
            "Epoch 20/100\n",
            "1/1 [==============================] - 0s 5ms/step - loss: 4.0807 - mae: 4.0807\n",
            "Epoch 21/100\n",
            "1/1 [==============================] - 0s 6ms/step - loss: 3.9954 - mae: 3.9954\n",
            "Epoch 22/100\n",
            "1/1 [==============================] - 0s 3ms/step - loss: 3.9739 - mae: 3.9739\n",
            "Epoch 23/100\n",
            "1/1 [==============================] - 0s 4ms/step - loss: 3.9208 - mae: 3.9208\n",
            "Epoch 24/100\n",
            "1/1 [==============================] - 0s 5ms/step - loss: 3.9047 - mae: 3.9047\n",
            "Epoch 25/100\n",
            "1/1 [==============================] - 0s 4ms/step - loss: 3.9267 - mae: 3.9267\n",
            "Epoch 26/100\n",
            "1/1 [==============================] - 0s 3ms/step - loss: 3.8797 - mae: 3.8797\n",
            "Epoch 27/100\n",
            "1/1 [==============================] - 0s 4ms/step - loss: 3.9341 - mae: 3.9341\n",
            "Epoch 28/100\n",
            "1/1 [==============================] - 0s 4ms/step - loss: 3.8678 - mae: 3.8678\n",
            "Epoch 29/100\n",
            "1/1 [==============================] - 0s 6ms/step - loss: 3.9274 - mae: 3.9274\n",
            "Epoch 30/100\n",
            "1/1 [==============================] - 0s 3ms/step - loss: 3.8751 - mae: 3.8751\n",
            "Epoch 31/100\n",
            "1/1 [==============================] - 0s 7ms/step - loss: 3.9080 - mae: 3.9080\n",
            "Epoch 32/100\n",
            "1/1 [==============================] - 0s 4ms/step - loss: 3.8893 - mae: 3.8893\n",
            "Epoch 33/100\n",
            "1/1 [==============================] - 0s 6ms/step - loss: 3.8834 - mae: 3.8834\n",
            "Epoch 34/100\n",
            "1/1 [==============================] - 0s 4ms/step - loss: 3.8969 - mae: 3.8969\n",
            "Epoch 35/100\n",
            "1/1 [==============================] - 0s 7ms/step - loss: 3.8581 - mae: 3.8581\n",
            "Epoch 36/100\n",
            "1/1 [==============================] - 0s 4ms/step - loss: 3.9046 - mae: 3.9046\n",
            "Epoch 37/100\n",
            "1/1 [==============================] - 0s 4ms/step - loss: 3.8386 - mae: 3.8386\n",
            "Epoch 38/100\n",
            "1/1 [==============================] - 0s 5ms/step - loss: 3.9054 - mae: 3.9054\n",
            "Epoch 39/100\n",
            "1/1 [==============================] - 0s 4ms/step - loss: 3.8482 - mae: 3.8482\n",
            "Epoch 40/100\n",
            "1/1 [==============================] - 0s 5ms/step - loss: 3.8862 - mae: 3.8862\n",
            "Epoch 41/100\n",
            "1/1 [==============================] - 0s 5ms/step - loss: 3.8605 - mae: 3.8605\n",
            "Epoch 42/100\n",
            "1/1 [==============================] - 0s 9ms/step - loss: 3.8608 - mae: 3.8608\n",
            "Epoch 43/100\n",
            "1/1 [==============================] - 0s 4ms/step - loss: 3.8683 - mae: 3.8683\n",
            "Epoch 44/100\n",
            "1/1 [==============================] - 0s 5ms/step - loss: 3.8352 - mae: 3.8352\n",
            "Epoch 45/100\n",
            "1/1 [==============================] - 0s 5ms/step - loss: 3.8762 - mae: 3.8762\n",
            "Epoch 46/100\n",
            "1/1 [==============================] - 0s 6ms/step - loss: 3.8106 - mae: 3.8106\n",
            "Epoch 47/100\n",
            "1/1 [==============================] - 0s 3ms/step - loss: 3.8821 - mae: 3.8821\n",
            "Epoch 48/100\n",
            "1/1 [==============================] - 0s 9ms/step - loss: 3.8234 - mae: 3.8234\n",
            "Epoch 49/100\n",
            "1/1 [==============================] - 0s 4ms/step - loss: 3.8626 - mae: 3.8626\n",
            "Epoch 50/100\n",
            "1/1 [==============================] - 0s 4ms/step - loss: 3.8328 - mae: 3.8328\n",
            "Epoch 51/100\n",
            "1/1 [==============================] - 0s 4ms/step - loss: 3.8369 - mae: 3.8369\n",
            "Epoch 52/100\n",
            "1/1 [==============================] - 0s 4ms/step - loss: 3.8408 - mae: 3.8408\n",
            "Epoch 53/100\n",
            "1/1 [==============================] - 0s 5ms/step - loss: 3.8111 - mae: 3.8111\n",
            "Epoch 54/100\n",
            "1/1 [==============================] - 0s 7ms/step - loss: 3.8489 - mae: 3.8489\n",
            "Epoch 55/100\n",
            "1/1 [==============================] - 0s 7ms/step - loss: 3.7850 - mae: 3.7850\n",
            "Epoch 56/100\n",
            "1/1 [==============================] - 0s 8ms/step - loss: 3.8585 - mae: 3.8585\n",
            "Epoch 57/100\n",
            "1/1 [==============================] - 0s 7ms/step - loss: 3.7982 - mae: 3.7982\n",
            "Epoch 58/100\n",
            "1/1 [==============================] - 0s 5ms/step - loss: 3.8377 - mae: 3.8377\n",
            "Epoch 59/100\n",
            "1/1 [==============================] - 0s 8ms/step - loss: 3.8062 - mae: 3.8062\n",
            "Epoch 60/100\n",
            "1/1 [==============================] - 0s 6ms/step - loss: 3.8117 - mae: 3.8117\n",
            "Epoch 61/100\n",
            "1/1 [==============================] - 0s 7ms/step - loss: 3.8144 - mae: 3.8144\n",
            "Epoch 62/100\n",
            "1/1 [==============================] - 0s 6ms/step - loss: 3.7856 - mae: 3.7856\n",
            "Epoch 63/100\n",
            "1/1 [==============================] - 0s 6ms/step - loss: 3.8227 - mae: 3.8227\n",
            "Epoch 64/100\n",
            "1/1 [==============================] - 0s 4ms/step - loss: 3.7593 - mae: 3.7593\n",
            "Epoch 65/100\n",
            "1/1 [==============================] - 0s 7ms/step - loss: 3.8352 - mae: 3.8352\n",
            "Epoch 66/100\n",
            "1/1 [==============================] - 0s 8ms/step - loss: 3.7725 - mae: 3.7725\n",
            "Epoch 67/100\n",
            "1/1 [==============================] - 0s 6ms/step - loss: 3.8115 - mae: 3.8115\n",
            "Epoch 68/100\n",
            "1/1 [==============================] - 0s 5ms/step - loss: 3.7807 - mae: 3.7807\n",
            "Epoch 69/100\n",
            "1/1 [==============================] - 0s 9ms/step - loss: 3.7853 - mae: 3.7853\n",
            "Epoch 70/100\n",
            "1/1 [==============================] - 0s 4ms/step - loss: 3.7891 - mae: 3.7891\n",
            "Epoch 71/100\n",
            "1/1 [==============================] - 0s 4ms/step - loss: 3.7588 - mae: 3.7588\n",
            "Epoch 72/100\n",
            "1/1 [==============================] - 0s 5ms/step - loss: 3.7975 - mae: 3.7975\n",
            "Epoch 73/100\n",
            "1/1 [==============================] - 0s 5ms/step - loss: 3.7337 - mae: 3.7337\n",
            "Epoch 74/100\n",
            "1/1 [==============================] - 0s 8ms/step - loss: 3.8105 - mae: 3.8105\n",
            "Epoch 75/100\n",
            "1/1 [==============================] - 0s 4ms/step - loss: 3.7478 - mae: 3.7478\n",
            "Epoch 76/100\n",
            "1/1 [==============================] - 0s 3ms/step - loss: 3.7840 - mae: 3.7840\n",
            "Epoch 77/100\n",
            "1/1 [==============================] - 0s 3ms/step - loss: 3.7563 - mae: 3.7563\n",
            "Epoch 78/100\n",
            "1/1 [==============================] - 0s 4ms/step - loss: 3.7575 - mae: 3.7575\n",
            "Epoch 79/100\n",
            "1/1 [==============================] - 0s 7ms/step - loss: 3.7648 - mae: 3.7648\n",
            "Epoch 80/100\n",
            "1/1 [==============================] - 0s 4ms/step - loss: 3.7307 - mae: 3.7307\n",
            "Epoch 81/100\n",
            "1/1 [==============================] - 0s 5ms/step - loss: 3.7735 - mae: 3.7735\n",
            "Epoch 82/100\n",
            "1/1 [==============================] - 0s 5ms/step - loss: 3.7125 - mae: 3.7125\n",
            "Epoch 83/100\n",
            "1/1 [==============================] - 0s 8ms/step - loss: 3.7820 - mae: 3.7820\n",
            "Epoch 84/100\n",
            "1/1 [==============================] - 0s 9ms/step - loss: 3.7242 - mae: 3.7242\n",
            "Epoch 85/100\n",
            "1/1 [==============================] - 0s 10ms/step - loss: 3.7552 - mae: 3.7552\n",
            "Epoch 86/100\n",
            "1/1 [==============================] - 0s 4ms/step - loss: 3.7329 - mae: 3.7329\n",
            "Epoch 87/100\n",
            "1/1 [==============================] - 0s 5ms/step - loss: 3.7284 - mae: 3.7284\n",
            "Epoch 88/100\n",
            "1/1 [==============================] - 0s 3ms/step - loss: 3.7416 - mae: 3.7416\n",
            "Epoch 89/100\n",
            "1/1 [==============================] - 0s 6ms/step - loss: 3.7013 - mae: 3.7013\n",
            "Epoch 90/100\n",
            "1/1 [==============================] - 0s 7ms/step - loss: 3.7505 - mae: 3.7505\n",
            "Epoch 91/100\n",
            "1/1 [==============================] - 0s 7ms/step - loss: 3.6921 - mae: 3.6921\n",
            "Epoch 92/100\n",
            "1/1 [==============================] - 0s 6ms/step - loss: 3.7522 - mae: 3.7522\n",
            "Epoch 93/100\n",
            "1/1 [==============================] - 0s 7ms/step - loss: 3.7016 - mae: 3.7016\n",
            "Epoch 94/100\n",
            "1/1 [==============================] - 0s 4ms/step - loss: 3.7251 - mae: 3.7251\n",
            "Epoch 95/100\n",
            "1/1 [==============================] - 0s 4ms/step - loss: 3.7105 - mae: 3.7105\n",
            "Epoch 96/100\n",
            "1/1 [==============================] - 0s 5ms/step - loss: 3.6979 - mae: 3.6979\n",
            "Epoch 97/100\n",
            "1/1 [==============================] - 0s 5ms/step - loss: 3.7194 - mae: 3.7194\n",
            "Epoch 98/100\n",
            "1/1 [==============================] - 0s 5ms/step - loss: 3.6705 - mae: 3.6705\n",
            "Epoch 99/100\n",
            "1/1 [==============================] - 0s 5ms/step - loss: 3.7299 - mae: 3.7299\n",
            "Epoch 100/100\n",
            "1/1 [==============================] - 0s 7ms/step - loss: 3.6711 - mae: 3.6711\n"
          ],
          "name": "stdout"
        },
        {
          "output_type": "execute_result",
          "data": {
            "text/plain": [
              "<tensorflow.python.keras.callbacks.History at 0x7fbefc992bd0>"
            ]
          },
          "metadata": {
            "tags": []
          },
          "execution_count": 23
        }
      ]
    },
    {
      "cell_type": "code",
      "metadata": {
        "colab": {
          "base_uri": "https://localhost:8080/"
        },
        "id": "ENPMR3M4I2ly",
        "outputId": "16d6a458-13d9-4cb5-d740-79bc417c3a4e"
      },
      "source": [
        "#reminding ourselves of the dataset:\n",
        "X,y"
      ],
      "execution_count": null,
      "outputs": [
        {
          "output_type": "execute_result",
          "data": {
            "text/plain": [
              "(<tf.Tensor: shape=(8,), dtype=float32, numpy=array([-7., -4., -1.,  2.,  5.,  8., 11., 14.], dtype=float32)>,\n",
              " <tf.Tensor: shape=(8,), dtype=float32, numpy=array([ 3.,  6.,  9., 12., 15., 18., 21., 24.], dtype=float32)>)"
            ]
          },
          "metadata": {
            "tags": []
          },
          "execution_count": 24
        }
      ]
    },
    {
      "cell_type": "code",
      "metadata": {
        "colab": {
          "base_uri": "https://localhost:8080/"
        },
        "id": "OVpSC9rKI2pH",
        "outputId": "9a81de37-1dd7-444a-bcee-da81484dc013"
      },
      "source": [
        "model.predict([17.0])"
      ],
      "execution_count": null,
      "outputs": [
        {
          "output_type": "execute_result",
          "data": {
            "text/plain": [
              "array([[31.223137]], dtype=float32)"
            ]
          },
          "metadata": {
            "tags": []
          },
          "execution_count": 25
        }
      ]
    },
    {
      "cell_type": "markdown",
      "metadata": {
        "id": "_tvS20bWI2rp"
      },
      "source": [
        "###it seems like our earlier model was performing better. This could be an **OVERFITTING PROBLEM**\n",
        "\n",
        "**Overfitting**:\n",
        "\n",
        "A statistical model is said to be overfitted, when we train it with a lot of data (just like fitting ourselves in oversized pants!).  **When a model gets trained with so much of data, it starts learning from the noise and inaccurate data entries in our data set. Then the model does not categorize the data correctly, because of too many details and noise.**\n",
        "\n",
        "The causes of overfitting are the non-parametric and non-linear methods because these types of machine learning algorithms have more freedom in building the model based on the dataset and therefore they can really build unrealistic models."
      ]
    },
    {
      "cell_type": "markdown",
      "metadata": {
        "id": "sgIjko6_iBx8"
      },
      "source": [
        "### let's try to make it more optimised. \n",
        "* epoch=100 (same as before)\n",
        "* Creating a model: one hidden layer with 100 neurons(same as before)\n",
        "* **change** : Creating a model but this time making activation = none"
      ]
    },
    {
      "cell_type": "code",
      "metadata": {
        "colab": {
          "base_uri": "https://localhost:8080/"
        },
        "id": "TRfBfrMyI2xX",
        "outputId": "6a080746-8c78-4cc4-9385-7875f9b8a36f"
      },
      "source": [
        "#.1. Creating a model but this time making activation = none\n",
        "model = tf.keras.Sequential([\n",
        "                             tf.keras.layers.Dense(100,activation=None),\n",
        "                             tf.keras.layers.Dense(1)\n",
        "                             ])\n",
        "# 2. compile the model\n",
        "model.compile(loss=tf.keras.losses.mae,\n",
        "              optimizer=tf.keras.optimizers.SGD(),\n",
        "              metrics=[\"mae\"])\n",
        "#3. Fit the model:\n",
        "model.fit(X,y,epochs=100)"
      ],
      "execution_count": null,
      "outputs": [
        {
          "output_type": "stream",
          "text": [
            "Epoch 1/100\n",
            "1/1 [==============================] - 0s 318ms/step - loss: 12.9917 - mae: 12.9917\n",
            "Epoch 2/100\n",
            "1/1 [==============================] - 0s 4ms/step - loss: 12.4876 - mae: 12.4876\n",
            "Epoch 3/100\n",
            "1/1 [==============================] - 0s 3ms/step - loss: 11.9795 - mae: 11.9795\n",
            "Epoch 4/100\n",
            "1/1 [==============================] - 0s 5ms/step - loss: 11.4648 - mae: 11.4648\n",
            "Epoch 5/100\n",
            "1/1 [==============================] - 0s 5ms/step - loss: 10.9408 - mae: 10.9408\n",
            "Epoch 6/100\n",
            "1/1 [==============================] - 0s 3ms/step - loss: 10.4048 - mae: 10.4048\n",
            "Epoch 7/100\n",
            "1/1 [==============================] - 0s 5ms/step - loss: 9.8541 - mae: 9.8541\n",
            "Epoch 8/100\n",
            "1/1 [==============================] - 0s 5ms/step - loss: 9.2858 - mae: 9.2858\n",
            "Epoch 9/100\n",
            "1/1 [==============================] - 0s 4ms/step - loss: 8.6971 - mae: 8.6971\n",
            "Epoch 10/100\n",
            "1/1 [==============================] - 0s 5ms/step - loss: 8.0848 - mae: 8.0848\n",
            "Epoch 11/100\n",
            "1/1 [==============================] - 0s 6ms/step - loss: 7.4459 - mae: 7.4459\n",
            "Epoch 12/100\n",
            "1/1 [==============================] - 0s 4ms/step - loss: 7.2205 - mae: 7.2205\n",
            "Epoch 13/100\n",
            "1/1 [==============================] - 0s 5ms/step - loss: 7.1996 - mae: 7.1996\n",
            "Epoch 14/100\n",
            "1/1 [==============================] - 0s 5ms/step - loss: 7.1786 - mae: 7.1786\n",
            "Epoch 15/100\n",
            "1/1 [==============================] - 0s 4ms/step - loss: 7.1575 - mae: 7.1575\n",
            "Epoch 16/100\n",
            "1/1 [==============================] - 0s 4ms/step - loss: 7.1364 - mae: 7.1364\n",
            "Epoch 17/100\n",
            "1/1 [==============================] - 0s 6ms/step - loss: 7.1152 - mae: 7.1152\n",
            "Epoch 18/100\n",
            "1/1 [==============================] - 0s 4ms/step - loss: 7.0940 - mae: 7.0940\n",
            "Epoch 19/100\n",
            "1/1 [==============================] - 0s 4ms/step - loss: 7.0727 - mae: 7.0727\n",
            "Epoch 20/100\n",
            "1/1 [==============================] - 0s 10ms/step - loss: 7.0514 - mae: 7.0514\n",
            "Epoch 21/100\n",
            "1/1 [==============================] - 0s 3ms/step - loss: 7.0299 - mae: 7.0299\n",
            "Epoch 22/100\n",
            "1/1 [==============================] - 0s 3ms/step - loss: 7.0084 - mae: 7.0084\n",
            "Epoch 23/100\n",
            "1/1 [==============================] - 0s 4ms/step - loss: 6.9869 - mae: 6.9869\n",
            "Epoch 24/100\n",
            "1/1 [==============================] - 0s 3ms/step - loss: 6.9652 - mae: 6.9652\n",
            "Epoch 25/100\n",
            "1/1 [==============================] - 0s 3ms/step - loss: 6.9434 - mae: 6.9434\n",
            "Epoch 26/100\n",
            "1/1 [==============================] - 0s 4ms/step - loss: 6.9216 - mae: 6.9216\n",
            "Epoch 27/100\n",
            "1/1 [==============================] - 0s 20ms/step - loss: 6.9136 - mae: 6.9136\n",
            "Epoch 28/100\n",
            "1/1 [==============================] - 0s 6ms/step - loss: 6.8924 - mae: 6.8924\n",
            "Epoch 29/100\n",
            "1/1 [==============================] - 0s 6ms/step - loss: 6.8709 - mae: 6.8709\n",
            "Epoch 30/100\n",
            "1/1 [==============================] - 0s 5ms/step - loss: 6.8493 - mae: 6.8493\n",
            "Epoch 31/100\n",
            "1/1 [==============================] - 0s 6ms/step - loss: 6.8275 - mae: 6.8275\n",
            "Epoch 32/100\n",
            "1/1 [==============================] - 0s 4ms/step - loss: 6.8057 - mae: 6.8057\n",
            "Epoch 33/100\n",
            "1/1 [==============================] - 0s 9ms/step - loss: 6.7838 - mae: 6.7838\n",
            "Epoch 34/100\n",
            "1/1 [==============================] - 0s 5ms/step - loss: 6.7617 - mae: 6.7617\n",
            "Epoch 35/100\n",
            "1/1 [==============================] - 0s 8ms/step - loss: 6.7395 - mae: 6.7395\n",
            "Epoch 36/100\n",
            "1/1 [==============================] - 0s 8ms/step - loss: 6.7172 - mae: 6.7172\n",
            "Epoch 37/100\n",
            "1/1 [==============================] - 0s 5ms/step - loss: 6.6948 - mae: 6.6948\n",
            "Epoch 38/100\n",
            "1/1 [==============================] - 0s 9ms/step - loss: 6.6722 - mae: 6.6722\n",
            "Epoch 39/100\n",
            "1/1 [==============================] - 0s 8ms/step - loss: 6.6495 - mae: 6.6495\n",
            "Epoch 40/100\n",
            "1/1 [==============================] - 0s 3ms/step - loss: 6.6267 - mae: 6.6267\n",
            "Epoch 41/100\n",
            "1/1 [==============================] - 0s 6ms/step - loss: 6.6037 - mae: 6.6037\n",
            "Epoch 42/100\n",
            "1/1 [==============================] - 0s 9ms/step - loss: 6.5806 - mae: 6.5806\n",
            "Epoch 43/100\n",
            "1/1 [==============================] - 0s 7ms/step - loss: 6.5573 - mae: 6.5573\n",
            "Epoch 44/100\n",
            "1/1 [==============================] - 0s 5ms/step - loss: 6.5339 - mae: 6.5339\n",
            "Epoch 45/100\n",
            "1/1 [==============================] - 0s 4ms/step - loss: 6.5104 - mae: 6.5104\n",
            "Epoch 46/100\n",
            "1/1 [==============================] - 0s 8ms/step - loss: 6.4866 - mae: 6.4866\n",
            "Epoch 47/100\n",
            "1/1 [==============================] - 0s 4ms/step - loss: 6.4627 - mae: 6.4627\n",
            "Epoch 48/100\n",
            "1/1 [==============================] - 0s 5ms/step - loss: 6.4387 - mae: 6.4387\n",
            "Epoch 49/100\n",
            "1/1 [==============================] - 0s 3ms/step - loss: 6.4144 - mae: 6.4144\n",
            "Epoch 50/100\n",
            "1/1 [==============================] - 0s 5ms/step - loss: 6.3936 - mae: 6.3936\n",
            "Epoch 51/100\n",
            "1/1 [==============================] - 0s 3ms/step - loss: 6.3868 - mae: 6.3868\n",
            "Epoch 52/100\n",
            "1/1 [==============================] - 0s 5ms/step - loss: 6.3626 - mae: 6.3626\n",
            "Epoch 53/100\n",
            "1/1 [==============================] - 0s 3ms/step - loss: 6.3382 - mae: 6.3382\n",
            "Epoch 54/100\n",
            "1/1 [==============================] - 0s 6ms/step - loss: 6.3136 - mae: 6.3136\n",
            "Epoch 55/100\n",
            "1/1 [==============================] - 0s 6ms/step - loss: 6.2889 - mae: 6.2889\n",
            "Epoch 56/100\n",
            "1/1 [==============================] - 0s 4ms/step - loss: 6.2639 - mae: 6.2639\n",
            "Epoch 57/100\n",
            "1/1 [==============================] - 0s 4ms/step - loss: 6.2388 - mae: 6.2388\n",
            "Epoch 58/100\n",
            "1/1 [==============================] - 0s 5ms/step - loss: 6.2134 - mae: 6.2134\n",
            "Epoch 59/100\n",
            "1/1 [==============================] - 0s 3ms/step - loss: 6.1879 - mae: 6.1879\n",
            "Epoch 60/100\n",
            "1/1 [==============================] - 0s 6ms/step - loss: 6.1621 - mae: 6.1621\n",
            "Epoch 61/100\n",
            "1/1 [==============================] - 0s 4ms/step - loss: 6.1361 - mae: 6.1361\n",
            "Epoch 62/100\n",
            "1/1 [==============================] - 0s 3ms/step - loss: 6.1098 - mae: 6.1098\n",
            "Epoch 63/100\n",
            "1/1 [==============================] - 0s 6ms/step - loss: 6.0834 - mae: 6.0834\n",
            "Epoch 64/100\n",
            "1/1 [==============================] - 0s 3ms/step - loss: 6.0567 - mae: 6.0567\n",
            "Epoch 65/100\n",
            "1/1 [==============================] - 0s 5ms/step - loss: 6.0298 - mae: 6.0298\n",
            "Epoch 66/100\n",
            "1/1 [==============================] - 0s 4ms/step - loss: 6.0026 - mae: 6.0026\n",
            "Epoch 67/100\n",
            "1/1 [==============================] - 0s 6ms/step - loss: 5.9751 - mae: 5.9751\n",
            "Epoch 68/100\n",
            "1/1 [==============================] - 0s 4ms/step - loss: 5.9475 - mae: 5.9475\n",
            "Epoch 69/100\n",
            "1/1 [==============================] - 0s 4ms/step - loss: 5.9451 - mae: 5.9451\n",
            "Epoch 70/100\n",
            "1/1 [==============================] - 0s 7ms/step - loss: 5.9181 - mae: 5.9181\n",
            "Epoch 71/100\n",
            "1/1 [==============================] - 0s 4ms/step - loss: 5.8903 - mae: 5.8903\n",
            "Epoch 72/100\n",
            "1/1 [==============================] - 0s 7ms/step - loss: 5.8621 - mae: 5.8621\n",
            "Epoch 73/100\n",
            "1/1 [==============================] - 0s 4ms/step - loss: 5.8337 - mae: 5.8337\n",
            "Epoch 74/100\n",
            "1/1 [==============================] - 0s 4ms/step - loss: 5.8051 - mae: 5.8051\n",
            "Epoch 75/100\n",
            "1/1 [==============================] - 0s 6ms/step - loss: 5.7761 - mae: 5.7761\n",
            "Epoch 76/100\n",
            "1/1 [==============================] - 0s 4ms/step - loss: 5.7469 - mae: 5.7469\n",
            "Epoch 77/100\n",
            "1/1 [==============================] - 0s 7ms/step - loss: 5.7173 - mae: 5.7173\n",
            "Epoch 78/100\n",
            "1/1 [==============================] - 0s 4ms/step - loss: 5.6875 - mae: 5.6875\n",
            "Epoch 79/100\n",
            "1/1 [==============================] - 0s 4ms/step - loss: 5.6574 - mae: 5.6574\n",
            "Epoch 80/100\n",
            "1/1 [==============================] - 0s 3ms/step - loss: 5.6269 - mae: 5.6269\n",
            "Epoch 81/100\n",
            "1/1 [==============================] - 0s 6ms/step - loss: 5.5962 - mae: 5.5962\n",
            "Epoch 82/100\n",
            "1/1 [==============================] - 0s 4ms/step - loss: 5.5651 - mae: 5.5651\n",
            "Epoch 83/100\n",
            "1/1 [==============================] - 0s 4ms/step - loss: 5.5337 - mae: 5.5337\n",
            "Epoch 84/100\n",
            "1/1 [==============================] - 0s 6ms/step - loss: 5.5095 - mae: 5.5095\n",
            "Epoch 85/100\n",
            "1/1 [==============================] - 0s 4ms/step - loss: 5.5301 - mae: 5.5301\n",
            "Epoch 86/100\n",
            "1/1 [==============================] - 0s 4ms/step - loss: 5.6170 - mae: 5.6170\n",
            "Epoch 87/100\n",
            "1/1 [==============================] - 0s 7ms/step - loss: 5.4327 - mae: 5.4327\n",
            "Epoch 88/100\n",
            "1/1 [==============================] - 0s 4ms/step - loss: 5.4002 - mae: 5.4002\n",
            "Epoch 89/100\n",
            "1/1 [==============================] - 0s 4ms/step - loss: 5.3672 - mae: 5.3672\n",
            "Epoch 90/100\n",
            "1/1 [==============================] - 0s 7ms/step - loss: 5.3339 - mae: 5.3339\n",
            "Epoch 91/100\n",
            "1/1 [==============================] - 0s 12ms/step - loss: 5.3002 - mae: 5.3002\n",
            "Epoch 92/100\n",
            "1/1 [==============================] - 0s 8ms/step - loss: 5.2662 - mae: 5.2662\n",
            "Epoch 93/100\n",
            "1/1 [==============================] - 0s 4ms/step - loss: 5.2317 - mae: 5.2317\n",
            "Epoch 94/100\n",
            "1/1 [==============================] - 0s 4ms/step - loss: 5.1969 - mae: 5.1969\n",
            "Epoch 95/100\n",
            "1/1 [==============================] - 0s 8ms/step - loss: 5.1696 - mae: 5.1696\n",
            "Epoch 96/100\n",
            "1/1 [==============================] - 0s 3ms/step - loss: 5.2380 - mae: 5.2380\n",
            "Epoch 97/100\n",
            "1/1 [==============================] - 0s 4ms/step - loss: 5.2805 - mae: 5.2805\n",
            "Epoch 98/100\n",
            "1/1 [==============================] - 0s 6ms/step - loss: 5.0846 - mae: 5.0846\n",
            "Epoch 99/100\n",
            "1/1 [==============================] - 0s 3ms/step - loss: 5.0483 - mae: 5.0483\n",
            "Epoch 100/100\n",
            "1/1 [==============================] - 0s 6ms/step - loss: 5.0116 - mae: 5.0116\n"
          ],
          "name": "stdout"
        },
        {
          "output_type": "execute_result",
          "data": {
            "text/plain": [
              "<tensorflow.python.keras.callbacks.History at 0x7fbefb838850>"
            ]
          },
          "metadata": {
            "tags": []
          },
          "execution_count": 26
        }
      ]
    },
    {
      "cell_type": "code",
      "metadata": {
        "colab": {
          "base_uri": "https://localhost:8080/"
        },
        "id": "sRPogv0MOedT",
        "outputId": "68bff240-b0f3-49b4-a8ee-961e9cc71cef"
      },
      "source": [
        "model.predict([17.0])"
      ],
      "execution_count": null,
      "outputs": [
        {
          "output_type": "execute_result",
          "data": {
            "text/plain": [
              "array([[29.69169]], dtype=float32)"
            ]
          },
          "metadata": {
            "tags": []
          },
          "execution_count": 27
        }
      ]
    },
    {
      "cell_type": "markdown",
      "metadata": {
        "id": "ORnYhGiUier3"
      },
      "source": [
        "### that didn't prove to make our model better. So let us try to make it better"
      ]
    },
    {
      "cell_type": "markdown",
      "metadata": {
        "id": "ltd1MQpFg6J9"
      },
      "source": [
        "###THE CHANGES\n",
        "* epoch=100 (same as before)\n",
        "* Creating a model: one hidden layer with 100 neurons(same as before)\n",
        "* Creating a model with activation = none\n",
        "* compile the model but this time changing the optimizer, i.e., from SGD TO ADAM()"
      ]
    },
    {
      "cell_type": "code",
      "metadata": {
        "colab": {
          "base_uri": "https://localhost:8080/"
        },
        "id": "bsmBQqrpO-GC",
        "outputId": "4c2ad77b-6598-4e2a-fa60-24306913d238"
      },
      "source": [
        "#.1. Creating a model \n",
        "model = tf.keras.Sequential([\n",
        "                             tf.keras.layers.Dense(100,activation=None),\n",
        "                             tf.keras.layers.Dense(1)\n",
        "                             ])\n",
        "# 2. compile the model but this time changing the optimizer\n",
        "model.compile(loss=tf.keras.losses.mae,\n",
        "              optimizer=tf.keras.optimizers.Adam(),\n",
        "              metrics=[\"mae\"])\n",
        "#3. Fit the model:\n",
        "model.fit(X,y,epochs=100)"
      ],
      "execution_count": null,
      "outputs": [
        {
          "output_type": "stream",
          "text": [
            "Epoch 1/100\n",
            "1/1 [==============================] - 0s 354ms/step - loss: 13.4562 - mae: 13.4562\n",
            "Epoch 2/100\n",
            "1/1 [==============================] - 0s 6ms/step - loss: 13.3526 - mae: 13.3526\n",
            "Epoch 3/100\n",
            "1/1 [==============================] - 0s 5ms/step - loss: 13.2489 - mae: 13.2489\n",
            "Epoch 4/100\n",
            "1/1 [==============================] - 0s 6ms/step - loss: 13.1452 - mae: 13.1452\n",
            "Epoch 5/100\n",
            "1/1 [==============================] - 0s 9ms/step - loss: 13.0414 - mae: 13.0414\n",
            "Epoch 6/100\n",
            "1/1 [==============================] - 0s 4ms/step - loss: 12.9377 - mae: 12.9377\n",
            "Epoch 7/100\n",
            "1/1 [==============================] - 0s 7ms/step - loss: 12.8338 - mae: 12.8338\n",
            "Epoch 8/100\n",
            "1/1 [==============================] - 0s 14ms/step - loss: 12.7300 - mae: 12.7300\n",
            "Epoch 9/100\n",
            "1/1 [==============================] - 0s 5ms/step - loss: 12.6260 - mae: 12.6260\n",
            "Epoch 10/100\n",
            "1/1 [==============================] - 0s 7ms/step - loss: 12.5220 - mae: 12.5220\n",
            "Epoch 11/100\n",
            "1/1 [==============================] - 0s 5ms/step - loss: 12.4180 - mae: 12.4180\n",
            "Epoch 12/100\n",
            "1/1 [==============================] - 0s 8ms/step - loss: 12.3138 - mae: 12.3138\n",
            "Epoch 13/100\n",
            "1/1 [==============================] - 0s 4ms/step - loss: 12.2095 - mae: 12.2095\n",
            "Epoch 14/100\n",
            "1/1 [==============================] - 0s 4ms/step - loss: 12.1052 - mae: 12.1052\n",
            "Epoch 15/100\n",
            "1/1 [==============================] - 0s 5ms/step - loss: 12.0007 - mae: 12.0007\n",
            "Epoch 16/100\n",
            "1/1 [==============================] - 0s 4ms/step - loss: 11.8960 - mae: 11.8960\n",
            "Epoch 17/100\n",
            "1/1 [==============================] - 0s 5ms/step - loss: 11.7912 - mae: 11.7912\n",
            "Epoch 18/100\n",
            "1/1 [==============================] - 0s 8ms/step - loss: 11.6863 - mae: 11.6863\n",
            "Epoch 19/100\n",
            "1/1 [==============================] - 0s 7ms/step - loss: 11.5812 - mae: 11.5812\n",
            "Epoch 20/100\n",
            "1/1 [==============================] - 0s 5ms/step - loss: 11.4759 - mae: 11.4759\n",
            "Epoch 21/100\n",
            "1/1 [==============================] - 0s 5ms/step - loss: 11.3703 - mae: 11.3703\n",
            "Epoch 22/100\n",
            "1/1 [==============================] - 0s 5ms/step - loss: 11.2646 - mae: 11.2646\n",
            "Epoch 23/100\n",
            "1/1 [==============================] - 0s 4ms/step - loss: 11.1586 - mae: 11.1586\n",
            "Epoch 24/100\n",
            "1/1 [==============================] - 0s 5ms/step - loss: 11.0524 - mae: 11.0524\n",
            "Epoch 25/100\n",
            "1/1 [==============================] - 0s 6ms/step - loss: 10.9459 - mae: 10.9459\n",
            "Epoch 26/100\n",
            "1/1 [==============================] - 0s 5ms/step - loss: 10.8391 - mae: 10.8391\n",
            "Epoch 27/100\n",
            "1/1 [==============================] - 0s 6ms/step - loss: 10.7320 - mae: 10.7320\n",
            "Epoch 28/100\n",
            "1/1 [==============================] - 0s 6ms/step - loss: 10.6246 - mae: 10.6246\n",
            "Epoch 29/100\n",
            "1/1 [==============================] - 0s 21ms/step - loss: 10.5169 - mae: 10.5169\n",
            "Epoch 30/100\n",
            "1/1 [==============================] - 0s 8ms/step - loss: 10.4088 - mae: 10.4088\n",
            "Epoch 31/100\n",
            "1/1 [==============================] - 0s 6ms/step - loss: 10.3004 - mae: 10.3004\n",
            "Epoch 32/100\n",
            "1/1 [==============================] - 0s 11ms/step - loss: 10.1916 - mae: 10.1916\n",
            "Epoch 33/100\n",
            "1/1 [==============================] - 0s 6ms/step - loss: 10.0823 - mae: 10.0823\n",
            "Epoch 34/100\n",
            "1/1 [==============================] - 0s 6ms/step - loss: 9.9727 - mae: 9.9727\n",
            "Epoch 35/100\n",
            "1/1 [==============================] - 0s 5ms/step - loss: 9.8626 - mae: 9.8626\n",
            "Epoch 36/100\n",
            "1/1 [==============================] - 0s 7ms/step - loss: 9.7521 - mae: 9.7521\n",
            "Epoch 37/100\n",
            "1/1 [==============================] - 0s 5ms/step - loss: 9.6411 - mae: 9.6411\n",
            "Epoch 38/100\n",
            "1/1 [==============================] - 0s 5ms/step - loss: 9.5296 - mae: 9.5296\n",
            "Epoch 39/100\n",
            "1/1 [==============================] - 0s 6ms/step - loss: 9.4176 - mae: 9.4176\n",
            "Epoch 40/100\n",
            "1/1 [==============================] - 0s 6ms/step - loss: 9.3051 - mae: 9.3051\n",
            "Epoch 41/100\n",
            "1/1 [==============================] - 0s 5ms/step - loss: 9.1920 - mae: 9.1920\n",
            "Epoch 42/100\n",
            "1/1 [==============================] - 0s 6ms/step - loss: 9.0784 - mae: 9.0784\n",
            "Epoch 43/100\n",
            "1/1 [==============================] - 0s 6ms/step - loss: 8.9642 - mae: 8.9642\n",
            "Epoch 44/100\n",
            "1/1 [==============================] - 0s 5ms/step - loss: 8.8494 - mae: 8.8494\n",
            "Epoch 45/100\n",
            "1/1 [==============================] - 0s 6ms/step - loss: 8.7340 - mae: 8.7340\n",
            "Epoch 46/100\n",
            "1/1 [==============================] - 0s 6ms/step - loss: 8.6180 - mae: 8.6180\n",
            "Epoch 47/100\n",
            "1/1 [==============================] - 0s 5ms/step - loss: 8.5013 - mae: 8.5013\n",
            "Epoch 48/100\n",
            "1/1 [==============================] - 0s 12ms/step - loss: 8.3840 - mae: 8.3840\n",
            "Epoch 49/100\n",
            "1/1 [==============================] - 0s 4ms/step - loss: 8.2660 - mae: 8.2660\n",
            "Epoch 50/100\n",
            "1/1 [==============================] - 0s 4ms/step - loss: 8.1473 - mae: 8.1473\n",
            "Epoch 51/100\n",
            "1/1 [==============================] - 0s 5ms/step - loss: 8.0278 - mae: 8.0278\n",
            "Epoch 52/100\n",
            "1/1 [==============================] - 0s 7ms/step - loss: 7.9077 - mae: 7.9077\n",
            "Epoch 53/100\n",
            "1/1 [==============================] - 0s 7ms/step - loss: 7.7868 - mae: 7.7868\n",
            "Epoch 54/100\n",
            "1/1 [==============================] - 0s 8ms/step - loss: 7.6651 - mae: 7.6651\n",
            "Epoch 55/100\n",
            "1/1 [==============================] - 0s 15ms/step - loss: 7.5427 - mae: 7.5427\n",
            "Epoch 56/100\n",
            "1/1 [==============================] - 0s 5ms/step - loss: 7.4194 - mae: 7.4194\n",
            "Epoch 57/100\n",
            "1/1 [==============================] - 0s 8ms/step - loss: 7.2954 - mae: 7.2954\n",
            "Epoch 58/100\n",
            "1/1 [==============================] - 0s 4ms/step - loss: 7.1705 - mae: 7.1705\n",
            "Epoch 59/100\n",
            "1/1 [==============================] - 0s 12ms/step - loss: 7.0448 - mae: 7.0448\n",
            "Epoch 60/100\n",
            "1/1 [==============================] - 0s 4ms/step - loss: 6.9182 - mae: 6.9182\n",
            "Epoch 61/100\n",
            "1/1 [==============================] - 0s 5ms/step - loss: 6.7953 - mae: 6.7953\n",
            "Epoch 62/100\n",
            "1/1 [==============================] - 0s 5ms/step - loss: 6.7808 - mae: 6.7808\n",
            "Epoch 63/100\n",
            "1/1 [==============================] - 0s 6ms/step - loss: 6.7666 - mae: 6.7666\n",
            "Epoch 64/100\n",
            "1/1 [==============================] - 0s 6ms/step - loss: 6.7526 - mae: 6.7526\n",
            "Epoch 65/100\n",
            "1/1 [==============================] - 0s 8ms/step - loss: 6.7389 - mae: 6.7389\n",
            "Epoch 66/100\n",
            "1/1 [==============================] - 0s 6ms/step - loss: 6.7253 - mae: 6.7253\n",
            "Epoch 67/100\n",
            "1/1 [==============================] - 0s 16ms/step - loss: 6.7119 - mae: 6.7119\n",
            "Epoch 68/100\n",
            "1/1 [==============================] - 0s 3ms/step - loss: 6.6987 - mae: 6.6987\n",
            "Epoch 69/100\n",
            "1/1 [==============================] - 0s 6ms/step - loss: 6.7012 - mae: 6.7012\n",
            "Epoch 70/100\n",
            "1/1 [==============================] - 0s 4ms/step - loss: 6.7225 - mae: 6.7225\n",
            "Epoch 71/100\n",
            "1/1 [==============================] - 0s 5ms/step - loss: 6.7339 - mae: 6.7339\n",
            "Epoch 72/100\n",
            "1/1 [==============================] - 0s 5ms/step - loss: 6.7363 - mae: 6.7363\n",
            "Epoch 73/100\n",
            "1/1 [==============================] - 0s 6ms/step - loss: 6.7304 - mae: 6.7304\n",
            "Epoch 74/100\n",
            "1/1 [==============================] - 0s 6ms/step - loss: 6.7173 - mae: 6.7173\n",
            "Epoch 75/100\n",
            "1/1 [==============================] - 0s 6ms/step - loss: 6.6975 - mae: 6.6975\n",
            "Epoch 76/100\n",
            "1/1 [==============================] - 0s 4ms/step - loss: 6.6718 - mae: 6.6718\n",
            "Epoch 77/100\n",
            "1/1 [==============================] - 0s 7ms/step - loss: 6.6408 - mae: 6.6408\n",
            "Epoch 78/100\n",
            "1/1 [==============================] - 0s 4ms/step - loss: 6.6051 - mae: 6.6051\n",
            "Epoch 79/100\n",
            "1/1 [==============================] - 0s 6ms/step - loss: 6.5853 - mae: 6.5853\n",
            "Epoch 80/100\n",
            "1/1 [==============================] - 0s 5ms/step - loss: 6.5768 - mae: 6.5768\n",
            "Epoch 81/100\n",
            "1/1 [==============================] - 0s 7ms/step - loss: 6.5679 - mae: 6.5679\n",
            "Epoch 82/100\n",
            "1/1 [==============================] - 0s 6ms/step - loss: 6.5587 - mae: 6.5587\n",
            "Epoch 83/100\n",
            "1/1 [==============================] - 0s 6ms/step - loss: 6.5493 - mae: 6.5493\n",
            "Epoch 84/100\n",
            "1/1 [==============================] - 0s 7ms/step - loss: 6.5396 - mae: 6.5396\n",
            "Epoch 85/100\n",
            "1/1 [==============================] - 0s 5ms/step - loss: 6.5296 - mae: 6.5296\n",
            "Epoch 86/100\n",
            "1/1 [==============================] - 0s 6ms/step - loss: 6.5194 - mae: 6.5194\n",
            "Epoch 87/100\n",
            "1/1 [==============================] - 0s 5ms/step - loss: 6.5090 - mae: 6.5090\n",
            "Epoch 88/100\n",
            "1/1 [==============================] - 0s 7ms/step - loss: 6.4984 - mae: 6.4984\n",
            "Epoch 89/100\n",
            "1/1 [==============================] - 0s 4ms/step - loss: 6.4876 - mae: 6.4876\n",
            "Epoch 90/100\n",
            "1/1 [==============================] - 0s 5ms/step - loss: 6.4767 - mae: 6.4767\n",
            "Epoch 91/100\n",
            "1/1 [==============================] - 0s 13ms/step - loss: 6.4656 - mae: 6.4656\n",
            "Epoch 92/100\n",
            "1/1 [==============================] - 0s 4ms/step - loss: 6.4543 - mae: 6.4543\n",
            "Epoch 93/100\n",
            "1/1 [==============================] - 0s 5ms/step - loss: 6.4429 - mae: 6.4429\n",
            "Epoch 94/100\n",
            "1/1 [==============================] - 0s 12ms/step - loss: 6.4313 - mae: 6.4313\n",
            "Epoch 95/100\n",
            "1/1 [==============================] - 0s 6ms/step - loss: 6.4196 - mae: 6.4196\n",
            "Epoch 96/100\n",
            "1/1 [==============================] - 0s 7ms/step - loss: 6.4078 - mae: 6.4078\n",
            "Epoch 97/100\n",
            "1/1 [==============================] - 0s 4ms/step - loss: 6.3958 - mae: 6.3958\n",
            "Epoch 98/100\n",
            "1/1 [==============================] - 0s 6ms/step - loss: 6.3837 - mae: 6.3837\n",
            "Epoch 99/100\n",
            "1/1 [==============================] - 0s 5ms/step - loss: 6.3715 - mae: 6.3715\n",
            "Epoch 100/100\n",
            "1/1 [==============================] - 0s 7ms/step - loss: 6.3592 - mae: 6.3592\n"
          ],
          "name": "stdout"
        },
        {
          "output_type": "execute_result",
          "data": {
            "text/plain": [
              "<tensorflow.python.keras.callbacks.History at 0x7fbefa74ec50>"
            ]
          },
          "metadata": {
            "tags": []
          },
          "execution_count": 28
        }
      ]
    },
    {
      "cell_type": "code",
      "metadata": {
        "colab": {
          "base_uri": "https://localhost:8080/"
        },
        "id": "iaSXpIJiO-DU",
        "outputId": "3089fe43-0654-42b0-e75c-efdf848fc6c4"
      },
      "source": [
        "model.predict([17.0])"
      ],
      "execution_count": null,
      "outputs": [
        {
          "output_type": "stream",
          "text": [
            "WARNING:tensorflow:5 out of the last 5 calls to <function Model.make_predict_function.<locals>.predict_function at 0x7fbefa7289e0> triggered tf.function retracing. Tracing is expensive and the excessive number of tracings could be due to (1) creating @tf.function repeatedly in a loop, (2) passing tensors with different shapes, (3) passing Python objects instead of tensors. For (1), please define your @tf.function outside of the loop. For (2), @tf.function has experimental_relax_shapes=True option that relaxes argument shapes that can avoid unnecessary retracing. For (3), please refer to https://www.tensorflow.org/guide/function#controlling_retracing and https://www.tensorflow.org/api_docs/python/tf/function for  more details.\n"
          ],
          "name": "stdout"
        },
        {
          "output_type": "execute_result",
          "data": {
            "text/plain": [
              "array([[30.44963]], dtype=float32)"
            ]
          },
          "metadata": {
            "tags": []
          },
          "execution_count": 29
        }
      ]
    },
    {
      "cell_type": "markdown",
      "metadata": {
        "id": "3Ho6iLUSO-A3"
      },
      "source": [
        "### worse again"
      ]
    },
    {
      "cell_type": "markdown",
      "metadata": {
        "id": "WfZ8fs_ujEt3"
      },
      "source": [
        "### THIS TIME LET US CHANGE THE LEARNING RATE OF THE OPTIMISER:\n",
        "THEREFORE,\n",
        "* epoch=100 (same as before)\n",
        "* Creating a model: one hidden layer with 100 neurons(same as before)\n",
        "* Creating a model with activation = none\n",
        "* compile the model but this time changing the optimizer, i.e., from SGD TO ADAM()\n",
        "* compile the model but this time changing the LEARNING RATE OF THE ADAM optimizer, BY DEFAULT IT WAS0.001, WE INCREASE 10 TIMES: 0.01"
      ]
    },
    {
      "cell_type": "code",
      "metadata": {
        "colab": {
          "base_uri": "https://localhost:8080/"
        },
        "id": "95WUA_gDOka7",
        "outputId": "9a8d01ba-5f2b-4c26-b075-96fb4c44a448"
      },
      "source": [
        "#.1. Creating a model \n",
        "model = tf.keras.Sequential([\n",
        "                             tf.keras.layers.Dense(100,activation=None),\n",
        "                             tf.keras.layers.Dense(1)\n",
        "                             ])\n",
        "# 2. compile the model but this time changing the LEARNING RATE OF THE ADAM optimizer, BY DEFAULT IT WAS 0.001, WE INCREASE 10 TIMES: 0.01\n",
        "model.compile(loss=tf.keras.losses.mae,\n",
        "              optimizer=tf.keras.optimizers.Adam(learning_rate=0.01),\n",
        "              metrics=[\"mae\"])\n",
        "#3. Fit the model:\n",
        "model.fit(X,y,epochs=100)"
      ],
      "execution_count": null,
      "outputs": [
        {
          "output_type": "stream",
          "text": [
            "Epoch 1/100\n",
            "1/1 [==============================] - 0s 336ms/step - loss: 13.2840 - mae: 13.2840\n",
            "Epoch 2/100\n",
            "1/1 [==============================] - 0s 6ms/step - loss: 12.2580 - mae: 12.2580\n",
            "Epoch 3/100\n",
            "1/1 [==============================] - 0s 5ms/step - loss: 11.2299 - mae: 11.2299\n",
            "Epoch 4/100\n",
            "1/1 [==============================] - 0s 7ms/step - loss: 10.1921 - mae: 10.1921\n",
            "Epoch 5/100\n",
            "1/1 [==============================] - 0s 5ms/step - loss: 9.1385 - mae: 9.1385\n",
            "Epoch 6/100\n",
            "1/1 [==============================] - 0s 5ms/step - loss: 8.0623 - mae: 8.0623\n",
            "Epoch 7/100\n",
            "1/1 [==============================] - 0s 5ms/step - loss: 6.9562 - mae: 6.9562\n",
            "Epoch 8/100\n",
            "1/1 [==============================] - 0s 4ms/step - loss: 6.9189 - mae: 6.9189\n",
            "Epoch 9/100\n",
            "1/1 [==============================] - 0s 8ms/step - loss: 7.3651 - mae: 7.3651\n",
            "Epoch 10/100\n",
            "1/1 [==============================] - 0s 5ms/step - loss: 7.8747 - mae: 7.8747\n",
            "Epoch 11/100\n",
            "1/1 [==============================] - 0s 4ms/step - loss: 7.9717 - mae: 7.9717\n",
            "Epoch 12/100\n",
            "1/1 [==============================] - 0s 5ms/step - loss: 7.7668 - mae: 7.7668\n",
            "Epoch 13/100\n",
            "1/1 [==============================] - 0s 5ms/step - loss: 7.3488 - mae: 7.3488\n",
            "Epoch 14/100\n",
            "1/1 [==============================] - 0s 6ms/step - loss: 6.8337 - mae: 6.8337\n",
            "Epoch 15/100\n",
            "1/1 [==============================] - 0s 8ms/step - loss: 6.4526 - mae: 6.4526\n",
            "Epoch 16/100\n",
            "1/1 [==============================] - 0s 9ms/step - loss: 6.0555 - mae: 6.0555\n",
            "Epoch 17/100\n",
            "1/1 [==============================] - 0s 8ms/step - loss: 5.9800 - mae: 5.9800\n",
            "Epoch 18/100\n",
            "1/1 [==============================] - 0s 15ms/step - loss: 6.1959 - mae: 6.1959\n",
            "Epoch 19/100\n",
            "1/1 [==============================] - 0s 6ms/step - loss: 6.3464 - mae: 6.3464\n",
            "Epoch 20/100\n",
            "1/1 [==============================] - 0s 7ms/step - loss: 6.3429 - mae: 6.3429\n",
            "Epoch 21/100\n",
            "1/1 [==============================] - 0s 5ms/step - loss: 6.2072 - mae: 6.2072\n",
            "Epoch 22/100\n",
            "1/1 [==============================] - 0s 8ms/step - loss: 5.9545 - mae: 5.9545\n",
            "Epoch 23/100\n",
            "1/1 [==============================] - 0s 5ms/step - loss: 5.5950 - mae: 5.5950\n",
            "Epoch 24/100\n",
            "1/1 [==============================] - 0s 5ms/step - loss: 5.2142 - mae: 5.2142\n",
            "Epoch 25/100\n",
            "1/1 [==============================] - 0s 8ms/step - loss: 5.0502 - mae: 5.0502\n",
            "Epoch 26/100\n",
            "1/1 [==============================] - 0s 6ms/step - loss: 5.0467 - mae: 5.0467\n",
            "Epoch 27/100\n",
            "1/1 [==============================] - 0s 13ms/step - loss: 5.0444 - mae: 5.0444\n",
            "Epoch 28/100\n",
            "1/1 [==============================] - 0s 7ms/step - loss: 4.9782 - mae: 4.9782\n",
            "Epoch 29/100\n",
            "1/1 [==============================] - 0s 7ms/step - loss: 4.8523 - mae: 4.8523\n",
            "Epoch 30/100\n",
            "1/1 [==============================] - 0s 14ms/step - loss: 4.6706 - mae: 4.6706\n",
            "Epoch 31/100\n",
            "1/1 [==============================] - 0s 10ms/step - loss: 4.4368 - mae: 4.4368\n",
            "Epoch 32/100\n",
            "1/1 [==============================] - 0s 7ms/step - loss: 4.1545 - mae: 4.1545\n",
            "Epoch 33/100\n",
            "1/1 [==============================] - 0s 4ms/step - loss: 3.8269 - mae: 3.8269\n",
            "Epoch 34/100\n",
            "1/1 [==============================] - 0s 14ms/step - loss: 3.6596 - mae: 3.6596\n",
            "Epoch 35/100\n",
            "1/1 [==============================] - 0s 7ms/step - loss: 3.6847 - mae: 3.6847\n",
            "Epoch 36/100\n",
            "1/1 [==============================] - 0s 8ms/step - loss: 3.5922 - mae: 3.5922\n",
            "Epoch 37/100\n",
            "1/1 [==============================] - 0s 11ms/step - loss: 3.3239 - mae: 3.3239\n",
            "Epoch 38/100\n",
            "1/1 [==============================] - 0s 11ms/step - loss: 2.8901 - mae: 2.8901\n",
            "Epoch 39/100\n",
            "1/1 [==============================] - 0s 5ms/step - loss: 2.5453 - mae: 2.5453\n",
            "Epoch 40/100\n",
            "1/1 [==============================] - 0s 6ms/step - loss: 2.4394 - mae: 2.4394\n",
            "Epoch 41/100\n",
            "1/1 [==============================] - 0s 7ms/step - loss: 2.2770 - mae: 2.2770\n",
            "Epoch 42/100\n",
            "1/1 [==============================] - 0s 5ms/step - loss: 1.9529 - mae: 1.9529\n",
            "Epoch 43/100\n",
            "1/1 [==============================] - 0s 5ms/step - loss: 1.5106 - mae: 1.5106\n",
            "Epoch 44/100\n",
            "1/1 [==============================] - 0s 6ms/step - loss: 1.3192 - mae: 1.3192\n",
            "Epoch 45/100\n",
            "1/1 [==============================] - 0s 5ms/step - loss: 1.1549 - mae: 1.1549\n",
            "Epoch 46/100\n",
            "1/1 [==============================] - 0s 5ms/step - loss: 0.7742 - mae: 0.7742\n",
            "Epoch 47/100\n",
            "1/1 [==============================] - 0s 6ms/step - loss: 0.1880 - mae: 0.1880\n",
            "Epoch 48/100\n",
            "1/1 [==============================] - 0s 5ms/step - loss: 0.6749 - mae: 0.6749\n",
            "Epoch 49/100\n",
            "1/1 [==============================] - 0s 4ms/step - loss: 0.9831 - mae: 0.9831\n",
            "Epoch 50/100\n",
            "1/1 [==============================] - 0s 6ms/step - loss: 1.0664 - mae: 1.0664\n",
            "Epoch 51/100\n",
            "1/1 [==============================] - 0s 7ms/step - loss: 0.9045 - mae: 0.9045\n",
            "Epoch 52/100\n",
            "1/1 [==============================] - 0s 5ms/step - loss: 1.1973 - mae: 1.1973\n",
            "Epoch 53/100\n",
            "1/1 [==============================] - 0s 8ms/step - loss: 1.3117 - mae: 1.3117\n",
            "Epoch 54/100\n",
            "1/1 [==============================] - 0s 8ms/step - loss: 1.1398 - mae: 1.1398\n",
            "Epoch 55/100\n",
            "1/1 [==============================] - 0s 8ms/step - loss: 1.0087 - mae: 1.0087\n",
            "Epoch 56/100\n",
            "1/1 [==============================] - 0s 5ms/step - loss: 1.0197 - mae: 1.0197\n",
            "Epoch 57/100\n",
            "1/1 [==============================] - 0s 10ms/step - loss: 0.7893 - mae: 0.7893\n",
            "Epoch 58/100\n",
            "1/1 [==============================] - 0s 5ms/step - loss: 0.6683 - mae: 0.6683\n",
            "Epoch 59/100\n",
            "1/1 [==============================] - 0s 7ms/step - loss: 0.5684 - mae: 0.5684\n",
            "Epoch 60/100\n",
            "1/1 [==============================] - 0s 5ms/step - loss: 0.1978 - mae: 0.1978\n",
            "Epoch 61/100\n",
            "1/1 [==============================] - 0s 6ms/step - loss: 0.4706 - mae: 0.4706\n",
            "Epoch 62/100\n",
            "1/1 [==============================] - 0s 4ms/step - loss: 0.5940 - mae: 0.5940\n",
            "Epoch 63/100\n",
            "1/1 [==============================] - 0s 6ms/step - loss: 0.4382 - mae: 0.4382\n",
            "Epoch 64/100\n",
            "1/1 [==============================] - 0s 26ms/step - loss: 0.5702 - mae: 0.5702\n",
            "Epoch 65/100\n",
            "1/1 [==============================] - 0s 6ms/step - loss: 0.7360 - mae: 0.7360\n",
            "Epoch 66/100\n",
            "1/1 [==============================] - 0s 6ms/step - loss: 0.6945 - mae: 0.6945\n",
            "Epoch 67/100\n",
            "1/1 [==============================] - 0s 13ms/step - loss: 0.4678 - mae: 0.4678\n",
            "Epoch 68/100\n",
            "1/1 [==============================] - 0s 9ms/step - loss: 0.5206 - mae: 0.5206\n",
            "Epoch 69/100\n",
            "1/1 [==============================] - 0s 12ms/step - loss: 0.5664 - mae: 0.5664\n",
            "Epoch 70/100\n",
            "1/1 [==============================] - 0s 5ms/step - loss: 0.3079 - mae: 0.3079\n",
            "Epoch 71/100\n",
            "1/1 [==============================] - 0s 4ms/step - loss: 0.2439 - mae: 0.2439\n",
            "Epoch 72/100\n",
            "1/1 [==============================] - 0s 7ms/step - loss: 0.3776 - mae: 0.3776\n",
            "Epoch 73/100\n",
            "1/1 [==============================] - 0s 7ms/step - loss: 0.2087 - mae: 0.2087\n",
            "Epoch 74/100\n",
            "1/1 [==============================] - 0s 4ms/step - loss: 0.4774 - mae: 0.4774\n",
            "Epoch 75/100\n",
            "1/1 [==============================] - 0s 7ms/step - loss: 0.6116 - mae: 0.6116\n",
            "Epoch 76/100\n",
            "1/1 [==============================] - 0s 7ms/step - loss: 0.4678 - mae: 0.4678\n",
            "Epoch 77/100\n",
            "1/1 [==============================] - 0s 10ms/step - loss: 0.1244 - mae: 0.1244\n",
            "Epoch 78/100\n",
            "1/1 [==============================] - 0s 14ms/step - loss: 0.4365 - mae: 0.4365\n",
            "Epoch 79/100\n",
            "1/1 [==============================] - 0s 6ms/step - loss: 0.4692 - mae: 0.4692\n",
            "Epoch 80/100\n",
            "1/1 [==============================] - 0s 8ms/step - loss: 0.2567 - mae: 0.2567\n",
            "Epoch 81/100\n",
            "1/1 [==============================] - 0s 6ms/step - loss: 0.3606 - mae: 0.3606\n",
            "Epoch 82/100\n",
            "1/1 [==============================] - 0s 5ms/step - loss: 0.4835 - mae: 0.4835\n",
            "Epoch 83/100\n",
            "1/1 [==============================] - 0s 11ms/step - loss: 0.3258 - mae: 0.3258\n",
            "Epoch 84/100\n",
            "1/1 [==============================] - 0s 5ms/step - loss: 0.2375 - mae: 0.2375\n",
            "Epoch 85/100\n",
            "1/1 [==============================] - 0s 13ms/step - loss: 0.3518 - mae: 0.3518\n",
            "Epoch 86/100\n",
            "1/1 [==============================] - 0s 8ms/step - loss: 0.1992 - mae: 0.1992\n",
            "Epoch 87/100\n",
            "1/1 [==============================] - 0s 7ms/step - loss: 0.2687 - mae: 0.2687\n",
            "Epoch 88/100\n",
            "1/1 [==============================] - 0s 6ms/step - loss: 0.3976 - mae: 0.3976\n",
            "Epoch 89/100\n",
            "1/1 [==============================] - 0s 8ms/step - loss: 0.2380 - mae: 0.2380\n",
            "Epoch 90/100\n",
            "1/1 [==============================] - 0s 4ms/step - loss: 0.2294 - mae: 0.2294\n",
            "Epoch 91/100\n",
            "1/1 [==============================] - 0s 5ms/step - loss: 0.2858 - mae: 0.2858\n",
            "Epoch 92/100\n",
            "1/1 [==============================] - 0s 6ms/step - loss: 0.0401 - mae: 0.0401\n",
            "Epoch 93/100\n",
            "1/1 [==============================] - 0s 4ms/step - loss: 0.3924 - mae: 0.3924\n",
            "Epoch 94/100\n",
            "1/1 [==============================] - 0s 7ms/step - loss: 0.4620 - mae: 0.4620\n",
            "Epoch 95/100\n",
            "1/1 [==============================] - 0s 4ms/step - loss: 0.2181 - mae: 0.2181\n",
            "Epoch 96/100\n",
            "1/1 [==============================] - 0s 7ms/step - loss: 0.3012 - mae: 0.3012\n",
            "Epoch 97/100\n",
            "1/1 [==============================] - 0s 4ms/step - loss: 0.4661 - mae: 0.4661\n",
            "Epoch 98/100\n",
            "1/1 [==============================] - 0s 4ms/step - loss: 0.3182 - mae: 0.3182\n",
            "Epoch 99/100\n",
            "1/1 [==============================] - 0s 7ms/step - loss: 0.1090 - mae: 0.1090\n",
            "Epoch 100/100\n",
            "1/1 [==============================] - 0s 4ms/step - loss: 0.2002 - mae: 0.2002\n"
          ],
          "name": "stdout"
        },
        {
          "output_type": "execute_result",
          "data": {
            "text/plain": [
              "<tensorflow.python.keras.callbacks.History at 0x7fbef8dea8d0>"
            ]
          },
          "metadata": {
            "tags": []
          },
          "execution_count": 30
        }
      ]
    },
    {
      "cell_type": "code",
      "metadata": {
        "colab": {
          "base_uri": "https://localhost:8080/"
        },
        "id": "RE8HE2MjQgV8",
        "outputId": "1d557870-9c39-4aae-9a9b-002fb12f1498"
      },
      "source": [
        "model.predict([17.0])"
      ],
      "execution_count": null,
      "outputs": [
        {
          "output_type": "stream",
          "text": [
            "WARNING:tensorflow:6 out of the last 6 calls to <function Model.make_predict_function.<locals>.predict_function at 0x7fbef8d3df80> triggered tf.function retracing. Tracing is expensive and the excessive number of tracings could be due to (1) creating @tf.function repeatedly in a loop, (2) passing tensors with different shapes, (3) passing Python objects instead of tensors. For (1), please define your @tf.function outside of the loop. For (2), @tf.function has experimental_relax_shapes=True option that relaxes argument shapes that can avoid unnecessary retracing. For (3), please refer to https://www.tensorflow.org/guide/function#controlling_retracing and https://www.tensorflow.org/api_docs/python/tf/function for  more details.\n"
          ],
          "name": "stdout"
        },
        {
          "output_type": "execute_result",
          "data": {
            "text/plain": [
              "array([[26.964045]], dtype=float32)"
            ]
          },
          "metadata": {
            "tags": []
          },
          "execution_count": 31
        }
      ]
    },
    {
      "cell_type": "markdown",
      "metadata": {
        "id": "U9ZNo4V7jZTS"
      },
      "source": [
        "###This  is the best prediction our model has made till now, which is , according to the pattern of the dataset, for 17.0 it should’ve predicted 27, because x=y+10. \n",
        "\n",
        "\n",
        "\n",
        "\n",
        "\n",
        "\n",
        "\n",
        "\n",
        "\n"
      ]
    },
    {
      "cell_type": "markdown",
      "metadata": {
        "id": "6L2XRA9UQljQ"
      },
      "source": [
        "### in our case, ADJUSTING THE LEARNING RATE HAS IMPROVED THE PREDICTION MULTIFOLDS.\n",
        "AND IN MOST OF THE MODELS, **LEARNING RATE IS THE MOST IMPORTANT HYPER PARAMETER, THAT WHEN ADJUSTED, CAN MAKE MODEL'S PREDICTIONS BETTER**"
      ]
    },
    {
      "cell_type": "markdown",
      "metadata": {
        "id": "mDopwHxZk54M"
      },
      "source": [
        "### EVALUATING A MODEL\n",
        "\n",
        " In practice, a typical workflow you'll go through when building neural networl is:\n",
        "\n",
        "\n",
        "\n",
        "\n",
        "\n",
        "\n",
        "---\n",
        "Building a model -> fit it -> evaluate it -> tweak the model -> fit it -> evaluate it -> tweak the model -> fit it -> evaluate it -> tweak the model -> evaluate it...\n",
        "\n",
        "\n",
        "---\n",
        "\n",
        "\n"
      ]
    },
    {
      "cell_type": "markdown",
      "metadata": {
        "id": "T-YcPFMuk6DV"
      },
      "source": [
        "# common ways of improving a model\n",
        "* adding layers\n",
        "* Increase the number of layers\n",
        "* change the activation functions\n",
        "* change the optimization function\n",
        "* change the learning rate\n",
        "\n",
        "###EVALUATED EARLIER. THESE ARE HYPERPARAMETERS. HYPER PARAMETERS ARE LIKE DIALS ON OUR NEURAL NETWORK MODEL THAT WE CAN ADJUST TO SEE HOW THE PERFORMANCE OF OUR MODEL CHANGES.\n"
      ]
    },
    {
      "cell_type": "markdown",
      "metadata": {
        "id": "T7O04twLk6Gu"
      },
      "source": [
        "# when it comes to evaluation. there are 3 words you should memorize:\n",
        "\n",
        "> \"VISUALISE,VISUALIZE,VISUALISE\"\n",
        "\n",
        "It's a good idea to visualise:\n",
        " * The data - what data are we working with? What does it look like?\n",
        " * The model itself- what does our model look like?\n",
        " * the training of a model - how does a model perform while it learns?\n",
        " * The predictions of the model- how do the predictions of a model line up against the ground truth(the original labels)?"
      ]
    },
    {
      "cell_type": "markdown",
      "metadata": {
        "id": "PZgyU6tc_XPL"
      },
      "source": [
        "### making a another (bigger) data set this time"
      ]
    },
    {
      "cell_type": "code",
      "metadata": {
        "colab": {
          "base_uri": "https://localhost:8080/"
        },
        "id": "brFg2wMWk6Jv",
        "outputId": "44c5ff8d-9361-442c-aa76-15554c191713"
      },
      "source": [
        "# Make a bigger dataset\n",
        "X = tf.range(-100,100,4)\n",
        "X"
      ],
      "execution_count": null,
      "outputs": [
        {
          "output_type": "execute_result",
          "data": {
            "text/plain": [
              "<tf.Tensor: shape=(50,), dtype=int32, numpy=\n",
              "array([-100,  -96,  -92,  -88,  -84,  -80,  -76,  -72,  -68,  -64,  -60,\n",
              "        -56,  -52,  -48,  -44,  -40,  -36,  -32,  -28,  -24,  -20,  -16,\n",
              "        -12,   -8,   -4,    0,    4,    8,   12,   16,   20,   24,   28,\n",
              "         32,   36,   40,   44,   48,   52,   56,   60,   64,   68,   72,\n",
              "         76,   80,   84,   88,   92,   96], dtype=int32)>"
            ]
          },
          "metadata": {
            "tags": []
          },
          "execution_count": 32
        }
      ]
    },
    {
      "cell_type": "code",
      "metadata": {
        "id": "k5bAgp5kROBS",
        "colab": {
          "base_uri": "https://localhost:8080/"
        },
        "outputId": "0956d905-d5ea-4437-c3ac-3f4569c6adaa"
      },
      "source": [
        "# make label for the dataset\n",
        "y=X+10 # this is the relation we want our model to learn\n",
        "y"
      ],
      "execution_count": null,
      "outputs": [
        {
          "output_type": "execute_result",
          "data": {
            "text/plain": [
              "<tf.Tensor: shape=(50,), dtype=int32, numpy=\n",
              "array([-90, -86, -82, -78, -74, -70, -66, -62, -58, -54, -50, -46, -42,\n",
              "       -38, -34, -30, -26, -22, -18, -14, -10,  -6,  -2,   2,   6,  10,\n",
              "        14,  18,  22,  26,  30,  34,  38,  42,  46,  50,  54,  58,  62,\n",
              "        66,  70,  74,  78,  82,  86,  90,  94,  98, 102, 106], dtype=int32)>"
            ]
          },
          "metadata": {
            "tags": []
          },
          "execution_count": 33
        }
      ]
    },
    {
      "cell_type": "code",
      "metadata": {
        "colab": {
          "base_uri": "https://localhost:8080/",
          "height": 282
        },
        "id": "D6-oqMZdpgTm",
        "outputId": "519ea51e-c13d-4a80-ccd8-446ce371a85b"
      },
      "source": [
        "#visualise the data\n",
        "import matplotlib.pyplot as plt\n",
        "plt.scatter(X,y)"
      ],
      "execution_count": null,
      "outputs": [
        {
          "output_type": "execute_result",
          "data": {
            "text/plain": [
              "<matplotlib.collections.PathCollection at 0x7fbef7ca13d0>"
            ]
          },
          "metadata": {
            "tags": []
          },
          "execution_count": 34
        },
        {
          "output_type": "display_data",
          "data": {
            "image/png": "[encoded data removed]",
            "text/plain": [
              "<Figure size 432x288 with 1 Axes>"
            ]
          },
          "metadata": {
            "tags": [],
            "needs_background": "light"
          }
        }
      ]
    },
    {
      "cell_type": "markdown",
      "metadata": {
        "id": "N5vdX0Jypp7A"
      },
      "source": [
        "###The 3 sets...\n",
        "* **Training SET**- The model learns from this data, which is typically 70-80 % of the data you have available.\n",
        "\n",
        "* **Validation Set** - The model gets tuned on this data, which is typically 10-15% of the data available.\n",
        "* **Test Set** - the model gets evaluated on this data to test what it has learned, this set is typically 10-15% of the data available."
      ]
    },
    {
      "cell_type": "markdown",
      "metadata": {
        "id": "9I_TieJTsQzn"
      },
      "source": [
        "### in practice..."
      ]
    },
    {
      "cell_type": "code",
      "metadata": {
        "colab": {
          "base_uri": "https://localhost:8080/"
        },
        "id": "DxqbFB72seI1",
        "outputId": "2a96760f-f061-49de-a5d2-aa69e6ddf0fd"
      },
      "source": [
        "# check the length of how many samples we have\n",
        "len(X)"
      ],
      "execution_count": null,
      "outputs": [
        {
          "output_type": "execute_result",
          "data": {
            "text/plain": [
              "50"
            ]
          },
          "metadata": {
            "tags": []
          },
          "execution_count": 35
        }
      ]
    },
    {
      "cell_type": "markdown",
      "metadata": {
        "id": "4AARNh9nseGB"
      },
      "source": [
        "# since this is still a pretty small dataset, we will skip on the validation set\n",
        " we shall use:\n",
        "\n",
        " * 80% - TRAINING SET\n",
        " * 20% - TEST SET"
      ]
    },
    {
      "cell_type": "code",
      "metadata": {
        "colab": {
          "base_uri": "https://localhost:8080/"
        },
        "id": "1RJBtRHHseDw",
        "outputId": "91c0b945-7bb2-46d6-dd44-51281e792120"
      },
      "source": [
        "#Split the data into test and train sets\n",
        "X_train = X[:40] #first 40 are training samples (80% of the data)\n",
        "y_train = y[:40]\n",
        "\n",
        "X_test = X[40:] # last 10 are testing samples (20% of the data)\n",
        "y_test = y[40:]\n",
        "\n",
        "len(X_train), len(X_test), len(y_train), len(y_test)"
      ],
      "execution_count": null,
      "outputs": [
        {
          "output_type": "execute_result",
          "data": {
            "text/plain": [
              "(40, 10, 40, 10)"
            ]
          },
          "metadata": {
            "tags": []
          },
          "execution_count": 36
        }
      ]
    },
    {
      "cell_type": "markdown",
      "metadata": {
        "id": "7hc7BwCKseBL"
      },
      "source": [
        "### VISUALIZING THE DATA\n",
        "Now we've got our data in training and test sets... let's visualise it"
      ]
    },
    {
      "cell_type": "code",
      "metadata": {
        "colab": {
          "base_uri": "https://localhost:8080/",
          "height": 428
        },
        "id": "Q1uP3eRauXip",
        "outputId": "42541531-6228-431d-bfcc-b48211e96e23"
      },
      "source": [
        "plt.figure(figsize=(10,7))\n",
        "#plot training data in blue\n",
        "plt.scatter(X_train, y_train,c='b',label=\"Training data\") #our model will learn on this \n",
        "#plot test data in green\n",
        "plt.scatter(X_test, y_test, c='g',label=\"testing data\") #want our model to be able to predict this(given X, what's y?)\n",
        "#show a legend\n",
        "plt.legend();"
      ],
      "execution_count": null,
      "outputs": [
        {
          "output_type": "display_data",
          "data": {
            "image/png": "[encoded data removed]",
            "text/plain": [
              "<Figure size 720x504 with 1 Axes>"
            ]
          },
          "metadata": {
            "tags": [],
            "needs_background": "light"
          }
        }
      ]
    },
    {
      "cell_type": "code",
      "metadata": {
        "id": "UW6emuvmuXsY"
      },
      "source": [
        "# Let's have a look at how to build a neural network for our data\n",
        "\n",
        "# 1. Create a model\n",
        "model = tf.keras.Sequential([\n",
        "  tf.keras.layers.Dense(1)                             \n",
        "])\n",
        "\n",
        "# 2. Compile the model\n",
        "model.compile(loss=tf.keras.losses.mae,\n",
        "              optimizer=tf.keras.optimizers.SGD(),\n",
        "              metrics=[\"mae\"])\n",
        "\n",
        "# # 3. Fit the model\n",
        "# model.fit(X_train, y_train, epochs=100)"
      ],
      "execution_count": null,
      "outputs": []
    },
    {
      "cell_type": "code",
      "metadata": {
        "id": "BCE97RBzuXvX"
      },
      "source": [
        "#model.summary()\n",
        "#ValueError: This model has not yet been built. Build the model first by calling `build()` or calling `fit()` with some data, or specify an `input_shape` argument in the first layer(s) for automatic build."
      ],
      "execution_count": null,
      "outputs": []
    },
    {
      "cell_type": "code",
      "metadata": {
        "id": "agDWgwkPuXzQ"
      },
      "source": [
        "# Let's create a model which builds autoatically by defining the input_shape aurgument in the first layer.\n",
        "tf.random.set_seed(42)\n",
        "\n",
        "#1. Create a model (same as above)\n",
        "model = tf.keras.Sequential([ \n",
        "  tf.keras.layers.Dense(10,input_shape=[1],name=\"input_layer\"),\n",
        "  tf.keras.layers.Dense(1, name = \"output_layer\")\n",
        "],name=\"model_1\")\n",
        "\n",
        "#2. compile the model(same as above)\n",
        "model.compile(loss=tf.keras.losses.mae,\n",
        "              optimizer=tf.keras.optimizers.Adam(learning_rate=0.02),\n",
        "              metrics=[\"mae\"])\n",
        "\n",
        "\n"
      ],
      "execution_count": null,
      "outputs": []
    },
    {
      "cell_type": "code",
      "metadata": {
        "id": "wm6VgnGzuX1l",
        "colab": {
          "base_uri": "https://localhost:8080/"
        },
        "outputId": "b1aa23f5-8971-4ad1-ce64-b3456d1ba543"
      },
      "source": [
        "model.summary()"
      ],
      "execution_count": null,
      "outputs": [
        {
          "output_type": "stream",
          "text": [
            "Model: \"model_1\"\n",
            "_________________________________________________________________\n",
            "Layer (type)                 Output Shape              Param #   \n",
            "=================================================================\n",
            "input_layer (Dense)          (None, 10)                20        \n",
            "_________________________________________________________________\n",
            "output_layer (Dense)         (None, 1)                 11        \n",
            "=================================================================\n",
            "Total params: 31\n",
            "Trainable params: 31\n",
            "Non-trainable params: 0\n",
            "_________________________________________________________________\n"
          ],
          "name": "stdout"
        }
      ]
    },
    {
      "cell_type": "markdown",
      "metadata": {
        "id": "D4sGSpgasd-y"
      },
      "source": [
        "* Total params - total number of parameters in the model.\n",
        "* Trainable parameters - these are the parameters (patterns) the model can update as it trains.\n",
        "* Non-trainable params - these parameters aren't updated during training (this is typical when you bring in already learn patterns or parameters from other models during transfer learning)."
      ]
    },
    {
      "cell_type": "code",
      "metadata": {
        "id": "iS_sAiLDsd8c",
        "colab": {
          "base_uri": "https://localhost:8080/"
        },
        "outputId": "40486e6d-6c42-4647-f4bb-cbfeb1d30d17"
      },
      "source": [
        "model.fit(X_train, y_train,epochs=100,verbose=1) #verbose=0 shows no output"
      ],
      "execution_count": null,
      "outputs": [
        {
          "output_type": "stream",
          "text": [
            "Epoch 1/100\n",
            "2/2 [==============================] - 0s 7ms/step - loss: 24.7686 - mae: 24.7686\n",
            "Epoch 2/100\n",
            "2/2 [==============================] - 0s 10ms/step - loss: 13.8862 - mae: 13.8862\n",
            "Epoch 3/100\n",
            "2/2 [==============================] - 0s 5ms/step - loss: 8.6938 - mae: 8.6938\n",
            "Epoch 4/100\n",
            "2/2 [==============================] - 0s 5ms/step - loss: 11.7512 - mae: 11.7512\n",
            "Epoch 5/100\n",
            "2/2 [==============================] - 0s 7ms/step - loss: 12.3957 - mae: 12.3957\n",
            "Epoch 6/100\n",
            "2/2 [==============================] - 0s 6ms/step - loss: 11.2640 - mae: 11.2640\n",
            "Epoch 7/100\n",
            "2/2 [==============================] - 0s 6ms/step - loss: 9.4643 - mae: 9.4643\n",
            "Epoch 8/100\n",
            "2/2 [==============================] - 0s 6ms/step - loss: 7.5047 - mae: 7.5047\n",
            "Epoch 9/100\n",
            "2/2 [==============================] - 0s 6ms/step - loss: 7.8050 - mae: 7.8050\n",
            "Epoch 10/100\n",
            "2/2 [==============================] - 0s 6ms/step - loss: 7.1223 - mae: 7.1223\n",
            "Epoch 11/100\n",
            "2/2 [==============================] - 0s 6ms/step - loss: 7.0396 - mae: 7.0396\n",
            "Epoch 12/100\n",
            "2/2 [==============================] - 0s 5ms/step - loss: 7.1015 - mae: 7.1015\n",
            "Epoch 13/100\n",
            "2/2 [==============================] - 0s 6ms/step - loss: 6.5018 - mae: 6.5018\n",
            "Epoch 14/100\n",
            "2/2 [==============================] - 0s 5ms/step - loss: 6.3082 - mae: 6.3082\n",
            "Epoch 15/100\n",
            "2/2 [==============================] - 0s 5ms/step - loss: 6.0119 - mae: 6.0119\n",
            "Epoch 16/100\n",
            "2/2 [==============================] - 0s 7ms/step - loss: 6.1155 - mae: 6.1155\n",
            "Epoch 17/100\n",
            "2/2 [==============================] - 0s 5ms/step - loss: 5.7128 - mae: 5.7128\n",
            "Epoch 18/100\n",
            "2/2 [==============================] - 0s 5ms/step - loss: 6.2442 - mae: 6.2442\n",
            "Epoch 19/100\n",
            "2/2 [==============================] - 0s 6ms/step - loss: 5.6515 - mae: 5.6515\n",
            "Epoch 20/100\n",
            "2/2 [==============================] - 0s 5ms/step - loss: 5.6526 - mae: 5.6526\n",
            "Epoch 21/100\n",
            "2/2 [==============================] - 0s 6ms/step - loss: 5.2804 - mae: 5.2804\n",
            "Epoch 22/100\n",
            "2/2 [==============================] - 0s 7ms/step - loss: 5.1428 - mae: 5.1428\n",
            "Epoch 23/100\n",
            "2/2 [==============================] - 0s 7ms/step - loss: 5.2437 - mae: 5.2437\n",
            "Epoch 24/100\n",
            "2/2 [==============================] - 0s 5ms/step - loss: 4.8424 - mae: 4.8424\n",
            "Epoch 25/100\n",
            "2/2 [==============================] - 0s 4ms/step - loss: 4.8721 - mae: 4.8721\n",
            "Epoch 26/100\n",
            "2/2 [==============================] - 0s 3ms/step - loss: 4.5600 - mae: 4.5600\n",
            "Epoch 27/100\n",
            "2/2 [==============================] - 0s 4ms/step - loss: 4.6319 - mae: 4.6319\n",
            "Epoch 28/100\n",
            "2/2 [==============================] - 0s 4ms/step - loss: 4.2820 - mae: 4.2820\n",
            "Epoch 29/100\n",
            "2/2 [==============================] - 0s 10ms/step - loss: 4.2147 - mae: 4.2147\n",
            "Epoch 30/100\n",
            "2/2 [==============================] - 0s 10ms/step - loss: 4.1282 - mae: 4.1282\n",
            "Epoch 31/100\n",
            "2/2 [==============================] - 0s 5ms/step - loss: 3.7572 - mae: 3.7572\n",
            "Epoch 32/100\n",
            "2/2 [==============================] - 0s 6ms/step - loss: 3.8433 - mae: 3.8433\n",
            "Epoch 33/100\n",
            "2/2 [==============================] - 0s 9ms/step - loss: 3.7165 - mae: 3.7165\n",
            "Epoch 34/100\n",
            "2/2 [==============================] - 0s 9ms/step - loss: 3.6038 - mae: 3.6038\n",
            "Epoch 35/100\n",
            "2/2 [==============================] - 0s 3ms/step - loss: 3.4596 - mae: 3.4596\n",
            "Epoch 36/100\n",
            "2/2 [==============================] - 0s 4ms/step - loss: 2.8795 - mae: 2.8795\n",
            "Epoch 37/100\n",
            "2/2 [==============================] - 0s 5ms/step - loss: 3.4909 - mae: 3.4909\n",
            "Epoch 38/100\n",
            "2/2 [==============================] - 0s 6ms/step - loss: 2.6218 - mae: 2.6218\n",
            "Epoch 39/100\n",
            "2/2 [==============================] - 0s 3ms/step - loss: 2.8515 - mae: 2.8515\n",
            "Epoch 40/100\n",
            "2/2 [==============================] - 0s 4ms/step - loss: 2.1578 - mae: 2.1578\n",
            "Epoch 41/100\n",
            "2/2 [==============================] - 0s 5ms/step - loss: 2.6437 - mae: 2.6437\n",
            "Epoch 42/100\n",
            "2/2 [==============================] - 0s 4ms/step - loss: 1.7052 - mae: 1.7052\n",
            "Epoch 43/100\n",
            "2/2 [==============================] - 0s 3ms/step - loss: 1.8144 - mae: 1.8144\n",
            "Epoch 44/100\n",
            "2/2 [==============================] - 0s 5ms/step - loss: 1.5629 - mae: 1.5629\n",
            "Epoch 45/100\n",
            "2/2 [==============================] - 0s 4ms/step - loss: 1.3368 - mae: 1.3368\n",
            "Epoch 46/100\n",
            "2/2 [==============================] - 0s 5ms/step - loss: 1.2766 - mae: 1.2766\n",
            "Epoch 47/100\n",
            "2/2 [==============================] - 0s 3ms/step - loss: 0.4963 - mae: 0.4963\n",
            "Epoch 48/100\n",
            "2/2 [==============================] - 0s 5ms/step - loss: 1.4977 - mae: 1.4977\n",
            "Epoch 49/100\n",
            "2/2 [==============================] - 0s 6ms/step - loss: 1.6703 - mae: 1.6703\n",
            "Epoch 50/100\n",
            "2/2 [==============================] - 0s 10ms/step - loss: 1.4361 - mae: 1.4361\n",
            "Epoch 51/100\n",
            "2/2 [==============================] - 0s 5ms/step - loss: 2.0103 - mae: 2.0103\n",
            "Epoch 52/100\n",
            "2/2 [==============================] - 0s 4ms/step - loss: 1.0801 - mae: 1.0801\n",
            "Epoch 53/100\n",
            "2/2 [==============================] - 0s 8ms/step - loss: 1.6476 - mae: 1.6476\n",
            "Epoch 54/100\n",
            "2/2 [==============================] - 0s 6ms/step - loss: 1.1792 - mae: 1.1792\n",
            "Epoch 55/100\n",
            "2/2 [==============================] - 0s 4ms/step - loss: 1.7333 - mae: 1.7333\n",
            "Epoch 56/100\n",
            "2/2 [==============================] - 0s 3ms/step - loss: 1.2911 - mae: 1.2911\n",
            "Epoch 57/100\n",
            "2/2 [==============================] - 0s 3ms/step - loss: 1.0116 - mae: 1.0116\n",
            "Epoch 58/100\n",
            "2/2 [==============================] - 0s 3ms/step - loss: 1.7487 - mae: 1.7487\n",
            "Epoch 59/100\n",
            "2/2 [==============================] - 0s 3ms/step - loss: 0.7840 - mae: 0.7840\n",
            "Epoch 60/100\n",
            "2/2 [==============================] - 0s 3ms/step - loss: 1.9121 - mae: 1.9121\n",
            "Epoch 61/100\n",
            "2/2 [==============================] - 0s 6ms/step - loss: 0.5478 - mae: 0.5478\n",
            "Epoch 62/100\n",
            "2/2 [==============================] - 0s 6ms/step - loss: 2.5952 - mae: 2.5952\n",
            "Epoch 63/100\n",
            "2/2 [==============================] - 0s 11ms/step - loss: 1.3035 - mae: 1.3035\n",
            "Epoch 64/100\n",
            "2/2 [==============================] - 0s 5ms/step - loss: 1.2842 - mae: 1.2842\n",
            "Epoch 65/100\n",
            "2/2 [==============================] - 0s 5ms/step - loss: 0.3744 - mae: 0.3744\n",
            "Epoch 66/100\n",
            "2/2 [==============================] - 0s 4ms/step - loss: 1.4938 - mae: 1.4938\n",
            "Epoch 67/100\n",
            "2/2 [==============================] - 0s 3ms/step - loss: 0.7529 - mae: 0.7529\n",
            "Epoch 68/100\n",
            "2/2 [==============================] - 0s 5ms/step - loss: 0.7220 - mae: 0.7220\n",
            "Epoch 69/100\n",
            "2/2 [==============================] - 0s 14ms/step - loss: 0.7894 - mae: 0.7894\n",
            "Epoch 70/100\n",
            "2/2 [==============================] - 0s 12ms/step - loss: 1.2060 - mae: 1.2060\n",
            "Epoch 71/100\n",
            "2/2 [==============================] - 0s 8ms/step - loss: 0.7661 - mae: 0.7661\n",
            "Epoch 72/100\n",
            "2/2 [==============================] - 0s 6ms/step - loss: 1.1101 - mae: 1.1101\n",
            "Epoch 73/100\n",
            "2/2 [==============================] - 0s 4ms/step - loss: 0.6584 - mae: 0.6584\n",
            "Epoch 74/100\n",
            "2/2 [==============================] - 0s 5ms/step - loss: 0.2543 - mae: 0.2543\n",
            "Epoch 75/100\n",
            "2/2 [==============================] - 0s 5ms/step - loss: 2.1778 - mae: 2.1778\n",
            "Epoch 76/100\n",
            "2/2 [==============================] - 0s 4ms/step - loss: 0.8935 - mae: 0.8935\n",
            "Epoch 77/100\n",
            "2/2 [==============================] - 0s 5ms/step - loss: 1.6666 - mae: 1.6666\n",
            "Epoch 78/100\n",
            "2/2 [==============================] - 0s 6ms/step - loss: 0.5760 - mae: 0.5760\n",
            "Epoch 79/100\n",
            "2/2 [==============================] - 0s 5ms/step - loss: 1.6207 - mae: 1.6207\n",
            "Epoch 80/100\n",
            "2/2 [==============================] - 0s 6ms/step - loss: 0.2009 - mae: 0.2009\n",
            "Epoch 81/100\n",
            "2/2 [==============================] - 0s 4ms/step - loss: 0.7404 - mae: 0.7404\n",
            "Epoch 82/100\n",
            "2/2 [==============================] - 0s 5ms/step - loss: 1.0248 - mae: 1.0248\n",
            "Epoch 83/100\n",
            "2/2 [==============================] - 0s 4ms/step - loss: 0.0503 - mae: 0.0503\n",
            "Epoch 84/100\n",
            "2/2 [==============================] - 0s 8ms/step - loss: 0.4422 - mae: 0.4422\n",
            "Epoch 85/100\n",
            "2/2 [==============================] - 0s 4ms/step - loss: 1.1371 - mae: 1.1371\n",
            "Epoch 86/100\n",
            "2/2 [==============================] - 0s 7ms/step - loss: 0.8457 - mae: 0.8457\n",
            "Epoch 87/100\n",
            "2/2 [==============================] - 0s 4ms/step - loss: 0.6610 - mae: 0.6610\n",
            "Epoch 88/100\n",
            "2/2 [==============================] - 0s 4ms/step - loss: 1.0670 - mae: 1.0670\n",
            "Epoch 89/100\n",
            "2/2 [==============================] - 0s 5ms/step - loss: 0.8283 - mae: 0.8283\n",
            "Epoch 90/100\n",
            "2/2 [==============================] - 0s 13ms/step - loss: 0.3209 - mae: 0.3209\n",
            "Epoch 91/100\n",
            "2/2 [==============================] - 0s 8ms/step - loss: 0.2793 - mae: 0.2793\n",
            "Epoch 92/100\n",
            "2/2 [==============================] - 0s 3ms/step - loss: 0.5169 - mae: 0.5169\n",
            "Epoch 93/100\n",
            "2/2 [==============================] - 0s 6ms/step - loss: 0.4752 - mae: 0.4752\n",
            "Epoch 94/100\n",
            "2/2 [==============================] - 0s 4ms/step - loss: 0.1434 - mae: 0.1434\n",
            "Epoch 95/100\n",
            "2/2 [==============================] - 0s 3ms/step - loss: 0.2661 - mae: 0.2661\n",
            "Epoch 96/100\n",
            "2/2 [==============================] - 0s 6ms/step - loss: 1.1159 - mae: 1.1159\n",
            "Epoch 97/100\n",
            "2/2 [==============================] - 0s 6ms/step - loss: 0.6589 - mae: 0.6589\n",
            "Epoch 98/100\n",
            "2/2 [==============================] - 0s 4ms/step - loss: 0.6528 - mae: 0.6528\n",
            "Epoch 99/100\n",
            "2/2 [==============================] - 0s 6ms/step - loss: 0.4582 - mae: 0.4582\n",
            "Epoch 100/100\n",
            "2/2 [==============================] - 0s 3ms/step - loss: 1.0005 - mae: 1.0005\n"
          ],
          "name": "stdout"
        },
        {
          "output_type": "execute_result",
          "data": {
            "text/plain": [
              "<tensorflow.python.keras.callbacks.History at 0x7fbef7beaf10>"
            ]
          },
          "metadata": {
            "tags": []
          },
          "execution_count": 42
        }
      ]
    },
    {
      "cell_type": "code",
      "metadata": {
        "id": "lwMi3SZ2sd51",
        "colab": {
          "base_uri": "https://localhost:8080/"
        },
        "outputId": "946bb923-a23f-4e88-a213-22882bbd2dc9"
      },
      "source": [
        "#get the summary of our model\n",
        "model.summary()"
      ],
      "execution_count": null,
      "outputs": [
        {
          "output_type": "stream",
          "text": [
            "Model: \"model_1\"\n",
            "_________________________________________________________________\n",
            "Layer (type)                 Output Shape              Param #   \n",
            "=================================================================\n",
            "input_layer (Dense)          (None, 10)                20        \n",
            "_________________________________________________________________\n",
            "output_layer (Dense)         (None, 1)                 11        \n",
            "=================================================================\n",
            "Total params: 31\n",
            "Trainable params: 31\n",
            "Non-trainable params: 0\n",
            "_________________________________________________________________\n"
          ],
          "name": "stdout"
        }
      ]
    },
    {
      "cell_type": "markdown",
      "metadata": {
        "id": "z6pmkikd9bOs"
      },
      "source": [
        "###using PLOT MODEL to visualise our model"
      ]
    },
    {
      "cell_type": "code",
      "metadata": {
        "id": "7wUBM_Ufsd3N",
        "colab": {
          "base_uri": "https://localhost:8080/",
          "height": 312
        },
        "outputId": "aa7fc05e-9f6e-4a7e-d96b-a024cd442c12"
      },
      "source": [
        "# another way to visualise our model\n",
        "from tensorflow.keras.utils import plot_model\n",
        "plot_model(model=model,show_shapes=True)"
      ],
      "execution_count": null,
      "outputs": [
        {
          "output_type": "execute_result",
          "data": {
            "image/png": "[encoded data removed]",
            "text/plain": [
              "<IPython.core.display.Image object>"
            ]
          },
          "metadata": {
            "tags": []
          },
          "execution_count": 44
        }
      ]
    },
    {
      "cell_type": "markdown",
      "metadata": {
        "id": "hi3Y500Wsdz-"
      },
      "source": [
        "### visualing our model's predictions\n",
        "\n",
        "to visualise, it is a good idea to plotthem against the ground truth\n",
        "\n",
        "often you'll see this in the form of y_test or y_true vs y_pred"
      ]
    },
    {
      "cell_type": "code",
      "metadata": {
        "id": "VtJ8vowksdxb",
        "colab": {
          "base_uri": "https://localhost:8080/"
        },
        "outputId": "539210b1-280a-4ad2-c8f5-d20cebcbbe24"
      },
      "source": [
        "#make some predictions\n",
        "y_pred = model.predict(X_test)\n",
        "y_pred"
      ],
      "execution_count": null,
      "outputs": [
        {
          "output_type": "stream",
          "text": [
            "WARNING:tensorflow:7 out of the last 7 calls to <function Model.make_predict_function.<locals>.predict_function at 0x7fbf000b8170> triggered tf.function retracing. Tracing is expensive and the excessive number of tracings could be due to (1) creating @tf.function repeatedly in a loop, (2) passing tensors with different shapes, (3) passing Python objects instead of tensors. For (1), please define your @tf.function outside of the loop. For (2), @tf.function has experimental_relax_shapes=True option that relaxes argument shapes that can avoid unnecessary retracing. For (3), please refer to https://www.tensorflow.org/guide/function#controlling_retracing and https://www.tensorflow.org/api_docs/python/tf/function for  more details.\n"
          ],
          "name": "stdout"
        },
        {
          "output_type": "execute_result",
          "data": {
            "text/plain": [
              "array([[ 70.60006 ],\n",
              "       [ 74.63862 ],\n",
              "       [ 78.67718 ],\n",
              "       [ 82.71574 ],\n",
              "       [ 86.7543  ],\n",
              "       [ 90.79286 ],\n",
              "       [ 94.83143 ],\n",
              "       [ 98.86999 ],\n",
              "       [102.90854 ],\n",
              "       [106.947105]], dtype=float32)"
            ]
          },
          "metadata": {
            "tags": []
          },
          "execution_count": 45
        }
      ]
    },
    {
      "cell_type": "code",
      "metadata": {
        "colab": {
          "base_uri": "https://localhost:8080/"
        },
        "id": "xqc4swuF-ysN",
        "outputId": "8a83c043-6978-4da5-eef1-dfb0958a218e"
      },
      "source": [
        "y_test #ground truth"
      ],
      "execution_count": null,
      "outputs": [
        {
          "output_type": "execute_result",
          "data": {
            "text/plain": [
              "<tf.Tensor: shape=(10,), dtype=int32, numpy=array([ 70,  74,  78,  82,  86,  90,  94,  98, 102, 106], dtype=int32)>"
            ]
          },
          "metadata": {
            "tags": []
          },
          "execution_count": 46
        }
      ]
    },
    {
      "cell_type": "markdown",
      "metadata": {
        "id": "eSKh4oYv-yvE"
      },
      "source": [
        "###In the ideal would want our model to predict exactly the ground truth values.\n",
        "\n",
        "Rather than comparing them manually one by one we can just plot a graph of the actual values of y and those predicted by our model.\n",
        "\n",
        "#Let's see how we visualise them\n"
      ]
    },
    {
      "cell_type": "markdown",
      "metadata": {
        "id": "u5yZ1jSFAW6y"
      },
      "source": [
        "🔑 Note: If you feel like you're going to reuse some kind of functionality in the future, it's a good idea to turn it into a function."
      ]
    },
    {
      "cell_type": "code",
      "metadata": {
        "id": "XCH0d_6F-yxx"
      },
      "source": [
        "#Let's create a plotting function.\n",
        "def plot_predictions(train_data=X_train,\n",
        "                     train_labels=y_train,\n",
        "                     test_data=X_test,\n",
        "                     test_labels=y_test,\n",
        "                     predictions=y_pred):\n",
        "  \"\"\"\n",
        "  plots training data, test data and compares predictions to the ground truth labels\n",
        "  \n",
        "  \"\"\"\n",
        "  plt.figure(figsize=(10,7))\n",
        "  # plot training data in blue\n",
        "  plt.scatter(train_data,train_labels,c=\"b\",label=\"Training data\")\n",
        "  # plot test data in green\n",
        "  plt.scatter(test_data,test_labels,c=\"g\",label=\"Test data\")\n",
        "  #plot model's predictions in red\n",
        "  plt.scatter(test_data,predictions,c=\"r\",label=\"Predictions\")\n",
        "\n",
        "  #show legend\n",
        "  plt.legend(); \n"
      ],
      "execution_count": null,
      "outputs": []
    },
    {
      "cell_type": "code",
      "metadata": {
        "colab": {
          "base_uri": "https://localhost:8080/",
          "height": 428
        },
        "id": "8-Yr9XEm-y0f",
        "outputId": "7ab816f1-9b83-4570-f280-5f61c6857cce"
      },
      "source": [
        "plot_predictions(train_data=X_train,\n",
        "                 train_labels=y_train,\n",
        "                 test_data=X_test,\n",
        "                 test_labels=y_test,\n",
        "                 predictions=y_pred)\n",
        "#you dont have to give the arguments, but this is just to keep it complete."
      ],
      "execution_count": null,
      "outputs": [
        {
          "output_type": "display_data",
          "data": {
            "image/png": "[encoded data removed]",
            "text/plain": [
              "<Figure size 720x504 with 1 Axes>"
            ]
          },
          "metadata": {
            "tags": [],
            "needs_background": "light"
          }
        }
      ]
    },
    {
      "cell_type": "markdown",
      "metadata": {
        "id": "vlZ-hycyCslS"
      },
      "source": [
        "* that is pretty accurate: with SGD()\n",
        "\n",
        "* with Adam(lr=0.02 AND EPOCHS EXACTLY EQUAL TO 100, IF YOU INCREASE THE EPOCHS, I.E., BY RUNNING THE MODEL MULTIPLE TIMES, IT MIGHT GET OVERFITTED, THEREFORE IN SUCH CASES JUST RESTART AND RUN ALL.)"
      ]
    },
    {
      "cell_type": "markdown",
      "metadata": {
        "id": "r3on5PllDHRu"
      },
      "source": [
        "#but just to know how much error actually exists..."
      ]
    },
    {
      "cell_type": "markdown",
      "metadata": {
        "id": "Fl1Bnuj5D4yF"
      },
      "source": [
        "###Evaluating our model's predictions with regression evaluation metrics"
      ]
    },
    {
      "cell_type": "markdown",
      "metadata": {
        "id": "FSrfqBLkD400"
      },
      "source": [
        "* MEAN ABSOULTE ERROR: \n",
        " >tf.keras.losses.MAE()\n",
        " \n",
        " > \"on average, how wrong is each of my model's predictions\" \n",
        "\n",
        "(WHEN TO USE: AS A GREAT STARTER METRIC FOR ANY REGRESSION PROBLEM.)\n",
        "\n",
        "* MEAN SQUARED ERROR(MSE):\n",
        " > tf.keras.losses.MSE() \n",
        "\n",
        " > \"square the average errors.\"\n",
        "\n",
        "(WHEN TO USE: WHEN THE LARGER ERRORS ARE MORE SIGNIFICANT THAN SMALLER ERRORS.)\n",
        "\n",
        "* HUBER : tf.keras.losses.Huber()\n",
        "\n",
        "(WHEN TO USE: COMBINATION OF MSE AND MAE. LESS SENSITIVE TO OUTLIERS THAN MSE.) "
      ]
    },
    {
      "cell_type": "code",
      "metadata": {
        "colab": {
          "base_uri": "https://localhost:8080/"
        },
        "id": "wec227gsD43N",
        "outputId": "9b7f772a-4a25-42e7-cab3-5cc27bb2b820"
      },
      "source": [
        "# evaluate the model on the test set\n",
        "model.evaluate(X_test,y_test) #Returns the loss value & metrics values for the model in test mode."
      ],
      "execution_count": null,
      "outputs": [
        {
          "output_type": "stream",
          "text": [
            "1/1 [==============================] - 0s 125ms/step - loss: 0.7736 - mae: 0.7736\n"
          ],
          "name": "stdout"
        },
        {
          "output_type": "execute_result",
          "data": {
            "text/plain": [
              "[0.7735801935195923, 0.7735801935195923]"
            ]
          },
          "metadata": {
            "tags": []
          },
          "execution_count": 49
        }
      ]
    },
    {
      "cell_type": "code",
      "metadata": {
        "colab": {
          "base_uri": "https://localhost:8080/"
        },
        "id": "ne7YniexD450",
        "outputId": "0070447f-f820-42f4-8015-7e5cf034635e"
      },
      "source": [
        "# calculate the mean absolute error\n",
        "mae = tf.keras.losses.MAE(y_test,y_pred)\n",
        "mae"
      ],
      "execution_count": null,
      "outputs": [
        {
          "output_type": "execute_result",
          "data": {
            "text/plain": [
              "<tf.Tensor: shape=(10,), dtype=float32, numpy=\n",
              "array([17.519953, 14.416829, 12.129129, 10.656853, 10.      , 10.158572,\n",
              "       11.132571, 12.921992, 15.526831, 18.947105], dtype=float32)>"
            ]
          },
          "metadata": {
            "tags": []
          },
          "execution_count": 50
        }
      ]
    },
    {
      "cell_type": "code",
      "metadata": {
        "colab": {
          "base_uri": "https://localhost:8080/"
        },
        "id": "ug_fJPl3D49B",
        "outputId": "7497c170-cdb9-43d3-a026-2a0ed8a71430"
      },
      "source": [
        "y_pred"
      ],
      "execution_count": null,
      "outputs": [
        {
          "output_type": "execute_result",
          "data": {
            "text/plain": [
              "array([[ 70.60006 ],\n",
              "       [ 74.63862 ],\n",
              "       [ 78.67718 ],\n",
              "       [ 82.71574 ],\n",
              "       [ 86.7543  ],\n",
              "       [ 90.79286 ],\n",
              "       [ 94.83143 ],\n",
              "       [ 98.86999 ],\n",
              "       [102.90854 ],\n",
              "       [106.947105]], dtype=float32)"
            ]
          },
          "metadata": {
            "tags": []
          },
          "execution_count": 51
        }
      ]
    },
    {
      "cell_type": "code",
      "metadata": {
        "id": "zePco3kyD4_9"
      },
      "source": [
        "#this is in an array format, let's make it a tensor."
      ],
      "execution_count": null,
      "outputs": []
    },
    {
      "cell_type": "code",
      "metadata": {
        "colab": {
          "base_uri": "https://localhost:8080/"
        },
        "id": "avfhFAVd1u4E",
        "outputId": "10c4299a-f6f9-421f-bd15-bceb31b7e771"
      },
      "source": [
        "X_test"
      ],
      "execution_count": null,
      "outputs": [
        {
          "output_type": "execute_result",
          "data": {
            "text/plain": [
              "<tf.Tensor: shape=(10,), dtype=int32, numpy=array([60, 64, 68, 72, 76, 80, 84, 88, 92, 96], dtype=int32)>"
            ]
          },
          "metadata": {
            "tags": []
          },
          "execution_count": 53
        }
      ]
    },
    {
      "cell_type": "code",
      "metadata": {
        "colab": {
          "base_uri": "https://localhost:8080/"
        },
        "id": "zuz8E-5nD5CQ",
        "outputId": "c9453dca-07fd-4f04-c9f6-98c43727113e"
      },
      "source": [
        "tf.constant(y_pred)"
      ],
      "execution_count": null,
      "outputs": [
        {
          "output_type": "execute_result",
          "data": {
            "text/plain": [
              "<tf.Tensor: shape=(10, 1), dtype=float32, numpy=\n",
              "array([[ 70.60006 ],\n",
              "       [ 74.63862 ],\n",
              "       [ 78.67718 ],\n",
              "       [ 82.71574 ],\n",
              "       [ 86.7543  ],\n",
              "       [ 90.79286 ],\n",
              "       [ 94.83143 ],\n",
              "       [ 98.86999 ],\n",
              "       [102.90854 ],\n",
              "       [106.947105]], dtype=float32)>"
            ]
          },
          "metadata": {
            "tags": []
          },
          "execution_count": 54
        }
      ]
    },
    {
      "cell_type": "code",
      "metadata": {
        "colab": {
          "base_uri": "https://localhost:8080/"
        },
        "id": "yaYELmQKNA10",
        "outputId": "637bac80-bcb7-4759-b585-94d17c89c2ac"
      },
      "source": [
        "#now,\n",
        "y_test"
      ],
      "execution_count": null,
      "outputs": [
        {
          "output_type": "execute_result",
          "data": {
            "text/plain": [
              "<tf.Tensor: shape=(10,), dtype=int32, numpy=array([ 70,  74,  78,  82,  86,  90,  94,  98, 102, 106], dtype=int32)>"
            ]
          },
          "metadata": {
            "tags": []
          },
          "execution_count": 55
        }
      ]
    },
    {
      "cell_type": "code",
      "metadata": {
        "id": "N8gKf813NEIk"
      },
      "source": [
        "#their shapes DON'T match and for error calculation, they must.\n",
        "#therefor, we need to reshape the y_pred tensor."
      ],
      "execution_count": null,
      "outputs": []
    },
    {
      "cell_type": "code",
      "metadata": {
        "colab": {
          "base_uri": "https://localhost:8080/"
        },
        "id": "jd2_NDoQNPq4",
        "outputId": "cfbead98-dc9f-4cc5-f5e1-08417e5c92bc"
      },
      "source": [
        "tf.squeeze(y_pred) #doing this will get rid of the extra 1 dimension."
      ],
      "execution_count": null,
      "outputs": [
        {
          "output_type": "execute_result",
          "data": {
            "text/plain": [
              "<tf.Tensor: shape=(10,), dtype=float32, numpy=\n",
              "array([ 70.60006 ,  74.63862 ,  78.67718 ,  82.71574 ,  86.7543  ,\n",
              "        90.79286 ,  94.83143 ,  98.86999 , 102.90854 , 106.947105],\n",
              "      dtype=float32)>"
            ]
          },
          "metadata": {
            "tags": []
          },
          "execution_count": 57
        }
      ]
    },
    {
      "cell_type": "code",
      "metadata": {
        "id": "aS8S7NhTNTGs"
      },
      "source": [
        "#now, both the tensors are of the same shape."
      ],
      "execution_count": null,
      "outputs": []
    },
    {
      "cell_type": "code",
      "metadata": {
        "colab": {
          "base_uri": "https://localhost:8080/"
        },
        "id": "MddfF7CnNefc",
        "outputId": "c2566d30-5550-422c-9d6a-8c5931c42658"
      },
      "source": [
        "mae = tf.keras.losses.MAE(y_test,tf.squeeze(y_pred))\n",
        "mae\n"
      ],
      "execution_count": null,
      "outputs": [
        {
          "output_type": "execute_result",
          "data": {
            "text/plain": [
              "<tf.Tensor: shape=(), dtype=float32, numpy=0.7735817>"
            ]
          },
          "metadata": {
            "tags": []
          },
          "execution_count": 59
        }
      ]
    },
    {
      "cell_type": "code",
      "metadata": {
        "id": "rviSqm3YNgAH"
      },
      "source": [
        "#yay!! \n"
      ],
      "execution_count": null,
      "outputs": []
    },
    {
      "cell_type": "markdown",
      "metadata": {
        "id": "l6mbfoD-NgDC"
      },
      "source": [
        "### NOW, let's calculate the MSE"
      ]
    },
    {
      "cell_type": "code",
      "metadata": {
        "colab": {
          "base_uri": "https://localhost:8080/"
        },
        "id": "riob2haHNgGC",
        "outputId": "0a294527-97b2-4731-d3f1-1c2018d9a7f9"
      },
      "source": [
        "mse = tf.keras.losses.MSE(y_test,tf.squeeze(y_pred))\n",
        "mse"
      ],
      "execution_count": null,
      "outputs": [
        {
          "output_type": "execute_result",
          "data": {
            "text/plain": [
              "<tf.Tensor: shape=(), dtype=float32, numpy=0.61069584>"
            ]
          },
          "metadata": {
            "tags": []
          },
          "execution_count": 61
        }
      ]
    },
    {
      "cell_type": "code",
      "metadata": {
        "id": "9PrJeHLyNgIV"
      },
      "source": [
        "# the error is large because, obviously it is squared."
      ],
      "execution_count": null,
      "outputs": []
    },
    {
      "cell_type": "markdown",
      "metadata": {
        "id": "tixowIFYNgLS"
      },
      "source": [
        "###HUBER:"
      ]
    },
    {
      "cell_type": "code",
      "metadata": {
        "id": "w9DQMVy3NgNY"
      },
      "source": [
        "#huber = tf.keras.losses.Huber(y_test,tf.cast(tf.squeeze(y_pred),dtype=tf.float32))\n",
        "#huber"
      ],
      "execution_count": null,
      "outputs": []
    },
    {
      "cell_type": "code",
      "metadata": {
        "id": "7FMq_-QdNgP4"
      },
      "source": [
        "#make some functions to reuse MAE and MSE\n",
        "def mae(y_true, y_pred):\n",
        "  return tf.keras.losses.MAE(y_true=y_true,\n",
        "                             y_pred=tf.squeeze(y_pred))\n",
        "  \n",
        "def mse(y_true,y_pred):\n",
        "  return tf.keras.losses.MSE(y_true=y_true,\n",
        "                             y_pred=tf.squeeze(y_pred))\n"
      ],
      "execution_count": null,
      "outputs": []
    },
    {
      "cell_type": "code",
      "metadata": {
        "colab": {
          "base_uri": "https://localhost:8080/"
        },
        "id": "c4Fap6_rNgS5",
        "outputId": "3ad8e8bd-56c6-4375-ea25-f307a8244e83"
      },
      "source": [
        "mse(y_test,tf.squeeze(y_pred))"
      ],
      "execution_count": null,
      "outputs": [
        {
          "output_type": "execute_result",
          "data": {
            "text/plain": [
              "<tf.Tensor: shape=(), dtype=float32, numpy=0.61069584>"
            ]
          },
          "metadata": {
            "tags": []
          },
          "execution_count": 65
        }
      ]
    },
    {
      "cell_type": "code",
      "metadata": {
        "colab": {
          "base_uri": "https://localhost:8080/"
        },
        "id": "yg0MacAkQ-o-",
        "outputId": "7f863670-b143-478b-96ef-e6c7fc8e8377"
      },
      "source": [
        "mae(y_test,tf.squeeze(y_pred))"
      ],
      "execution_count": null,
      "outputs": [
        {
          "output_type": "execute_result",
          "data": {
            "text/plain": [
              "<tf.Tensor: shape=(), dtype=float32, numpy=0.7735817>"
            ]
          },
          "metadata": {
            "tags": []
          },
          "execution_count": 66
        }
      ]
    },
    {
      "cell_type": "markdown",
      "metadata": {
        "id": "kOCBRZe-RGLL"
      },
      "source": [
        "###Running experiments to improve our model\n",
        "---\n",
        "\n",
        "Build a model -> fit it -> evaluate it ->tweak it -> fit it -> evaluate it ->tweak it -> fit it -> evaluate it ...\n",
        "\n",
        "---\n",
        "\n",
        "\n",
        "1. Get more data - get more examples for your model to train on (more opportunities to learn patterns or relationships between features and labels).\n",
        "2. Make your model larger (using a more complex model) - this might come in the form of more layers or more hidden units in each layer.\n",
        "3. Train for longer - give your model of a chance to find patterns in the data.\n",
        "\n",
        "Let's do 3 modelling experiments:\n",
        " 1. 'model_1'  - same as the original, 1 layer, trained for 100 epochs\n",
        " 2. 'model_2' - 2 layers, 100 epochs\n",
        " 3. 'model_3' - 2 layers, 500 epochs\n",
        "\n",
        " **BUILD MODEL_1**"
      ]
    },
    {
      "cell_type": "code",
      "metadata": {
        "colab": {
          "base_uri": "https://localhost:8080/"
        },
        "id": "A8TjEpnCW7is",
        "outputId": "27204fa5-0a73-4010-cf1e-537edf5791e5"
      },
      "source": [
        "# Set random seed\n",
        "tf.random.set_seed(42)\n",
        "\n",
        "#1. Create the model\n",
        "model_1 = tf.keras.Sequential(\n",
        "    [\n",
        "     tf.keras.layers.Dense(1)\n",
        "    ])\n",
        "\n",
        "#2. compile the model\n",
        "model_1.compile(loss=tf.keras.losses.mae,\n",
        "              optimizer=tf.keras.optimizers.SGD(),\n",
        "              metrics=[\"mae\"])\n",
        "\n",
        "#3. fit the model\n",
        "model_1.fit(X_train,y_train,epochs=100)"
      ],
      "execution_count": null,
      "outputs": [
        {
          "output_type": "stream",
          "text": [
            "Epoch 1/100\n",
            "2/2 [==============================] - 0s 6ms/step - loss: 16.4124 - mae: 16.4124\n",
            "Epoch 2/100\n",
            "2/2 [==============================] - 0s 4ms/step - loss: 11.0829 - mae: 11.0829\n",
            "Epoch 3/100\n",
            "2/2 [==============================] - 0s 4ms/step - loss: 11.1242 - mae: 11.1242\n",
            "Epoch 4/100\n",
            "2/2 [==============================] - 0s 4ms/step - loss: 8.6945 - mae: 8.6945\n",
            "Epoch 5/100\n",
            "2/2 [==============================] - 0s 5ms/step - loss: 9.8003 - mae: 9.8003\n",
            "Epoch 6/100\n",
            "2/2 [==============================] - 0s 4ms/step - loss: 9.5263 - mae: 9.5263\n",
            "Epoch 7/100\n",
            "2/2 [==============================] - 0s 3ms/step - loss: 8.4102 - mae: 8.4102\n",
            "Epoch 8/100\n",
            "2/2 [==============================] - 0s 7ms/step - loss: 9.1449 - mae: 9.1449\n",
            "Epoch 9/100\n",
            "2/2 [==============================] - 0s 3ms/step - loss: 19.4932 - mae: 19.4932\n",
            "Epoch 10/100\n",
            "2/2 [==============================] - 0s 7ms/step - loss: 9.6061 - mae: 9.6061\n",
            "Epoch 11/100\n",
            "2/2 [==============================] - 0s 6ms/step - loss: 8.5992 - mae: 8.5992\n",
            "Epoch 12/100\n",
            "2/2 [==============================] - 0s 4ms/step - loss: 10.9324 - mae: 10.9324\n",
            "Epoch 13/100\n",
            "2/2 [==============================] - 0s 5ms/step - loss: 10.0574 - mae: 10.0574\n",
            "Epoch 14/100\n",
            "2/2 [==============================] - 0s 3ms/step - loss: 16.5679 - mae: 16.5679\n",
            "Epoch 15/100\n",
            "2/2 [==============================] - 0s 7ms/step - loss: 11.4537 - mae: 11.4537\n",
            "Epoch 16/100\n",
            "2/2 [==============================] - 0s 6ms/step - loss: 8.4056 - mae: 8.4056\n",
            "Epoch 17/100\n",
            "2/2 [==============================] - 0s 3ms/step - loss: 13.8417 - mae: 13.8417\n",
            "Epoch 18/100\n",
            "2/2 [==============================] - 0s 3ms/step - loss: 11.6621 - mae: 11.6621\n",
            "Epoch 19/100\n",
            "2/2 [==============================] - 0s 4ms/step - loss: 18.7623 - mae: 18.7623\n",
            "Epoch 20/100\n",
            "2/2 [==============================] - 0s 3ms/step - loss: 15.5702 - mae: 15.5702\n",
            "Epoch 21/100\n",
            "2/2 [==============================] - 0s 3ms/step - loss: 10.9959 - mae: 10.9959\n",
            "Epoch 22/100\n",
            "2/2 [==============================] - 0s 4ms/step - loss: 8.0023 - mae: 8.0023\n",
            "Epoch 23/100\n",
            "2/2 [==============================] - 0s 4ms/step - loss: 9.8593 - mae: 9.8593\n",
            "Epoch 24/100\n",
            "2/2 [==============================] - 0s 4ms/step - loss: 7.5796 - mae: 7.5796\n",
            "Epoch 25/100\n",
            "2/2 [==============================] - 0s 4ms/step - loss: 13.7226 - mae: 13.7226\n",
            "Epoch 26/100\n",
            "2/2 [==============================] - 0s 3ms/step - loss: 17.1740 - mae: 17.1740\n",
            "Epoch 27/100\n",
            "2/2 [==============================] - 0s 4ms/step - loss: 13.4233 - mae: 13.4233\n",
            "Epoch 28/100\n",
            "2/2 [==============================] - 0s 3ms/step - loss: 14.5473 - mae: 14.5473\n",
            "Epoch 29/100\n",
            "2/2 [==============================] - 0s 4ms/step - loss: 9.8753 - mae: 9.8753\n",
            "Epoch 30/100\n",
            "2/2 [==============================] - 0s 4ms/step - loss: 17.1187 - mae: 17.1187\n",
            "Epoch 31/100\n",
            "2/2 [==============================] - 0s 4ms/step - loss: 24.5949 - mae: 24.5949\n",
            "Epoch 32/100\n",
            "2/2 [==============================] - 0s 3ms/step - loss: 7.6765 - mae: 7.6765\n",
            "Epoch 33/100\n",
            "2/2 [==============================] - 0s 4ms/step - loss: 9.2971 - mae: 9.2971\n",
            "Epoch 34/100\n",
            "2/2 [==============================] - 0s 4ms/step - loss: 14.1703 - mae: 14.1703\n",
            "Epoch 35/100\n",
            "2/2 [==============================] - 0s 3ms/step - loss: 10.8635 - mae: 10.8635\n",
            "Epoch 36/100\n",
            "2/2 [==============================] - 0s 3ms/step - loss: 13.5689 - mae: 13.5689\n",
            "Epoch 37/100\n",
            "2/2 [==============================] - 0s 3ms/step - loss: 9.3448 - mae: 9.3448\n",
            "Epoch 38/100\n",
            "2/2 [==============================] - 0s 3ms/step - loss: 10.4804 - mae: 10.4804\n",
            "Epoch 39/100\n",
            "2/2 [==============================] - 0s 4ms/step - loss: 10.0178 - mae: 10.0178\n",
            "Epoch 40/100\n",
            "2/2 [==============================] - 0s 3ms/step - loss: 10.8005 - mae: 10.8005\n",
            "Epoch 41/100\n",
            "2/2 [==============================] - 0s 4ms/step - loss: 7.7789 - mae: 7.7789\n",
            "Epoch 42/100\n",
            "2/2 [==============================] - 0s 4ms/step - loss: 10.2844 - mae: 10.2844\n",
            "Epoch 43/100\n",
            "2/2 [==============================] - 0s 3ms/step - loss: 8.9628 - mae: 8.9628\n",
            "Epoch 44/100\n",
            "2/2 [==============================] - 0s 3ms/step - loss: 12.6243 - mae: 12.6243\n",
            "Epoch 45/100\n",
            "2/2 [==============================] - 0s 3ms/step - loss: 14.1236 - mae: 14.1236\n",
            "Epoch 46/100\n",
            "2/2 [==============================] - 0s 4ms/step - loss: 8.2681 - mae: 8.2681\n",
            "Epoch 47/100\n",
            "2/2 [==============================] - 0s 3ms/step - loss: 9.0126 - mae: 9.0126\n",
            "Epoch 48/100\n",
            "2/2 [==============================] - 0s 3ms/step - loss: 10.6882 - mae: 10.6882\n",
            "Epoch 49/100\n",
            "2/2 [==============================] - 0s 4ms/step - loss: 7.7431 - mae: 7.7431\n",
            "Epoch 50/100\n",
            "2/2 [==============================] - 0s 5ms/step - loss: 9.3950 - mae: 9.3950\n",
            "Epoch 51/100\n",
            "2/2 [==============================] - 0s 4ms/step - loss: 8.9267 - mae: 8.9267\n",
            "Epoch 52/100\n",
            "2/2 [==============================] - 0s 3ms/step - loss: 16.9818 - mae: 16.9818\n",
            "Epoch 53/100\n",
            "2/2 [==============================] - 0s 3ms/step - loss: 14.8677 - mae: 14.8677\n",
            "Epoch 54/100\n",
            "2/2 [==============================] - 0s 3ms/step - loss: 22.0413 - mae: 22.0413\n",
            "Epoch 55/100\n",
            "2/2 [==============================] - 0s 3ms/step - loss: 17.0640 - mae: 17.0640\n",
            "Epoch 56/100\n",
            "2/2 [==============================] - 0s 4ms/step - loss: 9.9520 - mae: 9.9520\n",
            "Epoch 57/100\n",
            "2/2 [==============================] - 0s 4ms/step - loss: 9.7522 - mae: 9.7522\n",
            "Epoch 58/100\n",
            "2/2 [==============================] - 0s 3ms/step - loss: 9.4378 - mae: 9.4378\n",
            "Epoch 59/100\n",
            "2/2 [==============================] - 0s 3ms/step - loss: 8.3373 - mae: 8.3373\n",
            "Epoch 60/100\n",
            "2/2 [==============================] - 0s 4ms/step - loss: 9.6425 - mae: 9.6425\n",
            "Epoch 61/100\n",
            "2/2 [==============================] - 0s 4ms/step - loss: 11.7590 - mae: 11.7590\n",
            "Epoch 62/100\n",
            "2/2 [==============================] - 0s 6ms/step - loss: 11.7187 - mae: 11.7187\n",
            "Epoch 63/100\n",
            "2/2 [==============================] - 0s 14ms/step - loss: 7.2316 - mae: 7.2316\n",
            "Epoch 64/100\n",
            "2/2 [==============================] - 0s 3ms/step - loss: 17.7848 - mae: 17.7848\n",
            "Epoch 65/100\n",
            "2/2 [==============================] - 0s 4ms/step - loss: 12.6255 - mae: 12.6255\n",
            "Epoch 66/100\n",
            "2/2 [==============================] - 0s 4ms/step - loss: 13.2840 - mae: 13.2840\n",
            "Epoch 67/100\n",
            "2/2 [==============================] - 0s 4ms/step - loss: 7.8471 - mae: 7.8471\n",
            "Epoch 68/100\n",
            "2/2 [==============================] - 0s 4ms/step - loss: 9.9708 - mae: 9.9708\n",
            "Epoch 69/100\n",
            "2/2 [==============================] - 0s 3ms/step - loss: 12.4903 - mae: 12.4903\n",
            "Epoch 70/100\n",
            "2/2 [==============================] - 0s 6ms/step - loss: 8.5001 - mae: 8.5001\n",
            "Epoch 71/100\n",
            "2/2 [==============================] - 0s 4ms/step - loss: 9.9996 - mae: 9.9996\n",
            "Epoch 72/100\n",
            "2/2 [==============================] - 0s 4ms/step - loss: 10.1797 - mae: 10.1797\n",
            "Epoch 73/100\n",
            "2/2 [==============================] - 0s 3ms/step - loss: 13.0024 - mae: 13.0024\n",
            "Epoch 74/100\n",
            "2/2 [==============================] - 0s 4ms/step - loss: 10.3812 - mae: 10.3812\n",
            "Epoch 75/100\n",
            "2/2 [==============================] - 0s 3ms/step - loss: 9.7621 - mae: 9.7621\n",
            "Epoch 76/100\n",
            "2/2 [==============================] - 0s 5ms/step - loss: 11.5186 - mae: 11.5186\n",
            "Epoch 77/100\n",
            "2/2 [==============================] - 0s 4ms/step - loss: 8.3070 - mae: 8.3070\n",
            "Epoch 78/100\n",
            "2/2 [==============================] - 0s 5ms/step - loss: 9.4436 - mae: 9.4436\n",
            "Epoch 79/100\n",
            "2/2 [==============================] - 0s 5ms/step - loss: 20.3897 - mae: 20.3897\n",
            "Epoch 80/100\n",
            "2/2 [==============================] - 0s 4ms/step - loss: 15.4751 - mae: 15.4751\n",
            "Epoch 81/100\n",
            "2/2 [==============================] - 0s 6ms/step - loss: 9.0208 - mae: 9.0208\n",
            "Epoch 82/100\n",
            "2/2 [==============================] - 0s 6ms/step - loss: 13.3869 - mae: 13.3869\n",
            "Epoch 83/100\n",
            "2/2 [==============================] - 0s 5ms/step - loss: 7.9649 - mae: 7.9649\n",
            "Epoch 84/100\n",
            "2/2 [==============================] - 0s 5ms/step - loss: 7.5702 - mae: 7.5702\n",
            "Epoch 85/100\n",
            "2/2 [==============================] - 0s 4ms/step - loss: 9.9706 - mae: 9.9706\n",
            "Epoch 86/100\n",
            "2/2 [==============================] - 0s 8ms/step - loss: 9.0533 - mae: 9.0533\n",
            "Epoch 87/100\n",
            "2/2 [==============================] - 0s 5ms/step - loss: 12.2670 - mae: 12.2670\n",
            "Epoch 88/100\n",
            "2/2 [==============================] - 0s 7ms/step - loss: 10.6052 - mae: 10.6052\n",
            "Epoch 89/100\n",
            "2/2 [==============================] - 0s 3ms/step - loss: 7.1986 - mae: 7.1986\n",
            "Epoch 90/100\n",
            "2/2 [==============================] - 0s 5ms/step - loss: 13.0379 - mae: 13.0379\n",
            "Epoch 91/100\n",
            "2/2 [==============================] - 0s 6ms/step - loss: 7.1968 - mae: 7.1968\n",
            "Epoch 92/100\n",
            "2/2 [==============================] - 0s 5ms/step - loss: 7.5386 - mae: 7.5386\n",
            "Epoch 93/100\n",
            "2/2 [==============================] - 0s 4ms/step - loss: 7.0932 - mae: 7.0932\n",
            "Epoch 94/100\n",
            "2/2 [==============================] - 0s 6ms/step - loss: 12.8860 - mae: 12.8860\n",
            "Epoch 95/100\n",
            "2/2 [==============================] - 0s 6ms/step - loss: 9.9620 - mae: 9.9620\n",
            "Epoch 96/100\n",
            "2/2 [==============================] - 0s 8ms/step - loss: 8.7739 - mae: 8.7739\n",
            "Epoch 97/100\n",
            "2/2 [==============================] - 0s 8ms/step - loss: 13.0861 - mae: 13.0861\n",
            "Epoch 98/100\n",
            "2/2 [==============================] - 0s 5ms/step - loss: 8.3848 - mae: 8.3848\n",
            "Epoch 99/100\n",
            "2/2 [==============================] - 0s 6ms/step - loss: 9.7828 - mae: 9.7828\n",
            "Epoch 100/100\n",
            "2/2 [==============================] - 0s 4ms/step - loss: 8.5252 - mae: 8.5252\n"
          ],
          "name": "stdout"
        },
        {
          "output_type": "execute_result",
          "data": {
            "text/plain": [
              "<tensorflow.python.keras.callbacks.History at 0x7fbefff19410>"
            ]
          },
          "metadata": {
            "tags": []
          },
          "execution_count": 67
        }
      ]
    },
    {
      "cell_type": "code",
      "metadata": {
        "colab": {
          "base_uri": "https://localhost:8080/",
          "height": 465
        },
        "id": "yJso7r-iZCqs",
        "outputId": "444d863a-29de-4ed4-a54e-bec65a686f94"
      },
      "source": [
        "# make and plot predictions\n",
        "y_preds_1 = model_1.predict(X_test)\n",
        "\n",
        "plot_predictions(predictions=y_preds_1)"
      ],
      "execution_count": null,
      "outputs": [
        {
          "output_type": "stream",
          "text": [
            "WARNING:tensorflow:8 out of the last 8 calls to <function Model.make_predict_function.<locals>.predict_function at 0x7fbefff114d0> triggered tf.function retracing. Tracing is expensive and the excessive number of tracings could be due to (1) creating @tf.function repeatedly in a loop, (2) passing tensors with different shapes, (3) passing Python objects instead of tensors. For (1), please define your @tf.function outside of the loop. For (2), @tf.function has experimental_relax_shapes=True option that relaxes argument shapes that can avoid unnecessary retracing. For (3), please refer to https://www.tensorflow.org/guide/function#controlling_retracing and https://www.tensorflow.org/api_docs/python/tf/function for  more details.\n"
          ],
          "name": "stdout"
        },
        {
          "output_type": "display_data",
          "data": {
            "image/png": "[encoded data removed]",
            "text/plain": [
              "<Figure size 720x504 with 1 Axes>"
            ]
          },
          "metadata": {
            "tags": [],
            "needs_background": "light"
          }
        }
      ]
    },
    {
      "cell_type": "code",
      "metadata": {
        "id": "AG_xwh-eZ3t1"
      },
      "source": [
        "#that is quite a large diffence, let's calculate the error evaluation"
      ],
      "execution_count": null,
      "outputs": []
    },
    {
      "cell_type": "code",
      "metadata": {
        "colab": {
          "base_uri": "https://localhost:8080/"
        },
        "id": "t535-QcsZ_kB",
        "outputId": "4f08c796-a966-4b2a-cb09-923c6682b668"
      },
      "source": [
        "mae_1 = mae (y_test, y_preds_1)\n",
        "mse_1 = mse(y_test,y_preds_1)\n",
        "mae_1, mse_1"
      ],
      "execution_count": null,
      "outputs": [
        {
          "output_type": "execute_result",
          "data": {
            "text/plain": [
              "(<tf.Tensor: shape=(), dtype=float32, numpy=18.745327>,\n",
              " <tf.Tensor: shape=(), dtype=float32, numpy=353.57336>)"
            ]
          },
          "metadata": {
            "tags": []
          },
          "execution_count": 70
        }
      ]
    },
    {
      "cell_type": "markdown",
      "metadata": {
        "id": "WtZZW1cuawM3"
      },
      "source": [
        "**Build model_2**\n",
        "\n",
        "* 2 dense layers, epochs =100"
      ]
    },
    {
      "cell_type": "code",
      "metadata": {
        "colab": {
          "base_uri": "https://localhost:8080/"
        },
        "id": "mBCdojGIcJrq",
        "outputId": "9547420f-4542-4525-bdb4-3126d43bd7ae"
      },
      "source": [
        "# set random seed\n",
        "tf.random.set_seed(42)\n",
        "\n",
        "#1. create the model\n",
        "model_2 = tf.keras.Sequential(\n",
        "    [\n",
        "     tf.keras.layers.Dense(10),\n",
        "     tf.keras.layers.Dense(1)])\n",
        "     \n",
        "\n",
        "#compile the model\n",
        "model_2.compile(loss=tf.keras.losses.mae,\n",
        "                optimizer=tf.keras.optimizers.SGD(),\n",
        "                metrics=[\"mse\"])\n",
        "\n",
        "#fit the model\n",
        "model_2.fit(X_train, y_train, epochs=100)"
      ],
      "execution_count": null,
      "outputs": [
        {
          "output_type": "stream",
          "text": [
            "Epoch 1/100\n",
            "2/2 [==============================] - 0s 7ms/step - loss: 26.8627 - mse: 1015.8976\n",
            "Epoch 2/100\n",
            "2/2 [==============================] - 0s 6ms/step - loss: 24.4175 - mse: 767.5334\n",
            "Epoch 3/100\n",
            "2/2 [==============================] - 0s 4ms/step - loss: 31.5187 - mse: 1433.3081\n",
            "Epoch 4/100\n",
            "2/2 [==============================] - 0s 5ms/step - loss: 27.8490 - mse: 1141.6671\n",
            "Epoch 5/100\n",
            "2/2 [==============================] - 0s 10ms/step - loss: 14.6465 - mse: 267.4541\n",
            "Epoch 6/100\n",
            "2/2 [==============================] - 0s 7ms/step - loss: 11.9682 - mse: 169.5529\n",
            "Epoch 7/100\n",
            "2/2 [==============================] - 0s 6ms/step - loss: 11.0874 - mse: 141.6589\n",
            "Epoch 8/100\n",
            "2/2 [==============================] - 0s 4ms/step - loss: 11.3978 - mse: 167.3422\n",
            "Epoch 9/100\n",
            "2/2 [==============================] - 0s 12ms/step - loss: 42.4087 - mse: 2772.5432\n",
            "Epoch 10/100\n",
            "2/2 [==============================] - 0s 12ms/step - loss: 28.3537 - mse: 1129.8181\n",
            "Epoch 11/100\n",
            "2/2 [==============================] - 0s 5ms/step - loss: 9.6590 - mse: 132.9751\n",
            "Epoch 12/100\n",
            "2/2 [==============================] - 0s 5ms/step - loss: 25.8820 - mse: 933.4347\n",
            "Epoch 13/100\n",
            "2/2 [==============================] - 0s 7ms/step - loss: 16.7682 - mse: 398.1734\n",
            "Epoch 14/100\n",
            "2/2 [==============================] - 0s 8ms/step - loss: 26.6019 - mse: 1102.2358\n",
            "Epoch 15/100\n",
            "2/2 [==============================] - 0s 6ms/step - loss: 17.7361 - mse: 441.0350\n",
            "Epoch 16/100\n",
            "2/2 [==============================] - 0s 6ms/step - loss: 7.4550 - mse: 81.2729\n",
            "Epoch 17/100\n",
            "2/2 [==============================] - 0s 14ms/step - loss: 10.6974 - mse: 163.8851\n",
            "Epoch 18/100\n",
            "2/2 [==============================] - 0s 8ms/step - loss: 20.7691 - mse: 610.4133\n",
            "Epoch 19/100\n",
            "2/2 [==============================] - 0s 5ms/step - loss: 9.6535 - mse: 146.6566\n",
            "Epoch 20/100\n",
            "2/2 [==============================] - 0s 6ms/step - loss: 18.4600 - mse: 487.0986\n",
            "Epoch 21/100\n",
            "2/2 [==============================] - 0s 9ms/step - loss: 16.2352 - mse: 362.8490\n",
            "Epoch 22/100\n",
            "2/2 [==============================] - 0s 4ms/step - loss: 14.5012 - mse: 290.6680\n",
            "Epoch 23/100\n",
            "2/2 [==============================] - 0s 12ms/step - loss: 8.6493 - mse: 88.0710\n",
            "Epoch 24/100\n",
            "2/2 [==============================] - 0s 6ms/step - loss: 10.4430 - mse: 131.0228\n",
            "Epoch 25/100\n",
            "2/2 [==============================] - 0s 4ms/step - loss: 12.8060 - mse: 237.9437\n",
            "Epoch 26/100\n",
            "2/2 [==============================] - 0s 8ms/step - loss: 26.8011 - mse: 1075.4349\n",
            "Epoch 27/100\n",
            "2/2 [==============================] - 0s 4ms/step - loss: 12.0333 - mse: 202.1001\n",
            "Epoch 28/100\n",
            "2/2 [==============================] - 0s 8ms/step - loss: 23.4573 - mse: 871.2026\n",
            "Epoch 29/100\n",
            "2/2 [==============================] - 0s 5ms/step - loss: 9.1266 - mse: 92.4710\n",
            "Epoch 30/100\n",
            "2/2 [==============================] - 0s 5ms/step - loss: 31.1804 - mse: 1657.8954\n",
            "Epoch 31/100\n",
            "2/2 [==============================] - 0s 5ms/step - loss: 56.8211 - mse: 5441.4578\n",
            "Epoch 32/100\n",
            "2/2 [==============================] - 0s 6ms/step - loss: 12.2909 - mse: 221.1293\n",
            "Epoch 33/100\n",
            "2/2 [==============================] - 0s 7ms/step - loss: 15.3304 - mse: 330.0120\n",
            "Epoch 34/100\n",
            "2/2 [==============================] - 0s 7ms/step - loss: 12.8145 - mse: 215.9797\n",
            "Epoch 35/100\n",
            "2/2 [==============================] - 0s 3ms/step - loss: 9.4721 - mse: 95.5154\n",
            "Epoch 36/100\n",
            "2/2 [==============================] - 0s 6ms/step - loss: 16.6526 - mse: 404.8040\n",
            "Epoch 37/100\n",
            "2/2 [==============================] - 0s 3ms/step - loss: 10.4634 - mse: 169.1310\n",
            "Epoch 38/100\n",
            "2/2 [==============================] - 0s 4ms/step - loss: 18.7760 - mse: 459.8314\n",
            "Epoch 39/100\n",
            "2/2 [==============================] - 0s 4ms/step - loss: 20.1198 - mse: 569.0893\n",
            "Epoch 40/100\n",
            "2/2 [==============================] - 0s 5ms/step - loss: 21.4944 - mse: 654.6215\n",
            "Epoch 41/100\n",
            "2/2 [==============================] - 0s 4ms/step - loss: 14.5667 - mse: 268.1430\n",
            "Epoch 42/100\n",
            "2/2 [==============================] - 0s 3ms/step - loss: 12.2999 - mse: 188.8544\n",
            "Epoch 43/100\n",
            "2/2 [==============================] - 0s 4ms/step - loss: 11.1115 - mse: 175.7055\n",
            "Epoch 44/100\n",
            "2/2 [==============================] - 0s 12ms/step - loss: 23.5895 - mse: 869.7923\n",
            "Epoch 45/100\n",
            "2/2 [==============================] - 0s 8ms/step - loss: 9.9461 - mse: 113.3929\n",
            "Epoch 46/100\n",
            "2/2 [==============================] - 0s 7ms/step - loss: 12.0273 - mse: 188.4640\n",
            "Epoch 47/100\n",
            "2/2 [==============================] - 0s 3ms/step - loss: 9.0557 - mse: 132.7936\n",
            "Epoch 48/100\n",
            "2/2 [==============================] - 0s 3ms/step - loss: 17.8711 - mse: 427.6238\n",
            "Epoch 49/100\n",
            "2/2 [==============================] - 0s 4ms/step - loss: 9.5485 - mse: 96.8224\n",
            "Epoch 50/100\n",
            "2/2 [==============================] - 0s 3ms/step - loss: 13.7912 - mse: 256.8746\n",
            "Epoch 51/100\n",
            "2/2 [==============================] - 0s 3ms/step - loss: 11.2969 - mse: 145.4000\n",
            "Epoch 52/100\n",
            "2/2 [==============================] - 0s 6ms/step - loss: 32.1753 - mse: 1732.7588\n",
            "Epoch 53/100\n",
            "2/2 [==============================] - 0s 3ms/step - loss: 14.1257 - mse: 300.5092\n",
            "Epoch 54/100\n",
            "2/2 [==============================] - 0s 3ms/step - loss: 24.3921 - mse: 897.0253\n",
            "Epoch 55/100\n",
            "2/2 [==============================] - 0s 3ms/step - loss: 23.5967 - mse: 834.7571\n",
            "Epoch 56/100\n",
            "2/2 [==============================] - 0s 3ms/step - loss: 10.0101 - mse: 137.5419\n",
            "Epoch 57/100\n",
            "2/2 [==============================] - 0s 3ms/step - loss: 12.4333 - mse: 186.3946\n",
            "Epoch 58/100\n",
            "2/2 [==============================] - 0s 3ms/step - loss: 9.4491 - mse: 96.3009\n",
            "Epoch 59/100\n",
            "2/2 [==============================] - 0s 8ms/step - loss: 12.6438 - mse: 218.5184\n",
            "Epoch 60/100\n",
            "2/2 [==============================] - 0s 7ms/step - loss: 12.3168 - mse: 208.3239\n",
            "Epoch 61/100\n",
            "2/2 [==============================] - 0s 4ms/step - loss: 17.1832 - mse: 422.8597\n",
            "Epoch 62/100\n",
            "2/2 [==============================] - 0s 26ms/step - loss: 10.4860 - mse: 128.6800\n",
            "Epoch 63/100\n",
            "2/2 [==============================] - 0s 6ms/step - loss: 10.8072 - mse: 160.7222\n",
            "Epoch 64/100\n",
            "2/2 [==============================] - 0s 5ms/step - loss: 25.2892 - mse: 945.1685\n",
            "Epoch 65/100\n",
            "2/2 [==============================] - 0s 3ms/step - loss: 10.7923 - mse: 145.3387\n",
            "Epoch 66/100\n",
            "2/2 [==============================] - 0s 4ms/step - loss: 22.0328 - mse: 725.3462\n",
            "Epoch 67/100\n",
            "2/2 [==============================] - 0s 3ms/step - loss: 10.6505 - mse: 132.1476\n",
            "Epoch 68/100\n",
            "2/2 [==============================] - 0s 4ms/step - loss: 10.8455 - mse: 155.3464\n",
            "Epoch 69/100\n",
            "2/2 [==============================] - 0s 4ms/step - loss: 23.0960 - mse: 770.1602\n",
            "Epoch 70/100\n",
            "2/2 [==============================] - 0s 3ms/step - loss: 8.7402 - mse: 139.4087\n",
            "Epoch 71/100\n",
            "2/2 [==============================] - 0s 3ms/step - loss: 15.8968 - mse: 339.6098\n",
            "Epoch 72/100\n",
            "2/2 [==============================] - 0s 4ms/step - loss: 6.7092 - mse: 66.6670\n",
            "Epoch 73/100\n",
            "2/2 [==============================] - 0s 4ms/step - loss: 10.6475 - mse: 146.9912\n",
            "Epoch 74/100\n",
            "2/2 [==============================] - 0s 6ms/step - loss: 24.6152 - mse: 948.2740\n",
            "Epoch 75/100\n",
            "2/2 [==============================] - 0s 9ms/step - loss: 8.7602 - mse: 119.7264\n",
            "Epoch 76/100\n",
            "2/2 [==============================] - 0s 4ms/step - loss: 11.9799 - mse: 172.5533\n",
            "Epoch 77/100\n",
            "2/2 [==============================] - 0s 7ms/step - loss: 16.6488 - mse: 432.3298\n",
            "Epoch 78/100\n",
            "2/2 [==============================] - 0s 7ms/step - loss: 9.2784 - mse: 98.6556\n",
            "Epoch 79/100\n",
            "2/2 [==============================] - 0s 9ms/step - loss: 24.4604 - mse: 902.0727\n",
            "Epoch 80/100\n",
            "2/2 [==============================] - 0s 6ms/step - loss: 27.4405 - mse: 1158.6084\n",
            "Epoch 81/100\n",
            "2/2 [==============================] - 0s 3ms/step - loss: 11.7139 - mse: 170.4368\n",
            "Epoch 82/100\n",
            "2/2 [==============================] - 0s 4ms/step - loss: 11.6757 - mse: 196.1245\n",
            "Epoch 83/100\n",
            "2/2 [==============================] - 0s 3ms/step - loss: 17.9045 - mse: 414.3998\n",
            "Epoch 84/100\n",
            "2/2 [==============================] - 0s 4ms/step - loss: 7.0376 - mse: 70.0240\n",
            "Epoch 85/100\n",
            "2/2 [==============================] - 0s 9ms/step - loss: 15.1558 - mse: 321.1297\n",
            "Epoch 86/100\n",
            "2/2 [==============================] - 0s 8ms/step - loss: 15.1583 - mse: 311.4818\n",
            "Epoch 87/100\n",
            "2/2 [==============================] - 0s 3ms/step - loss: 19.8683 - mse: 554.4750\n",
            "Epoch 88/100\n",
            "2/2 [==============================] - 0s 4ms/step - loss: 30.7657 - mse: 1357.5454\n",
            "Epoch 89/100\n",
            "2/2 [==============================] - 0s 3ms/step - loss: 9.7059 - mse: 108.4962\n",
            "Epoch 90/100\n",
            "2/2 [==============================] - 0s 4ms/step - loss: 21.5531 - mse: 674.2966\n",
            "Epoch 91/100\n",
            "2/2 [==============================] - 0s 11ms/step - loss: 9.5827 - mse: 128.0419\n",
            "Epoch 92/100\n",
            "2/2 [==============================] - 0s 5ms/step - loss: 18.2158 - mse: 463.7713\n",
            "Epoch 93/100\n",
            "2/2 [==============================] - 0s 9ms/step - loss: 7.1935 - mse: 75.5075\n",
            "Epoch 94/100\n",
            "2/2 [==============================] - 0s 4ms/step - loss: 17.4261 - mse: 438.1330\n",
            "Epoch 95/100\n",
            "2/2 [==============================] - 0s 5ms/step - loss: 11.1722 - mse: 164.3355\n",
            "Epoch 96/100\n",
            "2/2 [==============================] - 0s 8ms/step - loss: 18.9207 - mse: 491.7021\n",
            "Epoch 97/100\n",
            "2/2 [==============================] - 0s 7ms/step - loss: 12.2012 - mse: 208.9877\n",
            "Epoch 98/100\n",
            "2/2 [==============================] - 0s 8ms/step - loss: 11.2931 - mse: 158.5947\n",
            "Epoch 99/100\n",
            "2/2 [==============================] - 0s 7ms/step - loss: 13.4562 - mse: 254.5623\n",
            "Epoch 100/100\n",
            "2/2 [==============================] - 0s 9ms/step - loss: 20.1754 - mse: 612.1691\n"
          ],
          "name": "stdout"
        },
        {
          "output_type": "execute_result",
          "data": {
            "text/plain": [
              "<tensorflow.python.keras.callbacks.History at 0x7fbeffe34690>"
            ]
          },
          "metadata": {
            "tags": []
          },
          "execution_count": 71
        }
      ]
    },
    {
      "cell_type": "code",
      "metadata": {
        "colab": {
          "base_uri": "https://localhost:8080/"
        },
        "id": "LzAUxFaGcJpJ",
        "outputId": "54305ee6-53e7-4db1-ac77-d0cead2263b5"
      },
      "source": [
        "#make plots and predictions\n",
        "y_preds_2 = model_2.predict(X_test)\n",
        "y_preds_2, y_test\n"
      ],
      "execution_count": null,
      "outputs": [
        {
          "output_type": "stream",
          "text": [
            "WARNING:tensorflow:9 out of the last 9 calls to <function Model.make_predict_function.<locals>.predict_function at 0x7fbf00a059e0> triggered tf.function retracing. Tracing is expensive and the excessive number of tracings could be due to (1) creating @tf.function repeatedly in a loop, (2) passing tensors with different shapes, (3) passing Python objects instead of tensors. For (1), please define your @tf.function outside of the loop. For (2), @tf.function has experimental_relax_shapes=True option that relaxes argument shapes that can avoid unnecessary retracing. For (3), please refer to https://www.tensorflow.org/guide/function#controlling_retracing and https://www.tensorflow.org/api_docs/python/tf/function for  more details.\n"
          ],
          "name": "stdout"
        },
        {
          "output_type": "execute_result",
          "data": {
            "text/plain": [
              "(array([[ 70.55218 ],\n",
              "        [ 75.13991 ],\n",
              "        [ 79.72763 ],\n",
              "        [ 84.31535 ],\n",
              "        [ 88.903076],\n",
              "        [ 93.49081 ],\n",
              "        [ 98.07853 ],\n",
              "        [102.66625 ],\n",
              "        [107.253975],\n",
              "        [111.8417  ]], dtype=float32),\n",
              " <tf.Tensor: shape=(10,), dtype=int32, numpy=array([ 70,  74,  78,  82,  86,  90,  94,  98, 102, 106], dtype=int32)>)"
            ]
          },
          "metadata": {
            "tags": []
          },
          "execution_count": 72
        }
      ]
    },
    {
      "cell_type": "code",
      "metadata": {
        "colab": {
          "base_uri": "https://localhost:8080/",
          "height": 428
        },
        "id": "jlCCIeEI2Xkp",
        "outputId": "27b470dc-df3d-46fe-c08f-15d5a0c10465"
      },
      "source": [
        "plot_predictions(predictions=y_preds_2)"
      ],
      "execution_count": null,
      "outputs": [
        {
          "output_type": "display_data",
          "data": {
            "image/png": "[encoded data removed]",
            "text/plain": [
              "<Figure size 720x504 with 1 Axes>"
            ]
          },
          "metadata": {
            "tags": [],
            "needs_background": "light"
          }
        }
      ]
    },
    {
      "cell_type": "code",
      "metadata": {
        "colab": {
          "base_uri": "https://localhost:8080/"
        },
        "id": "hw8tMuhjcJnU",
        "outputId": "0adc1930-4fbb-48d1-c933-96706beb3a0a"
      },
      "source": [
        "# calculate model_2 evaluation matrices:\n",
        "mae_2 = mae(y_test, y_preds_2)\n",
        "mse_2 = mse(y_test, y_preds_2)\n",
        "mae_2,mse_2"
      ],
      "execution_count": null,
      "outputs": [
        {
          "output_type": "execute_result",
          "data": {
            "text/plain": [
              "(<tf.Tensor: shape=(), dtype=float32, numpy=3.1969407>,\n",
              " <tf.Tensor: shape=(), dtype=float32, numpy=13.070143>)"
            ]
          },
          "metadata": {
            "tags": []
          },
          "execution_count": 74
        }
      ]
    },
    {
      "cell_type": "markdown",
      "metadata": {
        "id": "HQGt4zzucJlD"
      },
      "source": [
        "**Build model_3**\n",
        "same as model_2, but epochs=500"
      ]
    },
    {
      "cell_type": "code",
      "metadata": {
        "colab": {
          "base_uri": "https://localhost:8080/"
        },
        "id": "ZdWzmP8HcJib",
        "outputId": "c62c31cb-edf0-4ad0-abf1-e4539bf56424"
      },
      "source": [
        "  # set random seed\n",
        "tf.random.set_seed(42)\n",
        "\n",
        "#1. create the model\n",
        "model_3 = tf.keras.Sequential(\n",
        "    [\n",
        "     tf.keras.layers.Dense(10),\n",
        "     tf.keras.layers.Dense(1)])\n",
        "\n",
        "\n",
        "#compile the model\n",
        "model_3.compile(loss=tf.keras.losses.mae,\n",
        "                optimizer=tf.keras.optimizers.SGD(),\n",
        "                metrics=[\"mse\"])\n",
        "\n",
        "#fit the model\n",
        "model_3.fit(X_train, y_train, epochs=500)"
      ],
      "execution_count": null,
      "outputs": [
        {
          "output_type": "stream",
          "text": [
            "Epoch 1/500\n",
            "2/2 [==============================] - 0s 6ms/step - loss: 26.8627 - mse: 1015.8976\n",
            "Epoch 2/500\n",
            "2/2 [==============================] - 0s 4ms/step - loss: 24.4175 - mse: 767.5334\n",
            "Epoch 3/500\n",
            "2/2 [==============================] - 0s 5ms/step - loss: 31.5187 - mse: 1433.3081\n",
            "Epoch 4/500\n",
            "2/2 [==============================] - 0s 4ms/step - loss: 27.8490 - mse: 1141.6671\n",
            "Epoch 5/500\n",
            "2/2 [==============================] - 0s 4ms/step - loss: 14.6465 - mse: 267.4541\n",
            "Epoch 6/500\n",
            "2/2 [==============================] - 0s 3ms/step - loss: 11.9682 - mse: 169.5529\n",
            "Epoch 7/500\n",
            "2/2 [==============================] - 0s 3ms/step - loss: 11.0874 - mse: 141.6589\n",
            "Epoch 8/500\n",
            "2/2 [==============================] - 0s 4ms/step - loss: 11.3978 - mse: 167.3422\n",
            "Epoch 9/500\n",
            "2/2 [==============================] - 0s 6ms/step - loss: 42.4087 - mse: 2772.5432\n",
            "Epoch 10/500\n",
            "2/2 [==============================] - 0s 3ms/step - loss: 28.3537 - mse: 1129.8181\n",
            "Epoch 11/500\n",
            "2/2 [==============================] - 0s 6ms/step - loss: 9.6590 - mse: 132.9751\n",
            "Epoch 12/500\n",
            "2/2 [==============================] - 0s 8ms/step - loss: 25.8820 - mse: 933.4347\n",
            "Epoch 13/500\n",
            "2/2 [==============================] - 0s 3ms/step - loss: 16.7682 - mse: 398.1734\n",
            "Epoch 14/500\n",
            "2/2 [==============================] - 0s 3ms/step - loss: 26.6019 - mse: 1102.2358\n",
            "Epoch 15/500\n",
            "2/2 [==============================] - 0s 3ms/step - loss: 17.7361 - mse: 441.0350\n",
            "Epoch 16/500\n",
            "2/2 [==============================] - 0s 3ms/step - loss: 7.4550 - mse: 81.2729\n",
            "Epoch 17/500\n",
            "2/2 [==============================] - 0s 3ms/step - loss: 10.6974 - mse: 163.8851\n",
            "Epoch 18/500\n",
            "2/2 [==============================] - 0s 3ms/step - loss: 20.7691 - mse: 610.4133\n",
            "Epoch 19/500\n",
            "2/2 [==============================] - 0s 8ms/step - loss: 9.6535 - mse: 146.6566\n",
            "Epoch 20/500\n",
            "2/2 [==============================] - 0s 3ms/step - loss: 18.4600 - mse: 487.0986\n",
            "Epoch 21/500\n",
            "2/2 [==============================] - 0s 3ms/step - loss: 16.2352 - mse: 362.8490\n",
            "Epoch 22/500\n",
            "2/2 [==============================] - 0s 3ms/step - loss: 14.5012 - mse: 290.6680\n",
            "Epoch 23/500\n",
            "2/2 [==============================] - 0s 7ms/step - loss: 8.6493 - mse: 88.0710\n",
            "Epoch 24/500\n",
            "2/2 [==============================] - 0s 3ms/step - loss: 10.4430 - mse: 131.0228\n",
            "Epoch 25/500\n",
            "2/2 [==============================] - 0s 16ms/step - loss: 12.8060 - mse: 237.9437\n",
            "Epoch 26/500\n",
            "2/2 [==============================] - 0s 6ms/step - loss: 26.8011 - mse: 1075.4349\n",
            "Epoch 27/500\n",
            "2/2 [==============================] - 0s 18ms/step - loss: 12.0333 - mse: 202.1001\n",
            "Epoch 28/500\n",
            "2/2 [==============================] - 0s 8ms/step - loss: 23.4573 - mse: 871.2026\n",
            "Epoch 29/500\n",
            "2/2 [==============================] - 0s 4ms/step - loss: 9.1266 - mse: 92.4710\n",
            "Epoch 30/500\n",
            "2/2 [==============================] - 0s 3ms/step - loss: 31.1804 - mse: 1657.8954\n",
            "Epoch 31/500\n",
            "2/2 [==============================] - 0s 7ms/step - loss: 56.8211 - mse: 5441.4578\n",
            "Epoch 32/500\n",
            "2/2 [==============================] - 0s 3ms/step - loss: 12.2909 - mse: 221.1293\n",
            "Epoch 33/500\n",
            "2/2 [==============================] - 0s 5ms/step - loss: 15.3304 - mse: 330.0120\n",
            "Epoch 34/500\n",
            "2/2 [==============================] - 0s 9ms/step - loss: 12.8145 - mse: 215.9797\n",
            "Epoch 35/500\n",
            "2/2 [==============================] - 0s 9ms/step - loss: 9.4721 - mse: 95.5154\n",
            "Epoch 36/500\n",
            "2/2 [==============================] - 0s 7ms/step - loss: 16.6526 - mse: 404.8040\n",
            "Epoch 37/500\n",
            "2/2 [==============================] - 0s 5ms/step - loss: 10.4634 - mse: 169.1310\n",
            "Epoch 38/500\n",
            "2/2 [==============================] - 0s 7ms/step - loss: 18.7760 - mse: 459.8314\n",
            "Epoch 39/500\n",
            "2/2 [==============================] - 0s 3ms/step - loss: 20.1198 - mse: 569.0893\n",
            "Epoch 40/500\n",
            "2/2 [==============================] - 0s 9ms/step - loss: 21.4944 - mse: 654.6215\n",
            "Epoch 41/500\n",
            "2/2 [==============================] - 0s 5ms/step - loss: 14.5667 - mse: 268.1430\n",
            "Epoch 42/500\n",
            "2/2 [==============================] - 0s 5ms/step - loss: 12.2999 - mse: 188.8544\n",
            "Epoch 43/500\n",
            "2/2 [==============================] - 0s 3ms/step - loss: 11.1115 - mse: 175.7055\n",
            "Epoch 44/500\n",
            "2/2 [==============================] - 0s 3ms/step - loss: 23.5895 - mse: 869.7923\n",
            "Epoch 45/500\n",
            "2/2 [==============================] - 0s 11ms/step - loss: 9.9461 - mse: 113.3929\n",
            "Epoch 46/500\n",
            "2/2 [==============================] - 0s 4ms/step - loss: 12.0273 - mse: 188.4640\n",
            "Epoch 47/500\n",
            "2/2 [==============================] - 0s 4ms/step - loss: 9.0557 - mse: 132.7936\n",
            "Epoch 48/500\n",
            "2/2 [==============================] - 0s 3ms/step - loss: 17.8711 - mse: 427.6238\n",
            "Epoch 49/500\n",
            "2/2 [==============================] - 0s 9ms/step - loss: 9.5485 - mse: 96.8224\n",
            "Epoch 50/500\n",
            "2/2 [==============================] - 0s 4ms/step - loss: 13.7912 - mse: 256.8746\n",
            "Epoch 51/500\n",
            "2/2 [==============================] - 0s 4ms/step - loss: 11.2969 - mse: 145.4000\n",
            "Epoch 52/500\n",
            "2/2 [==============================] - 0s 3ms/step - loss: 32.1753 - mse: 1732.7588\n",
            "Epoch 53/500\n",
            "2/2 [==============================] - 0s 3ms/step - loss: 14.1257 - mse: 300.5092\n",
            "Epoch 54/500\n",
            "2/2 [==============================] - 0s 3ms/step - loss: 24.3921 - mse: 897.0253\n",
            "Epoch 55/500\n",
            "2/2 [==============================] - 0s 7ms/step - loss: 23.5967 - mse: 834.7571\n",
            "Epoch 56/500\n",
            "2/2 [==============================] - 0s 4ms/step - loss: 10.0101 - mse: 137.5419\n",
            "Epoch 57/500\n",
            "2/2 [==============================] - 0s 3ms/step - loss: 12.4333 - mse: 186.3946\n",
            "Epoch 58/500\n",
            "2/2 [==============================] - 0s 3ms/step - loss: 9.4491 - mse: 96.3009\n",
            "Epoch 59/500\n",
            "2/2 [==============================] - 0s 3ms/step - loss: 12.6438 - mse: 218.5184\n",
            "Epoch 60/500\n",
            "2/2 [==============================] - 0s 6ms/step - loss: 12.3168 - mse: 208.3239\n",
            "Epoch 61/500\n",
            "2/2 [==============================] - 0s 4ms/step - loss: 17.1832 - mse: 422.8597\n",
            "Epoch 62/500\n",
            "2/2 [==============================] - 0s 3ms/step - loss: 10.4860 - mse: 128.6800\n",
            "Epoch 63/500\n",
            "2/2 [==============================] - 0s 5ms/step - loss: 10.8072 - mse: 160.7222\n",
            "Epoch 64/500\n",
            "2/2 [==============================] - 0s 4ms/step - loss: 25.2892 - mse: 945.1685\n",
            "Epoch 65/500\n",
            "2/2 [==============================] - 0s 3ms/step - loss: 10.7923 - mse: 145.3387\n",
            "Epoch 66/500\n",
            "2/2 [==============================] - 0s 4ms/step - loss: 22.0328 - mse: 725.3462\n",
            "Epoch 67/500\n",
            "2/2 [==============================] - 0s 3ms/step - loss: 10.6505 - mse: 132.1476\n",
            "Epoch 68/500\n",
            "2/2 [==============================] - 0s 3ms/step - loss: 10.8455 - mse: 155.3464\n",
            "Epoch 69/500\n",
            "2/2 [==============================] - 0s 5ms/step - loss: 23.0960 - mse: 770.1602\n",
            "Epoch 70/500\n",
            "2/2 [==============================] - 0s 3ms/step - loss: 8.7402 - mse: 139.4087\n",
            "Epoch 71/500\n",
            "2/2 [==============================] - 0s 3ms/step - loss: 15.8968 - mse: 339.6098\n",
            "Epoch 72/500\n",
            "2/2 [==============================] - 0s 3ms/step - loss: 6.7092 - mse: 66.6670\n",
            "Epoch 73/500\n",
            "2/2 [==============================] - 0s 5ms/step - loss: 10.6475 - mse: 146.9912\n",
            "Epoch 74/500\n",
            "2/2 [==============================] - 0s 4ms/step - loss: 24.6152 - mse: 948.2740\n",
            "Epoch 75/500\n",
            "2/2 [==============================] - 0s 3ms/step - loss: 8.7602 - mse: 119.7264\n",
            "Epoch 76/500\n",
            "2/2 [==============================] - 0s 12ms/step - loss: 11.9799 - mse: 172.5533\n",
            "Epoch 77/500\n",
            "2/2 [==============================] - 0s 7ms/step - loss: 16.6488 - mse: 432.3298\n",
            "Epoch 78/500\n",
            "2/2 [==============================] - 0s 4ms/step - loss: 9.2784 - mse: 98.6556\n",
            "Epoch 79/500\n",
            "2/2 [==============================] - 0s 4ms/step - loss: 24.4604 - mse: 902.0727\n",
            "Epoch 80/500\n",
            "2/2 [==============================] - 0s 6ms/step - loss: 27.4405 - mse: 1158.6084\n",
            "Epoch 81/500\n",
            "2/2 [==============================] - 0s 6ms/step - loss: 11.7139 - mse: 170.4368\n",
            "Epoch 82/500\n",
            "2/2 [==============================] - 0s 5ms/step - loss: 11.6757 - mse: 196.1245\n",
            "Epoch 83/500\n",
            "2/2 [==============================] - 0s 4ms/step - loss: 17.9045 - mse: 414.3998\n",
            "Epoch 84/500\n",
            "2/2 [==============================] - 0s 8ms/step - loss: 7.0376 - mse: 70.0240\n",
            "Epoch 85/500\n",
            "2/2 [==============================] - 0s 9ms/step - loss: 15.1558 - mse: 321.1297\n",
            "Epoch 86/500\n",
            "2/2 [==============================] - 0s 6ms/step - loss: 15.1583 - mse: 311.4818\n",
            "Epoch 87/500\n",
            "2/2 [==============================] - 0s 6ms/step - loss: 19.8683 - mse: 554.4750\n",
            "Epoch 88/500\n",
            "2/2 [==============================] - 0s 4ms/step - loss: 30.7657 - mse: 1357.5454\n",
            "Epoch 89/500\n",
            "2/2 [==============================] - 0s 4ms/step - loss: 9.7059 - mse: 108.4962\n",
            "Epoch 90/500\n",
            "2/2 [==============================] - 0s 5ms/step - loss: 21.5531 - mse: 674.2966\n",
            "Epoch 91/500\n",
            "2/2 [==============================] - 0s 3ms/step - loss: 9.5827 - mse: 128.0419\n",
            "Epoch 92/500\n",
            "2/2 [==============================] - 0s 3ms/step - loss: 18.2158 - mse: 463.7713\n",
            "Epoch 93/500\n",
            "2/2 [==============================] - 0s 5ms/step - loss: 7.1935 - mse: 75.5075\n",
            "Epoch 94/500\n",
            "2/2 [==============================] - 0s 4ms/step - loss: 17.4261 - mse: 438.1330\n",
            "Epoch 95/500\n",
            "2/2 [==============================] - 0s 5ms/step - loss: 11.1722 - mse: 164.3355\n",
            "Epoch 96/500\n",
            "2/2 [==============================] - 0s 4ms/step - loss: 18.9207 - mse: 491.7021\n",
            "Epoch 97/500\n",
            "2/2 [==============================] - 0s 15ms/step - loss: 12.2012 - mse: 208.9877\n",
            "Epoch 98/500\n",
            "2/2 [==============================] - 0s 3ms/step - loss: 11.2931 - mse: 158.5947\n",
            "Epoch 99/500\n",
            "2/2 [==============================] - 0s 5ms/step - loss: 13.4562 - mse: 254.5623\n",
            "Epoch 100/500\n",
            "2/2 [==============================] - 0s 13ms/step - loss: 20.1754 - mse: 612.1691\n",
            "Epoch 101/500\n",
            "2/2 [==============================] - 0s 6ms/step - loss: 11.4395 - mse: 176.8360\n",
            "Epoch 102/500\n",
            "2/2 [==============================] - 0s 8ms/step - loss: 17.0888 - mse: 409.9835\n",
            "Epoch 103/500\n",
            "2/2 [==============================] - 0s 3ms/step - loss: 6.9455 - mse: 65.4455\n",
            "Epoch 104/500\n",
            "2/2 [==============================] - 0s 3ms/step - loss: 24.3779 - mse: 798.6034\n",
            "Epoch 105/500\n",
            "2/2 [==============================] - 0s 4ms/step - loss: 16.8800 - mse: 438.3793\n",
            "Epoch 106/500\n",
            "2/2 [==============================] - 0s 3ms/step - loss: 8.5557 - mse: 121.1321\n",
            "Epoch 107/500\n",
            "2/2 [==============================] - 0s 4ms/step - loss: 26.5426 - mse: 997.9331\n",
            "Epoch 108/500\n",
            "2/2 [==============================] - 0s 4ms/step - loss: 13.2375 - mse: 262.9666\n",
            "Epoch 109/500\n",
            "2/2 [==============================] - 0s 3ms/step - loss: 9.1284 - mse: 95.7257\n",
            "Epoch 110/500\n",
            "2/2 [==============================] - 0s 3ms/step - loss: 8.9256 - mse: 105.0342\n",
            "Epoch 111/500\n",
            "2/2 [==============================] - 0s 3ms/step - loss: 14.0550 - mse: 272.6900\n",
            "Epoch 112/500\n",
            "2/2 [==============================] - 0s 3ms/step - loss: 9.7418 - mse: 125.6841\n",
            "Epoch 113/500\n",
            "2/2 [==============================] - 0s 7ms/step - loss: 17.5151 - mse: 450.2865\n",
            "Epoch 114/500\n",
            "2/2 [==============================] - 0s 6ms/step - loss: 17.0304 - mse: 440.4950\n",
            "Epoch 115/500\n",
            "2/2 [==============================] - 0s 4ms/step - loss: 10.9228 - mse: 149.7184\n",
            "Epoch 116/500\n",
            "2/2 [==============================] - 0s 7ms/step - loss: 23.5453 - mse: 811.6179\n",
            "Epoch 117/500\n",
            "2/2 [==============================] - 0s 6ms/step - loss: 8.8340 - mse: 102.5076\n",
            "Epoch 118/500\n",
            "2/2 [==============================] - 0s 3ms/step - loss: 10.2978 - mse: 126.2972\n",
            "Epoch 119/500\n",
            "2/2 [==============================] - 0s 6ms/step - loss: 8.3192 - mse: 82.1770\n",
            "Epoch 120/500\n",
            "2/2 [==============================] - 0s 3ms/step - loss: 30.7265 - mse: 1389.9014\n",
            "Epoch 121/500\n",
            "2/2 [==============================] - 0s 3ms/step - loss: 8.1436 - mse: 70.3915\n",
            "Epoch 122/500\n",
            "2/2 [==============================] - 0s 3ms/step - loss: 29.4327 - mse: 1314.3137\n",
            "Epoch 123/500\n",
            "2/2 [==============================] - 0s 3ms/step - loss: 34.2183 - mse: 1694.8665\n",
            "Epoch 124/500\n",
            "2/2 [==============================] - 0s 3ms/step - loss: 19.6697 - mse: 576.5111\n",
            "Epoch 125/500\n",
            "2/2 [==============================] - 0s 3ms/step - loss: 6.5959 - mse: 64.4558\n",
            "Epoch 126/500\n",
            "2/2 [==============================] - 0s 5ms/step - loss: 21.8683 - mse: 680.1274\n",
            "Epoch 127/500\n",
            "2/2 [==============================] - 0s 5ms/step - loss: 8.0892 - mse: 69.8523\n",
            "Epoch 128/500\n",
            "2/2 [==============================] - 0s 16ms/step - loss: 21.1329 - mse: 666.8413\n",
            "Epoch 129/500\n",
            "2/2 [==============================] - 0s 3ms/step - loss: 9.3481 - mse: 128.1660\n",
            "Epoch 130/500\n",
            "2/2 [==============================] - 0s 9ms/step - loss: 24.2633 - mse: 837.1738\n",
            "Epoch 131/500\n",
            "2/2 [==============================] - 0s 4ms/step - loss: 9.9302 - mse: 137.6920\n",
            "Epoch 132/500\n",
            "2/2 [==============================] - 0s 6ms/step - loss: 18.3634 - mse: 505.2126\n",
            "Epoch 133/500\n",
            "2/2 [==============================] - 0s 6ms/step - loss: 7.2677 - mse: 72.3204\n",
            "Epoch 134/500\n",
            "2/2 [==============================] - 0s 9ms/step - loss: 18.4166 - mse: 502.4972\n",
            "Epoch 135/500\n",
            "2/2 [==============================] - 0s 5ms/step - loss: 9.7401 - mse: 121.3270\n",
            "Epoch 136/500\n",
            "2/2 [==============================] - 0s 4ms/step - loss: 17.8516 - mse: 461.5897\n",
            "Epoch 137/500\n",
            "2/2 [==============================] - 0s 4ms/step - loss: 22.9936 - mse: 723.8245\n",
            "Epoch 138/500\n",
            "2/2 [==============================] - 0s 16ms/step - loss: 8.2013 - mse: 108.2334\n",
            "Epoch 139/500\n",
            "2/2 [==============================] - 0s 5ms/step - loss: 8.0097 - mse: 112.3626\n",
            "Epoch 140/500\n",
            "2/2 [==============================] - 0s 8ms/step - loss: 15.9624 - mse: 368.3736\n",
            "Epoch 141/500\n",
            "2/2 [==============================] - 0s 3ms/step - loss: 8.6422 - mse: 95.7451\n",
            "Epoch 142/500\n",
            "2/2 [==============================] - 0s 4ms/step - loss: 39.2127 - mse: 2592.6741\n",
            "Epoch 143/500\n",
            "2/2 [==============================] - 0s 4ms/step - loss: 25.9599 - mse: 959.6395\n",
            "Epoch 144/500\n",
            "2/2 [==============================] - 0s 3ms/step - loss: 8.6134 - mse: 117.2102\n",
            "Epoch 145/500\n",
            "2/2 [==============================] - 0s 4ms/step - loss: 27.7680 - mse: 1011.4874\n",
            "Epoch 146/500\n",
            "2/2 [==============================] - 0s 3ms/step - loss: 8.3428 - mse: 92.0141\n",
            "Epoch 147/500\n",
            "2/2 [==============================] - 0s 3ms/step - loss: 15.0730 - mse: 289.3356\n",
            "Epoch 148/500\n",
            "2/2 [==============================] - 0s 4ms/step - loss: 19.1933 - mse: 498.5642\n",
            "Epoch 149/500\n",
            "2/2 [==============================] - 0s 6ms/step - loss: 7.4993 - mse: 85.9696\n",
            "Epoch 150/500\n",
            "2/2 [==============================] - 0s 3ms/step - loss: 7.4097 - mse: 62.0831\n",
            "Epoch 151/500\n",
            "2/2 [==============================] - 0s 4ms/step - loss: 18.1762 - mse: 483.9472\n",
            "Epoch 152/500\n",
            "2/2 [==============================] - 0s 3ms/step - loss: 9.9065 - mse: 119.1116\n",
            "Epoch 153/500\n",
            "2/2 [==============================] - 0s 3ms/step - loss: 30.6868 - mse: 1345.6315\n",
            "Epoch 154/500\n",
            "2/2 [==============================] - 0s 3ms/step - loss: 9.6497 - mse: 162.7593\n",
            "Epoch 155/500\n",
            "2/2 [==============================] - 0s 4ms/step - loss: 16.0886 - mse: 371.0081\n",
            "Epoch 156/500\n",
            "2/2 [==============================] - 0s 3ms/step - loss: 18.0462 - mse: 472.6204\n",
            "Epoch 157/500\n",
            "2/2 [==============================] - 0s 3ms/step - loss: 34.4868 - mse: 1870.8902\n",
            "Epoch 158/500\n",
            "2/2 [==============================] - 0s 3ms/step - loss: 10.3002 - mse: 135.3050\n",
            "Epoch 159/500\n",
            "2/2 [==============================] - 0s 3ms/step - loss: 8.5288 - mse: 85.5955\n",
            "Epoch 160/500\n",
            "2/2 [==============================] - 0s 3ms/step - loss: 22.2562 - mse: 726.2963\n",
            "Epoch 161/500\n",
            "2/2 [==============================] - 0s 3ms/step - loss: 11.2986 - mse: 186.9199\n",
            "Epoch 162/500\n",
            "2/2 [==============================] - 0s 3ms/step - loss: 21.5576 - mse: 681.2422\n",
            "Epoch 163/500\n",
            "2/2 [==============================] - 0s 3ms/step - loss: 18.8924 - mse: 524.9752\n",
            "Epoch 164/500\n",
            "2/2 [==============================] - 0s 3ms/step - loss: 10.9458 - mse: 171.1847\n",
            "Epoch 165/500\n",
            "2/2 [==============================] - 0s 3ms/step - loss: 8.7489 - mse: 143.2768\n",
            "Epoch 166/500\n",
            "2/2 [==============================] - 0s 3ms/step - loss: 22.6552 - mse: 731.0229\n",
            "Epoch 167/500\n",
            "2/2 [==============================] - 0s 9ms/step - loss: 26.9724 - mse: 1095.2429\n",
            "Epoch 168/500\n",
            "2/2 [==============================] - 0s 37ms/step - loss: 9.2709 - mse: 101.7484\n",
            "Epoch 169/500\n",
            "2/2 [==============================] - 0s 7ms/step - loss: 23.1678 - mse: 821.7977\n",
            "Epoch 170/500\n",
            "2/2 [==============================] - 0s 3ms/step - loss: 9.3051 - mse: 158.1281\n",
            "Epoch 171/500\n",
            "2/2 [==============================] - 0s 19ms/step - loss: 18.9237 - mse: 538.3760\n",
            "Epoch 172/500\n",
            "2/2 [==============================] - 0s 5ms/step - loss: 29.9900 - mse: 1388.8494\n",
            "Epoch 173/500\n",
            "2/2 [==============================] - 0s 9ms/step - loss: 16.4918 - mse: 424.2662\n",
            "Epoch 174/500\n",
            "2/2 [==============================] - 0s 5ms/step - loss: 10.2796 - mse: 165.7304\n",
            "Epoch 175/500\n",
            "2/2 [==============================] - 0s 5ms/step - loss: 28.8074 - mse: 1166.1734\n",
            "Epoch 176/500\n",
            "2/2 [==============================] - 0s 13ms/step - loss: 8.1042 - mse: 72.2274\n",
            "Epoch 177/500\n",
            "2/2 [==============================] - 0s 7ms/step - loss: 8.8722 - mse: 95.6579\n",
            "Epoch 178/500\n",
            "2/2 [==============================] - 0s 4ms/step - loss: 17.8721 - mse: 455.3681\n",
            "Epoch 179/500\n",
            "2/2 [==============================] - 0s 5ms/step - loss: 10.4428 - mse: 144.1929\n",
            "Epoch 180/500\n",
            "2/2 [==============================] - 0s 3ms/step - loss: 7.2716 - mse: 82.2663\n",
            "Epoch 181/500\n",
            "2/2 [==============================] - 0s 3ms/step - loss: 17.0166 - mse: 425.9957\n",
            "Epoch 182/500\n",
            "2/2 [==============================] - 0s 4ms/step - loss: 10.3910 - mse: 136.5952\n",
            "Epoch 183/500\n",
            "2/2 [==============================] - 0s 5ms/step - loss: 11.1568 - mse: 188.0895\n",
            "Epoch 184/500\n",
            "2/2 [==============================] - 0s 7ms/step - loss: 31.6483 - mse: 1471.7637\n",
            "Epoch 185/500\n",
            "2/2 [==============================] - 0s 7ms/step - loss: 7.0154 - mse: 83.6483\n",
            "Epoch 186/500\n",
            "2/2 [==============================] - 0s 3ms/step - loss: 16.6843 - mse: 393.0200\n",
            "Epoch 187/500\n",
            "2/2 [==============================] - 0s 5ms/step - loss: 8.1126 - mse: 74.4118\n",
            "Epoch 188/500\n",
            "2/2 [==============================] - 0s 4ms/step - loss: 29.6995 - mse: 1242.6110\n",
            "Epoch 189/500\n",
            "2/2 [==============================] - 0s 3ms/step - loss: 12.3776 - mse: 231.8943\n",
            "Epoch 190/500\n",
            "2/2 [==============================] - 0s 5ms/step - loss: 19.3024 - mse: 551.6450\n",
            "Epoch 191/500\n",
            "2/2 [==============================] - 0s 4ms/step - loss: 13.9023 - mse: 267.3248\n",
            "Epoch 192/500\n",
            "2/2 [==============================] - 0s 5ms/step - loss: 12.9345 - mse: 231.6658\n",
            "Epoch 193/500\n",
            "2/2 [==============================] - 0s 5ms/step - loss: 29.5007 - mse: 1194.6764\n",
            "Epoch 194/500\n",
            "2/2 [==============================] - 0s 4ms/step - loss: 6.6526 - mse: 65.7294\n",
            "Epoch 195/500\n",
            "2/2 [==============================] - 0s 6ms/step - loss: 6.6620 - mse: 66.1468\n",
            "Epoch 196/500\n",
            "2/2 [==============================] - 0s 6ms/step - loss: 22.8540 - mse: 756.0894\n",
            "Epoch 197/500\n",
            "2/2 [==============================] - 0s 11ms/step - loss: 20.7492 - mse: 647.7006\n",
            "Epoch 198/500\n",
            "2/2 [==============================] - 0s 4ms/step - loss: 11.8978 - mse: 216.4666\n",
            "Epoch 199/500\n",
            "2/2 [==============================] - 0s 9ms/step - loss: 17.4222 - mse: 443.4027\n",
            "Epoch 200/500\n",
            "2/2 [==============================] - 0s 4ms/step - loss: 13.4876 - mse: 273.2731\n",
            "Epoch 201/500\n",
            "2/2 [==============================] - 0s 6ms/step - loss: 5.6035 - mse: 42.9682\n",
            "Epoch 202/500\n",
            "2/2 [==============================] - 0s 6ms/step - loss: 13.1062 - mse: 266.1792\n",
            "Epoch 203/500\n",
            "2/2 [==============================] - 0s 9ms/step - loss: 8.4001 - mse: 107.1470\n",
            "Epoch 204/500\n",
            "2/2 [==============================] - 0s 4ms/step - loss: 21.0158 - mse: 659.9834\n",
            "Epoch 205/500\n",
            "2/2 [==============================] - 0s 6ms/step - loss: 8.7459 - mse: 102.3799\n",
            "Epoch 206/500\n",
            "2/2 [==============================] - 0s 8ms/step - loss: 11.0638 - mse: 173.5503\n",
            "Epoch 207/500\n",
            "2/2 [==============================] - 0s 17ms/step - loss: 13.8665 - mse: 299.2529\n",
            "Epoch 208/500\n",
            "2/2 [==============================] - 0s 5ms/step - loss: 13.9839 - mse: 287.6854\n",
            "Epoch 209/500\n",
            "2/2 [==============================] - 0s 7ms/step - loss: 14.2824 - mse: 315.9997\n",
            "Epoch 210/500\n",
            "2/2 [==============================] - 0s 10ms/step - loss: 17.6257 - mse: 457.9839\n",
            "Epoch 211/500\n",
            "2/2 [==============================] - 0s 12ms/step - loss: 8.8540 - mse: 113.1053\n",
            "Epoch 212/500\n",
            "2/2 [==============================] - 0s 6ms/step - loss: 18.6211 - mse: 514.6912\n",
            "Epoch 213/500\n",
            "2/2 [==============================] - 0s 4ms/step - loss: 15.0631 - mse: 306.5317\n",
            "Epoch 214/500\n",
            "2/2 [==============================] - 0s 3ms/step - loss: 14.8075 - mse: 302.0721\n",
            "Epoch 215/500\n",
            "2/2 [==============================] - 0s 4ms/step - loss: 24.6706 - mse: 859.6855\n",
            "Epoch 216/500\n",
            "2/2 [==============================] - 0s 5ms/step - loss: 12.8053 - mse: 254.6141\n",
            "Epoch 217/500\n",
            "2/2 [==============================] - 0s 6ms/step - loss: 9.7938 - mse: 130.2804\n",
            "Epoch 218/500\n",
            "2/2 [==============================] - 0s 5ms/step - loss: 12.3979 - mse: 199.8039\n",
            "Epoch 219/500\n",
            "2/2 [==============================] - 0s 4ms/step - loss: 5.0245 - mse: 38.1418\n",
            "Epoch 220/500\n",
            "2/2 [==============================] - 0s 6ms/step - loss: 6.8297 - mse: 52.0833\n",
            "Epoch 221/500\n",
            "2/2 [==============================] - 0s 5ms/step - loss: 37.3270 - mse: 2268.0113\n",
            "Epoch 222/500\n",
            "2/2 [==============================] - 0s 4ms/step - loss: 36.7870 - mse: 2109.8339\n",
            "Epoch 223/500\n",
            "2/2 [==============================] - 0s 5ms/step - loss: 7.3082 - mse: 96.5411\n",
            "Epoch 224/500\n",
            "2/2 [==============================] - 0s 5ms/step - loss: 15.3583 - mse: 341.1677\n",
            "Epoch 225/500\n",
            "2/2 [==============================] - 0s 5ms/step - loss: 16.9646 - mse: 371.1065\n",
            "Epoch 226/500\n",
            "2/2 [==============================] - 0s 4ms/step - loss: 16.5040 - mse: 392.6132\n",
            "Epoch 227/500\n",
            "2/2 [==============================] - 0s 5ms/step - loss: 16.8008 - mse: 391.0562\n",
            "Epoch 228/500\n",
            "2/2 [==============================] - 0s 4ms/step - loss: 14.3646 - mse: 293.7560\n",
            "Epoch 229/500\n",
            "2/2 [==============================] - 0s 9ms/step - loss: 18.9498 - mse: 490.9765\n",
            "Epoch 230/500\n",
            "2/2 [==============================] - 0s 11ms/step - loss: 15.3734 - mse: 306.9251\n",
            "Epoch 231/500\n",
            "2/2 [==============================] - 0s 5ms/step - loss: 22.2855 - mse: 719.0516\n",
            "Epoch 232/500\n",
            "2/2 [==============================] - 0s 9ms/step - loss: 25.6766 - mse: 944.8824\n",
            "Epoch 233/500\n",
            "2/2 [==============================] - 0s 10ms/step - loss: 15.8456 - mse: 369.0504\n",
            "Epoch 234/500\n",
            "2/2 [==============================] - 0s 4ms/step - loss: 7.1198 - mse: 60.0878\n",
            "Epoch 235/500\n",
            "2/2 [==============================] - 0s 5ms/step - loss: 16.5359 - mse: 388.7437\n",
            "Epoch 236/500\n",
            "2/2 [==============================] - 0s 6ms/step - loss: 6.8411 - mse: 59.6960\n",
            "Epoch 237/500\n",
            "2/2 [==============================] - 0s 7ms/step - loss: 8.4978 - mse: 96.4145\n",
            "Epoch 238/500\n",
            "2/2 [==============================] - 0s 6ms/step - loss: 7.6219 - mse: 72.8125\n",
            "Epoch 239/500\n",
            "2/2 [==============================] - 0s 5ms/step - loss: 16.6738 - mse: 421.4189\n",
            "Epoch 240/500\n",
            "2/2 [==============================] - 0s 5ms/step - loss: 8.1090 - mse: 86.4690\n",
            "Epoch 241/500\n",
            "2/2 [==============================] - 0s 4ms/step - loss: 12.2173 - mse: 231.1879\n",
            "Epoch 242/500\n",
            "2/2 [==============================] - 0s 13ms/step - loss: 8.4286 - mse: 92.9322\n",
            "Epoch 243/500\n",
            "2/2 [==============================] - 0s 6ms/step - loss: 19.0474 - mse: 549.0843\n",
            "Epoch 244/500\n",
            "2/2 [==============================] - 0s 5ms/step - loss: 13.8906 - mse: 265.0233\n",
            "Epoch 245/500\n",
            "2/2 [==============================] - 0s 5ms/step - loss: 14.9766 - mse: 299.4019\n",
            "Epoch 246/500\n",
            "2/2 [==============================] - 0s 7ms/step - loss: 16.5221 - mse: 397.0684\n",
            "Epoch 247/500\n",
            "2/2 [==============================] - 0s 5ms/step - loss: 18.3671 - mse: 447.2058\n",
            "Epoch 248/500\n",
            "2/2 [==============================] - 0s 4ms/step - loss: 12.7968 - mse: 229.7064\n",
            "Epoch 249/500\n",
            "2/2 [==============================] - 0s 4ms/step - loss: 14.6663 - mse: 294.8631\n",
            "Epoch 250/500\n",
            "2/2 [==============================] - 0s 5ms/step - loss: 24.6626 - mse: 854.8040\n",
            "Epoch 251/500\n",
            "2/2 [==============================] - 0s 4ms/step - loss: 8.8291 - mse: 108.9488\n",
            "Epoch 252/500\n",
            "2/2 [==============================] - 0s 4ms/step - loss: 38.5683 - mse: 2359.3725\n",
            "Epoch 253/500\n",
            "2/2 [==============================] - 0s 4ms/step - loss: 21.8404 - mse: 672.8246\n",
            "Epoch 254/500\n",
            "2/2 [==============================] - 0s 10ms/step - loss: 6.6485 - mse: 63.1855\n",
            "Epoch 255/500\n",
            "2/2 [==============================] - 0s 3ms/step - loss: 24.9959 - mse: 916.8845\n",
            "Epoch 256/500\n",
            "2/2 [==============================] - 0s 6ms/step - loss: 11.5965 - mse: 192.6703\n",
            "Epoch 257/500\n",
            "2/2 [==============================] - 0s 17ms/step - loss: 10.0635 - mse: 146.8584\n",
            "Epoch 258/500\n",
            "2/2 [==============================] - 0s 7ms/step - loss: 13.8021 - mse: 294.2247\n",
            "Epoch 259/500\n",
            "2/2 [==============================] - 0s 7ms/step - loss: 8.3765 - mse: 93.9123\n",
            "Epoch 260/500\n",
            "2/2 [==============================] - 0s 5ms/step - loss: 45.7482 - mse: 3211.3014\n",
            "Epoch 261/500\n",
            "2/2 [==============================] - 0s 7ms/step - loss: 18.1356 - mse: 481.2484\n",
            "Epoch 262/500\n",
            "2/2 [==============================] - 0s 4ms/step - loss: 6.3169 - mse: 76.1663\n",
            "Epoch 263/500\n",
            "2/2 [==============================] - 0s 7ms/step - loss: 13.7268 - mse: 266.9442\n",
            "Epoch 264/500\n",
            "2/2 [==============================] - 0s 4ms/step - loss: 22.1387 - mse: 702.6458\n",
            "Epoch 265/500\n",
            "2/2 [==============================] - 0s 6ms/step - loss: 19.3151 - mse: 542.9797\n",
            "Epoch 266/500\n",
            "2/2 [==============================] - 0s 10ms/step - loss: 10.9408 - mse: 198.3716\n",
            "Epoch 267/500\n",
            "2/2 [==============================] - 0s 3ms/step - loss: 6.7507 - mse: 87.7474\n",
            "Epoch 268/500\n",
            "2/2 [==============================] - 0s 5ms/step - loss: 22.1636 - mse: 703.7159\n",
            "Epoch 269/500\n",
            "2/2 [==============================] - 0s 3ms/step - loss: 34.7302 - mse: 1763.6683\n",
            "Epoch 270/500\n",
            "2/2 [==============================] - 0s 6ms/step - loss: 9.6729 - mse: 133.4597\n",
            "Epoch 271/500\n",
            "2/2 [==============================] - 0s 5ms/step - loss: 10.5267 - mse: 226.7082\n",
            "Epoch 272/500\n",
            "2/2 [==============================] - 0s 5ms/step - loss: 26.9760 - mse: 993.8127\n",
            "Epoch 273/500\n",
            "2/2 [==============================] - 0s 7ms/step - loss: 11.6137 - mse: 205.5132\n",
            "Epoch 274/500\n",
            "2/2 [==============================] - 0s 5ms/step - loss: 12.0721 - mse: 228.8875\n",
            "Epoch 275/500\n",
            "2/2 [==============================] - 0s 6ms/step - loss: 30.5160 - mse: 1306.4889\n",
            "Epoch 276/500\n",
            "2/2 [==============================] - 0s 5ms/step - loss: 6.5488 - mse: 82.0313\n",
            "Epoch 277/500\n",
            "2/2 [==============================] - 0s 5ms/step - loss: 31.9636 - mse: 1431.5897\n",
            "Epoch 278/500\n",
            "2/2 [==============================] - 0s 5ms/step - loss: 11.5564 - mse: 201.5984\n",
            "Epoch 279/500\n",
            "2/2 [==============================] - 0s 6ms/step - loss: 17.3607 - mse: 449.4666\n",
            "Epoch 280/500\n",
            "2/2 [==============================] - 0s 6ms/step - loss: 23.1189 - mse: 769.8318\n",
            "Epoch 281/500\n",
            "2/2 [==============================] - 0s 6ms/step - loss: 22.5078 - mse: 765.5773\n",
            "Epoch 282/500\n",
            "2/2 [==============================] - 0s 8ms/step - loss: 7.2141 - mse: 73.0942\n",
            "Epoch 283/500\n",
            "2/2 [==============================] - 0s 7ms/step - loss: 7.7725 - mse: 78.0881\n",
            "Epoch 284/500\n",
            "2/2 [==============================] - 0s 6ms/step - loss: 25.4832 - mse: 975.6879\n",
            "Epoch 285/500\n",
            "2/2 [==============================] - 0s 11ms/step - loss: 13.3877 - mse: 287.5977\n",
            "Epoch 286/500\n",
            "2/2 [==============================] - 0s 7ms/step - loss: 6.2528 - mse: 66.1270\n",
            "Epoch 287/500\n",
            "2/2 [==============================] - 0s 5ms/step - loss: 25.2020 - mse: 906.1856\n",
            "Epoch 288/500\n",
            "2/2 [==============================] - 0s 7ms/step - loss: 20.5697 - mse: 623.3725\n",
            "Epoch 289/500\n",
            "2/2 [==============================] - 0s 4ms/step - loss: 11.0906 - mse: 201.3730\n",
            "Epoch 290/500\n",
            "2/2 [==============================] - 0s 3ms/step - loss: 17.0029 - mse: 383.5456\n",
            "Epoch 291/500\n",
            "2/2 [==============================] - 0s 10ms/step - loss: 17.6342 - mse: 443.9534\n",
            "Epoch 292/500\n",
            "2/2 [==============================] - 0s 3ms/step - loss: 8.1010 - mse: 156.3201\n",
            "Epoch 293/500\n",
            "2/2 [==============================] - 0s 5ms/step - loss: 15.5974 - mse: 331.2615\n",
            "Epoch 294/500\n",
            "2/2 [==============================] - 0s 3ms/step - loss: 24.0056 - mse: 838.9369\n",
            "Epoch 295/500\n",
            "2/2 [==============================] - 0s 6ms/step - loss: 17.6288 - mse: 452.2897\n",
            "Epoch 296/500\n",
            "2/2 [==============================] - 0s 13ms/step - loss: 5.7207 - mse: 48.1339\n",
            "Epoch 297/500\n",
            "2/2 [==============================] - 0s 8ms/step - loss: 9.5090 - mse: 189.7956\n",
            "Epoch 298/500\n",
            "2/2 [==============================] - 0s 10ms/step - loss: 24.2070 - mse: 839.7042\n",
            "Epoch 299/500\n",
            "2/2 [==============================] - 0s 5ms/step - loss: 17.5093 - mse: 463.5408\n",
            "Epoch 300/500\n",
            "2/2 [==============================] - 0s 12ms/step - loss: 6.9937 - mse: 65.4162\n",
            "Epoch 301/500\n",
            "2/2 [==============================] - 0s 3ms/step - loss: 25.4316 - mse: 925.3384\n",
            "Epoch 302/500\n",
            "2/2 [==============================] - 0s 13ms/step - loss: 8.5327 - mse: 105.6703\n",
            "Epoch 303/500\n",
            "2/2 [==============================] - 0s 3ms/step - loss: 17.2889 - mse: 446.9324\n",
            "Epoch 304/500\n",
            "2/2 [==============================] - 0s 9ms/step - loss: 10.1101 - mse: 144.8192\n",
            "Epoch 305/500\n",
            "2/2 [==============================] - 0s 4ms/step - loss: 12.0683 - mse: 234.0961\n",
            "Epoch 306/500\n",
            "2/2 [==============================] - 0s 3ms/step - loss: 7.9177 - mse: 81.6533\n",
            "Epoch 307/500\n",
            "2/2 [==============================] - 0s 4ms/step - loss: 12.7052 - mse: 245.0772\n",
            "Epoch 308/500\n",
            "2/2 [==============================] - 0s 5ms/step - loss: 6.9439 - mse: 64.3301\n",
            "Epoch 309/500\n",
            "2/2 [==============================] - 0s 7ms/step - loss: 8.8822 - mse: 120.5234\n",
            "Epoch 310/500\n",
            "2/2 [==============================] - 0s 5ms/step - loss: 10.3575 - mse: 178.3940\n",
            "Epoch 311/500\n",
            "2/2 [==============================] - 0s 4ms/step - loss: 12.4583 - mse: 222.8906\n",
            "Epoch 312/500\n",
            "2/2 [==============================] - 0s 12ms/step - loss: 30.1003 - mse: 1268.4940\n",
            "Epoch 313/500\n",
            "2/2 [==============================] - 0s 8ms/step - loss: 6.8146 - mse: 78.6331\n",
            "Epoch 314/500\n",
            "2/2 [==============================] - 0s 5ms/step - loss: 8.5820 - mse: 176.5197\n",
            "Epoch 315/500\n",
            "2/2 [==============================] - 0s 4ms/step - loss: 24.8169 - mse: 873.6630\n",
            "Epoch 316/500\n",
            "2/2 [==============================] - 0s 3ms/step - loss: 15.7743 - mse: 381.3678\n",
            "Epoch 317/500\n",
            "2/2 [==============================] - 0s 4ms/step - loss: 20.6639 - mse: 588.6182\n",
            "Epoch 318/500\n",
            "2/2 [==============================] - 0s 6ms/step - loss: 7.6411 - mse: 75.6582\n",
            "Epoch 319/500\n",
            "2/2 [==============================] - 0s 3ms/step - loss: 17.5017 - mse: 457.8312\n",
            "Epoch 320/500\n",
            "2/2 [==============================] - 0s 4ms/step - loss: 9.6369 - mse: 150.5793\n",
            "Epoch 321/500\n",
            "2/2 [==============================] - 0s 4ms/step - loss: 7.6257 - mse: 87.3891\n",
            "Epoch 322/500\n",
            "2/2 [==============================] - 0s 5ms/step - loss: 4.7523 - mse: 34.4213\n",
            "Epoch 323/500\n",
            "2/2 [==============================] - 0s 18ms/step - loss: 23.8769 - mse: 826.6473\n",
            "Epoch 324/500\n",
            "2/2 [==============================] - 0s 3ms/step - loss: 6.5827 - mse: 52.1972\n",
            "Epoch 325/500\n",
            "2/2 [==============================] - 0s 3ms/step - loss: 15.7011 - mse: 357.1023\n",
            "Epoch 326/500\n",
            "2/2 [==============================] - 0s 4ms/step - loss: 7.0888 - mse: 67.4170\n",
            "Epoch 327/500\n",
            "2/2 [==============================] - 0s 5ms/step - loss: 20.2157 - mse: 573.6987\n",
            "Epoch 328/500\n",
            "2/2 [==============================] - 0s 3ms/step - loss: 13.8279 - mse: 263.7662\n",
            "Epoch 329/500\n",
            "2/2 [==============================] - 0s 6ms/step - loss: 17.7642 - mse: 463.4828\n",
            "Epoch 330/500\n",
            "2/2 [==============================] - 0s 17ms/step - loss: 6.3600 - mse: 63.0320\n",
            "Epoch 331/500\n",
            "2/2 [==============================] - 0s 4ms/step - loss: 21.7519 - mse: 722.9371\n",
            "Epoch 332/500\n",
            "2/2 [==============================] - 0s 6ms/step - loss: 11.2420 - mse: 198.2763\n",
            "Epoch 333/500\n",
            "2/2 [==============================] - 0s 5ms/step - loss: 11.1790 - mse: 197.0535\n",
            "Epoch 334/500\n",
            "2/2 [==============================] - 0s 4ms/step - loss: 7.5349 - mse: 129.5579\n",
            "Epoch 335/500\n",
            "2/2 [==============================] - 0s 7ms/step - loss: 11.1596 - mse: 217.9837\n",
            "Epoch 336/500\n",
            "2/2 [==============================] - 0s 4ms/step - loss: 32.2226 - mse: 1422.9951\n",
            "Epoch 337/500\n",
            "2/2 [==============================] - 0s 7ms/step - loss: 9.5676 - mse: 147.8860\n",
            "Epoch 338/500\n",
            "2/2 [==============================] - 0s 11ms/step - loss: 20.4626 - mse: 611.3803\n",
            "Epoch 339/500\n",
            "2/2 [==============================] - 0s 6ms/step - loss: 36.5697 - mse: 1972.7013\n",
            "Epoch 340/500\n",
            "2/2 [==============================] - 0s 5ms/step - loss: 9.4412 - mse: 146.6977\n",
            "Epoch 341/500\n",
            "2/2 [==============================] - 0s 5ms/step - loss: 9.2981 - mse: 137.8105\n",
            "Epoch 342/500\n",
            "2/2 [==============================] - 0s 13ms/step - loss: 11.7808 - mse: 182.2140\n",
            "Epoch 343/500\n",
            "2/2 [==============================] - 0s 7ms/step - loss: 8.6574 - mse: 119.5324\n",
            "Epoch 344/500\n",
            "2/2 [==============================] - 0s 4ms/step - loss: 5.2876 - mse: 38.3968\n",
            "Epoch 345/500\n",
            "2/2 [==============================] - 0s 4ms/step - loss: 39.5019 - mse: 2463.1351\n",
            "Epoch 346/500\n",
            "2/2 [==============================] - 0s 11ms/step - loss: 16.1694 - mse: 381.7823\n",
            "Epoch 347/500\n",
            "2/2 [==============================] - 0s 5ms/step - loss: 12.1609 - mse: 245.0909\n",
            "Epoch 348/500\n",
            "2/2 [==============================] - 0s 5ms/step - loss: 7.1087 - mse: 120.0469\n",
            "Epoch 349/500\n",
            "2/2 [==============================] - 0s 8ms/step - loss: 12.9491 - mse: 233.2832\n",
            "Epoch 350/500\n",
            "2/2 [==============================] - 0s 3ms/step - loss: 16.1665 - mse: 357.2098\n",
            "Epoch 351/500\n",
            "2/2 [==============================] - 0s 3ms/step - loss: 34.0546 - mse: 1604.8848\n",
            "Epoch 352/500\n",
            "2/2 [==============================] - 0s 6ms/step - loss: 14.2398 - mse: 279.1785\n",
            "Epoch 353/500\n",
            "2/2 [==============================] - 0s 3ms/step - loss: 16.6958 - mse: 399.9922\n",
            "Epoch 354/500\n",
            "2/2 [==============================] - 0s 3ms/step - loss: 19.8495 - mse: 569.8873\n",
            "Epoch 355/500\n",
            "2/2 [==============================] - 0s 3ms/step - loss: 35.6263 - mse: 1901.5356\n",
            "Epoch 356/500\n",
            "2/2 [==============================] - 0s 20ms/step - loss: 7.3612 - mse: 82.8997\n",
            "Epoch 357/500\n",
            "2/2 [==============================] - 0s 10ms/step - loss: 25.8732 - mse: 1020.9042\n",
            "Epoch 358/500\n",
            "2/2 [==============================] - 0s 3ms/step - loss: 23.0121 - mse: 762.3987\n",
            "Epoch 359/500\n",
            "2/2 [==============================] - 0s 15ms/step - loss: 7.5922 - mse: 144.4699\n",
            "Epoch 360/500\n",
            "2/2 [==============================] - 0s 4ms/step - loss: 22.7494 - mse: 739.9714\n",
            "Epoch 361/500\n",
            "2/2 [==============================] - 0s 5ms/step - loss: 20.6563 - mse: 617.4523\n",
            "Epoch 362/500\n",
            "2/2 [==============================] - 0s 6ms/step - loss: 6.4755 - mse: 55.8555\n",
            "Epoch 363/500\n",
            "2/2 [==============================] - 0s 5ms/step - loss: 26.4405 - mse: 1047.9880\n",
            "Epoch 364/500\n",
            "2/2 [==============================] - 0s 3ms/step - loss: 33.4598 - mse: 1619.9473\n",
            "Epoch 365/500\n",
            "2/2 [==============================] - 0s 3ms/step - loss: 9.3624 - mse: 137.0308\n",
            "Epoch 366/500\n",
            "2/2 [==============================] - 0s 9ms/step - loss: 8.1176 - mse: 163.7864\n",
            "Epoch 367/500\n",
            "2/2 [==============================] - 0s 13ms/step - loss: 31.5796 - mse: 1366.4034\n",
            "Epoch 368/500\n",
            "2/2 [==============================] - 0s 4ms/step - loss: 9.3113 - mse: 178.8327\n",
            "Epoch 369/500\n",
            "2/2 [==============================] - 0s 3ms/step - loss: 15.4731 - mse: 347.1429\n",
            "Epoch 370/500\n",
            "2/2 [==============================] - 0s 9ms/step - loss: 15.1064 - mse: 322.6710\n",
            "Epoch 371/500\n",
            "2/2 [==============================] - 0s 5ms/step - loss: 24.6474 - mse: 846.3676\n",
            "Epoch 372/500\n",
            "2/2 [==============================] - 0s 5ms/step - loss: 12.0766 - mse: 244.8407\n",
            "Epoch 373/500\n",
            "2/2 [==============================] - 0s 4ms/step - loss: 8.6626 - mse: 121.1672\n",
            "Epoch 374/500\n",
            "2/2 [==============================] - 0s 6ms/step - loss: 8.5077 - mse: 146.1953\n",
            "Epoch 375/500\n",
            "2/2 [==============================] - 0s 3ms/step - loss: 12.7401 - mse: 226.0202\n",
            "Epoch 376/500\n",
            "2/2 [==============================] - 0s 6ms/step - loss: 15.4849 - mse: 343.3001\n",
            "Epoch 377/500\n",
            "2/2 [==============================] - 0s 5ms/step - loss: 14.3770 - mse: 275.3474\n",
            "Epoch 378/500\n",
            "2/2 [==============================] - 0s 6ms/step - loss: 17.3350 - mse: 452.1428\n",
            "Epoch 379/500\n",
            "2/2 [==============================] - 0s 7ms/step - loss: 21.5410 - mse: 630.4883\n",
            "Epoch 380/500\n",
            "2/2 [==============================] - 0s 6ms/step - loss: 35.0745 - mse: 1794.0309\n",
            "Epoch 381/500\n",
            "2/2 [==============================] - 0s 11ms/step - loss: 7.6949 - mse: 86.1568\n",
            "Epoch 382/500\n",
            "2/2 [==============================] - 0s 18ms/step - loss: 12.5581 - mse: 257.8614\n",
            "Epoch 383/500\n",
            "2/2 [==============================] - 0s 5ms/step - loss: 7.7018 - mse: 101.6972\n",
            "Epoch 384/500\n",
            "2/2 [==============================] - 0s 4ms/step - loss: 6.5894 - mse: 58.8983\n",
            "Epoch 385/500\n",
            "2/2 [==============================] - 0s 7ms/step - loss: 9.5069 - mse: 185.6676\n",
            "Epoch 386/500\n",
            "2/2 [==============================] - 0s 4ms/step - loss: 21.0157 - mse: 649.0696\n",
            "Epoch 387/500\n",
            "2/2 [==============================] - 0s 5ms/step - loss: 25.3279 - mse: 926.4513\n",
            "Epoch 388/500\n",
            "2/2 [==============================] - 0s 4ms/step - loss: 8.1201 - mse: 107.4128\n",
            "Epoch 389/500\n",
            "2/2 [==============================] - 0s 3ms/step - loss: 5.9262 - mse: 48.1410\n",
            "Epoch 390/500\n",
            "2/2 [==============================] - 0s 3ms/step - loss: 24.9399 - mse: 918.0537\n",
            "Epoch 391/500\n",
            "2/2 [==============================] - 0s 4ms/step - loss: 5.3383 - mse: 55.3459\n",
            "Epoch 392/500\n",
            "2/2 [==============================] - 0s 4ms/step - loss: 15.4748 - mse: 344.1707\n",
            "Epoch 393/500\n",
            "2/2 [==============================] - 0s 3ms/step - loss: 5.3155 - mse: 57.3787\n",
            "Epoch 394/500\n",
            "2/2 [==============================] - 0s 4ms/step - loss: 10.0902 - mse: 170.0704\n",
            "Epoch 395/500\n",
            "2/2 [==============================] - 0s 3ms/step - loss: 14.1821 - mse: 303.2450\n",
            "Epoch 396/500\n",
            "2/2 [==============================] - 0s 6ms/step - loss: 6.8618 - mse: 78.6625\n",
            "Epoch 397/500\n",
            "2/2 [==============================] - 0s 4ms/step - loss: 8.0388 - mse: 112.7026\n",
            "Epoch 398/500\n",
            "2/2 [==============================] - 0s 3ms/step - loss: 13.8073 - mse: 285.0831\n",
            "Epoch 399/500\n",
            "2/2 [==============================] - 0s 17ms/step - loss: 9.7530 - mse: 206.3074\n",
            "Epoch 400/500\n",
            "2/2 [==============================] - 0s 9ms/step - loss: 23.2993 - mse: 800.0230\n",
            "Epoch 401/500\n",
            "2/2 [==============================] - 0s 7ms/step - loss: 14.3730 - mse: 327.6050\n",
            "Epoch 402/500\n",
            "2/2 [==============================] - 0s 6ms/step - loss: 7.7284 - mse: 92.3649\n",
            "Epoch 403/500\n",
            "2/2 [==============================] - 0s 4ms/step - loss: 9.4205 - mse: 157.2351\n",
            "Epoch 404/500\n",
            "2/2 [==============================] - 0s 8ms/step - loss: 9.3544 - mse: 166.3927\n",
            "Epoch 405/500\n",
            "2/2 [==============================] - 0s 9ms/step - loss: 5.8138 - mse: 53.1553\n",
            "Epoch 406/500\n",
            "2/2 [==============================] - 0s 9ms/step - loss: 17.3152 - mse: 454.5303\n",
            "Epoch 407/500\n",
            "2/2 [==============================] - 0s 10ms/step - loss: 9.8933 - mse: 210.3550\n",
            "Epoch 408/500\n",
            "2/2 [==============================] - 0s 5ms/step - loss: 21.8613 - mse: 711.6792\n",
            "Epoch 409/500\n",
            "2/2 [==============================] - 0s 4ms/step - loss: 32.9579 - mse: 1632.3673\n",
            "Epoch 410/500\n",
            "2/2 [==============================] - 0s 6ms/step - loss: 7.9618 - mse: 161.4513\n",
            "Epoch 411/500\n",
            "2/2 [==============================] - 0s 14ms/step - loss: 14.7364 - mse: 281.1327\n",
            "Epoch 412/500\n",
            "2/2 [==============================] - 0s 10ms/step - loss: 23.1980 - mse: 779.0099\n",
            "Epoch 413/500\n",
            "2/2 [==============================] - 0s 4ms/step - loss: 11.8724 - mse: 220.7476\n",
            "Epoch 414/500\n",
            "2/2 [==============================] - 0s 13ms/step - loss: 5.3169 - mse: 66.2851\n",
            "Epoch 415/500\n",
            "2/2 [==============================] - 0s 5ms/step - loss: 12.9845 - mse: 230.1085\n",
            "Epoch 416/500\n",
            "2/2 [==============================] - 0s 5ms/step - loss: 27.9657 - mse: 1076.4174\n",
            "Epoch 417/500\n",
            "2/2 [==============================] - 0s 4ms/step - loss: 10.0398 - mse: 177.9163\n",
            "Epoch 418/500\n",
            "2/2 [==============================] - 0s 5ms/step - loss: 12.4292 - mse: 220.9551\n",
            "Epoch 419/500\n",
            "2/2 [==============================] - 0s 4ms/step - loss: 16.7570 - mse: 403.2550\n",
            "Epoch 420/500\n",
            "2/2 [==============================] - 0s 10ms/step - loss: 25.5950 - mse: 895.9019\n",
            "Epoch 421/500\n",
            "2/2 [==============================] - 0s 11ms/step - loss: 16.8935 - mse: 419.7533\n",
            "Epoch 422/500\n",
            "2/2 [==============================] - 0s 9ms/step - loss: 6.5194 - mse: 112.3268\n",
            "Epoch 423/500\n",
            "2/2 [==============================] - 0s 14ms/step - loss: 26.2627 - mse: 958.8283\n",
            "Epoch 424/500\n",
            "2/2 [==============================] - 0s 10ms/step - loss: 14.3894 - mse: 330.2079\n",
            "Epoch 425/500\n",
            "2/2 [==============================] - 0s 27ms/step - loss: 6.5461 - mse: 60.9930\n",
            "Epoch 426/500\n",
            "2/2 [==============================] - 0s 4ms/step - loss: 20.0221 - mse: 563.4625\n",
            "Epoch 427/500\n",
            "2/2 [==============================] - 0s 11ms/step - loss: 5.4675 - mse: 61.8847\n",
            "Epoch 428/500\n",
            "2/2 [==============================] - 0s 6ms/step - loss: 11.9020 - mse: 239.7408\n",
            "Epoch 429/500\n",
            "2/2 [==============================] - 0s 5ms/step - loss: 9.7413 - mse: 160.3901\n",
            "Epoch 430/500\n",
            "2/2 [==============================] - 0s 5ms/step - loss: 10.3967 - mse: 201.2815\n",
            "Epoch 431/500\n",
            "2/2 [==============================] - 0s 5ms/step - loss: 9.5247 - mse: 172.5695\n",
            "Epoch 432/500\n",
            "2/2 [==============================] - 0s 5ms/step - loss: 10.4026 - mse: 192.3587\n",
            "Epoch 433/500\n",
            "2/2 [==============================] - 0s 13ms/step - loss: 9.5572 - mse: 213.7653\n",
            "Epoch 434/500\n",
            "2/2 [==============================] - 0s 4ms/step - loss: 31.0641 - mse: 1351.7620\n",
            "Epoch 435/500\n",
            "2/2 [==============================] - 0s 6ms/step - loss: 8.7320 - mse: 201.3991\n",
            "Epoch 436/500\n",
            "2/2 [==============================] - 0s 7ms/step - loss: 30.4039 - mse: 1306.0821\n",
            "Epoch 437/500\n",
            "2/2 [==============================] - 0s 5ms/step - loss: 7.2410 - mse: 149.3370\n",
            "Epoch 438/500\n",
            "2/2 [==============================] - 0s 4ms/step - loss: 11.4983 - mse: 213.7202\n",
            "Epoch 439/500\n",
            "2/2 [==============================] - 0s 4ms/step - loss: 34.0209 - mse: 1604.1009\n",
            "Epoch 440/500\n",
            "2/2 [==============================] - 0s 5ms/step - loss: 15.0207 - mse: 292.3250\n",
            "Epoch 441/500\n",
            "2/2 [==============================] - 0s 5ms/step - loss: 18.6827 - mse: 526.7385\n",
            "Epoch 442/500\n",
            "2/2 [==============================] - 0s 6ms/step - loss: 23.3211 - mse: 803.3370\n",
            "Epoch 443/500\n",
            "2/2 [==============================] - 0s 6ms/step - loss: 23.7391 - mse: 801.7246\n",
            "Epoch 444/500\n",
            "2/2 [==============================] - 0s 4ms/step - loss: 10.5044 - mse: 178.7519\n",
            "Epoch 445/500\n",
            "2/2 [==============================] - 0s 4ms/step - loss: 15.2148 - mse: 327.2978\n",
            "Epoch 446/500\n",
            "2/2 [==============================] - 0s 6ms/step - loss: 19.1407 - mse: 556.2601\n",
            "Epoch 447/500\n",
            "2/2 [==============================] - 0s 3ms/step - loss: 4.9130 - mse: 39.3332\n",
            "Epoch 448/500\n",
            "2/2 [==============================] - 0s 4ms/step - loss: 8.6091 - mse: 183.2649\n",
            "Epoch 449/500\n",
            "2/2 [==============================] - 0s 15ms/step - loss: 13.8472 - mse: 266.3158\n",
            "Epoch 450/500\n",
            "2/2 [==============================] - 0s 7ms/step - loss: 17.7478 - mse: 457.3120\n",
            "Epoch 451/500\n",
            "2/2 [==============================] - 0s 3ms/step - loss: 14.7603 - mse: 321.7629\n",
            "Epoch 452/500\n",
            "2/2 [==============================] - 0s 4ms/step - loss: 31.1154 - mse: 1384.2671\n",
            "Epoch 453/500\n",
            "2/2 [==============================] - 0s 3ms/step - loss: 6.3488 - mse: 112.8867\n",
            "Epoch 454/500\n",
            "2/2 [==============================] - 0s 4ms/step - loss: 28.8322 - mse: 1150.5284\n",
            "Epoch 455/500\n",
            "2/2 [==============================] - 0s 4ms/step - loss: 7.3912 - mse: 97.8733\n",
            "Epoch 456/500\n",
            "2/2 [==============================] - 0s 7ms/step - loss: 8.8416 - mse: 207.9596\n",
            "Epoch 457/500\n",
            "2/2 [==============================] - 0s 4ms/step - loss: 15.4993 - mse: 331.3296\n",
            "Epoch 458/500\n",
            "2/2 [==============================] - 0s 6ms/step - loss: 17.7243 - mse: 475.7519\n",
            "Epoch 459/500\n",
            "2/2 [==============================] - 0s 6ms/step - loss: 27.5770 - mse: 1086.4917\n",
            "Epoch 460/500\n",
            "2/2 [==============================] - 0s 5ms/step - loss: 11.7501 - mse: 219.1155\n",
            "Epoch 461/500\n",
            "2/2 [==============================] - 0s 7ms/step - loss: 11.5889 - mse: 223.3980\n",
            "Epoch 462/500\n",
            "2/2 [==============================] - 0s 11ms/step - loss: 13.2257 - mse: 240.9113\n",
            "Epoch 463/500\n",
            "2/2 [==============================] - 0s 3ms/step - loss: 30.3476 - mse: 1273.6259\n",
            "Epoch 464/500\n",
            "2/2 [==============================] - 0s 4ms/step - loss: 3.3242 - mse: 19.1879\n",
            "Epoch 465/500\n",
            "2/2 [==============================] - 0s 4ms/step - loss: 15.9370 - mse: 377.0669\n",
            "Epoch 466/500\n",
            "2/2 [==============================] - 0s 4ms/step - loss: 21.7724 - mse: 696.1475\n",
            "Epoch 467/500\n",
            "2/2 [==============================] - 0s 3ms/step - loss: 31.6820 - mse: 1510.2935\n",
            "Epoch 468/500\n",
            "2/2 [==============================] - 0s 3ms/step - loss: 9.6243 - mse: 179.7524\n",
            "Epoch 469/500\n",
            "2/2 [==============================] - 0s 3ms/step - loss: 11.8263 - mse: 233.3513\n",
            "Epoch 470/500\n",
            "2/2 [==============================] - 0s 4ms/step - loss: 3.2032 - mse: 14.0647\n",
            "Epoch 471/500\n",
            "2/2 [==============================] - 0s 5ms/step - loss: 17.3217 - mse: 391.1123\n",
            "Epoch 472/500\n",
            "2/2 [==============================] - 0s 6ms/step - loss: 12.9616 - mse: 233.3745\n",
            "Epoch 473/500\n",
            "2/2 [==============================] - 0s 4ms/step - loss: 16.3344 - mse: 428.6667\n",
            "Epoch 474/500\n",
            "2/2 [==============================] - 0s 7ms/step - loss: 10.4298 - mse: 230.0059\n",
            "Epoch 475/500\n",
            "2/2 [==============================] - 0s 6ms/step - loss: 17.3095 - mse: 425.5358\n",
            "Epoch 476/500\n",
            "2/2 [==============================] - 0s 9ms/step - loss: 14.0110 - mse: 281.9855\n",
            "Epoch 477/500\n",
            "2/2 [==============================] - 0s 7ms/step - loss: 31.3851 - mse: 1360.8681\n",
            "Epoch 478/500\n",
            "2/2 [==============================] - 0s 6ms/step - loss: 7.4666 - mse: 138.4424\n",
            "Epoch 479/500\n",
            "2/2 [==============================] - 0s 9ms/step - loss: 9.3610 - mse: 193.9732\n",
            "Epoch 480/500\n",
            "2/2 [==============================] - 0s 5ms/step - loss: 19.0261 - mse: 523.0786\n",
            "Epoch 481/500\n",
            "2/2 [==============================] - 0s 3ms/step - loss: 16.5661 - mse: 393.6984\n",
            "Epoch 482/500\n",
            "2/2 [==============================] - 0s 8ms/step - loss: 22.2981 - mse: 747.4349\n",
            "Epoch 483/500\n",
            "2/2 [==============================] - 0s 5ms/step - loss: 25.8888 - mse: 1000.5072\n",
            "Epoch 484/500\n",
            "2/2 [==============================] - 0s 3ms/step - loss: 24.0995 - mse: 829.2945\n",
            "Epoch 485/500\n",
            "2/2 [==============================] - 0s 3ms/step - loss: 5.2883 - mse: 42.5803\n",
            "Epoch 486/500\n",
            "2/2 [==============================] - 0s 3ms/step - loss: 20.4084 - mse: 584.4698\n",
            "Epoch 487/500\n",
            "2/2 [==============================] - 0s 8ms/step - loss: 14.3825 - mse: 298.7796\n",
            "Epoch 488/500\n",
            "2/2 [==============================] - 0s 13ms/step - loss: 32.0213 - mse: 1421.6174\n",
            "Epoch 489/500\n",
            "2/2 [==============================] - 0s 18ms/step - loss: 11.1841 - mse: 197.7452\n",
            "Epoch 490/500\n",
            "2/2 [==============================] - 0s 14ms/step - loss: 11.9448 - mse: 216.1493\n",
            "Epoch 491/500\n",
            "2/2 [==============================] - 0s 11ms/step - loss: 24.6860 - mse: 895.7283\n",
            "Epoch 492/500\n",
            "2/2 [==============================] - 0s 10ms/step - loss: 20.3409 - mse: 585.7671\n",
            "Epoch 493/500\n",
            "2/2 [==============================] - 0s 6ms/step - loss: 4.5806 - mse: 36.7325\n",
            "Epoch 494/500\n",
            "2/2 [==============================] - 0s 6ms/step - loss: 12.1887 - mse: 222.5378\n",
            "Epoch 495/500\n",
            "2/2 [==============================] - 0s 5ms/step - loss: 13.4238 - mse: 240.4185\n",
            "Epoch 496/500\n",
            "2/2 [==============================] - 0s 4ms/step - loss: 12.0397 - mse: 213.6411\n",
            "Epoch 497/500\n",
            "2/2 [==============================] - 0s 7ms/step - loss: 18.8880 - mse: 557.6347\n",
            "Epoch 498/500\n",
            "2/2 [==============================] - 0s 12ms/step - loss: 23.8076 - mse: 844.5661\n",
            "Epoch 499/500\n",
            "2/2 [==============================] - 0s 3ms/step - loss: 8.9942 - mse: 125.7282\n",
            "Epoch 500/500\n",
            "2/2 [==============================] - 0s 3ms/step - loss: 15.1579 - mse: 313.4051\n"
          ],
          "name": "stdout"
        },
        {
          "output_type": "execute_result",
          "data": {
            "text/plain": [
              "<tensorflow.python.keras.callbacks.History at 0x7fbefc11bcd0>"
            ]
          },
          "metadata": {
            "tags": []
          },
          "execution_count": 75
        }
      ]
    },
    {
      "cell_type": "code",
      "metadata": {
        "colab": {
          "base_uri": "https://localhost:8080/",
          "height": 465
        },
        "id": "pH4NimyIcJf9",
        "outputId": "f4952d1c-af00-4bfd-ae39-0f7aaf276703"
      },
      "source": [
        "# predictions\n",
        "y_preds_3 = model_3.predict(X_test)\n",
        "plot_predictions(predictions=y_preds_3)"
      ],
      "execution_count": null,
      "outputs": [
        {
          "output_type": "stream",
          "text": [
            "WARNING:tensorflow:10 out of the last 10 calls to <function Model.make_predict_function.<locals>.predict_function at 0x7fbefaf8ab00> triggered tf.function retracing. Tracing is expensive and the excessive number of tracings could be due to (1) creating @tf.function repeatedly in a loop, (2) passing tensors with different shapes, (3) passing Python objects instead of tensors. For (1), please define your @tf.function outside of the loop. For (2), @tf.function has experimental_relax_shapes=True option that relaxes argument shapes that can avoid unnecessary retracing. For (3), please refer to https://www.tensorflow.org/guide/function#controlling_retracing and https://www.tensorflow.org/api_docs/python/tf/function for  more details.\n"
          ],
          "name": "stdout"
        },
        {
          "output_type": "display_data",
          "data": {
            "image/png": "[encoded data removed]",
            "text/plain": [
              "<Figure size 720x504 with 1 Axes>"
            ]
          },
          "metadata": {
            "tags": [],
            "needs_background": "light"
          }
        }
      ]
    },
    {
      "cell_type": "markdown",
      "metadata": {
        "id": "jZMwQEbOgbQt"
      },
      "source": [
        "that is BAD!!!!!\n",
        "\n",
        "problem: **OVERFITTING** \n",
        "\n",
        "\n",
        "LET US CALCULATE THE ERROR "
      ]
    },
    {
      "cell_type": "code",
      "metadata": {
        "colab": {
          "base_uri": "https://localhost:8080/"
        },
        "id": "AlOxxTllcJdJ",
        "outputId": "673e9821-53ee-415b-882e-cb85f5a6230e"
      },
      "source": [
        "\n",
        "mae_3 = mae(y_test,y_preds_3)\n",
        "mse_3 = mse(y_test,y_preds_3)\n",
        "mae_3, mse_3"
      ],
      "execution_count": null,
      "outputs": [
        {
          "output_type": "execute_result",
          "data": {
            "text/plain": [
              "(<tf.Tensor: shape=(), dtype=float32, numpy=68.713615>,\n",
              " <tf.Tensor: shape=(), dtype=float32, numpy=4808.0273>)"
            ]
          },
          "metadata": {
            "tags": []
          },
          "execution_count": 77
        }
      ]
    },
    {
      "cell_type": "markdown",
      "metadata": {
        "id": "cyEHT7SehMOL"
      },
      "source": [
        "🔑 Note: You want to start with small experiments (small models) and make sure they work and then increase their scale when necessary."
      ]
    },
    {
      "cell_type": "markdown",
      "metadata": {
        "id": "utuRk1OKcJaR"
      },
      "source": [
        "###Comparing the results of our models\n",
        "\n",
        "We've run a few experimenrs, let's compare the results\n"
      ]
    },
    {
      "cell_type": "code",
      "metadata": {
        "colab": {
          "base_uri": "https://localhost:8080/",
          "height": 142
        },
        "id": "R3ERCCzxcJXh",
        "outputId": "2deb5d2d-beed-4e83-e48a-225f86015448"
      },
      "source": [
        "# Let's compare our model's results using a pandas dataframe.\n",
        "import pandas as pd\n",
        "\n",
        "model_results = [[\"model_1\",mae_1.numpy(),mse_1.numpy()],\n",
        "                 [\"model_2\",mae_2.numpy(),mse_2.numpy()],\n",
        "                 [\"model_3\", mae_3.numpy(),mse_3.numpy()]]\n",
        "\n",
        "all_results = pd.DataFrame(model_results, columns=[\"model\",\"MAE\",\"MSE\"])\n",
        "all_results"
      ],
      "execution_count": null,
      "outputs": [
        {
          "output_type": "execute_result",
          "data": {
            "text/html": [
              "<div>\n",
              "<style scoped>\n",
              "    .dataframe tbody tr th:only-of-type {\n",
              "        vertical-align: middle;\n",
              "    }\n",
              "\n",
              "    .dataframe tbody tr th {\n",
              "        vertical-align: top;\n",
              "    }\n",
              "\n",
              "    .dataframe thead th {\n",
              "        text-align: right;\n",
              "    }\n",
              "</style>\n",
              "<table border=\"1\" class=\"dataframe\">\n",
              "  <thead>\n",
              "    <tr style=\"text-align: right;\">\n",
              "      <th></th>\n",
              "      <th>model</th>\n",
              "      <th>MAE</th>\n",
              "      <th>MSE</th>\n",
              "    </tr>\n",
              "  </thead>\n",
              "  <tbody>\n",
              "    <tr>\n",
              "      <th>0</th>\n",
              "      <td>model_1</td>\n",
              "      <td>18.745327</td>\n",
              "      <td>353.573364</td>\n",
              "    </tr>\n",
              "    <tr>\n",
              "      <th>1</th>\n",
              "      <td>model_2</td>\n",
              "      <td>3.196941</td>\n",
              "      <td>13.070143</td>\n",
              "    </tr>\n",
              "    <tr>\n",
              "      <th>2</th>\n",
              "      <td>model_3</td>\n",
              "      <td>68.713615</td>\n",
              "      <td>4808.027344</td>\n",
              "    </tr>\n",
              "  </tbody>\n",
              "</table>\n",
              "</div>"
            ],
            "text/plain": [
              "     model        MAE          MSE\n",
              "0  model_1  18.745327   353.573364\n",
              "1  model_2   3.196941    13.070143\n",
              "2  model_3  68.713615  4808.027344"
            ]
          },
          "metadata": {
            "tags": []
          },
          "execution_count": 78
        }
      ]
    },
    {
      "cell_type": "markdown",
      "metadata": {
        "id": "hYvqA5XehUVE"
      },
      "source": [
        "###LOOKS LIKE model_2 PERFORMED THE BEST"
      ]
    },
    {
      "cell_type": "code",
      "metadata": {
        "colab": {
          "base_uri": "https://localhost:8080/"
        },
        "id": "ErXjw1KIhUXk",
        "outputId": "93a2ebe7-f56f-402c-e113-5e43f647f153"
      },
      "source": [
        "model_2.summary()"
      ],
      "execution_count": null,
      "outputs": [
        {
          "output_type": "stream",
          "text": [
            "Model: \"sequential_8\"\n",
            "_________________________________________________________________\n",
            "Layer (type)                 Output Shape              Param #   \n",
            "=================================================================\n",
            "dense_12 (Dense)             (None, 10)                20        \n",
            "_________________________________________________________________\n",
            "dense_13 (Dense)             (None, 1)                 11        \n",
            "=================================================================\n",
            "Total params: 31\n",
            "Trainable params: 31\n",
            "Non-trainable params: 0\n",
            "_________________________________________________________________\n"
          ],
          "name": "stdout"
        }
      ]
    },
    {
      "cell_type": "markdown",
      "metadata": {
        "id": "gfwI6tHJhUab"
      },
      "source": [
        "🔑 Note: One of your main goals should be to minimize the time between your experiments. The more experiments you do, the more things you'll figure out which don't work and in turn, get closer to figuring out what does work. Remember the machine learning practioner's motto: \"experiment, experiment, experiment\"."
      ]
    },
    {
      "cell_type": "markdown",
      "metadata": {
        "id": "46LemZQyhUcs"
      },
      "source": [
        "###Tracking your experiments\n",
        "One really good habit in machine learning modelling is to track the results of your experiments.\n",
        "\n",
        "And when doing so, it can be tedious if you're running lots of experiments.\n",
        "\n",
        "Luckily, there are tools to help us!\n",
        "\n",
        "📖 Resource: As you build more models, you'll want to look into using:\n",
        "\n",
        "* TensorBoard - a component of the TensorFlow library to help track modelling experiments (we'll see this one later).\n",
        "* Weights & Biases - a tool for tracking all of kinds of machine learning experiments (plugs straight into TensorBoard).\n",
        "\n"
      ]
    },
    {
      "cell_type": "markdown",
      "metadata": {
        "id": "nccUqr_fhUe4"
      },
      "source": [
        "###Saving our models:\n",
        "\n",
        "Saving our models allows us to use them outside of Google Colab (or wherever they were trained) such as in a web application or a mobile app.\n",
        "\n",
        "\n",
        "There are two main formats we can save our model's to:\n",
        "\n",
        "* The SavedModel format\n",
        "* The HDF5 format"
      ]
    },
    {
      "cell_type": "code",
      "metadata": {
        "colab": {
          "base_uri": "https://localhost:8080/"
        },
        "id": "7qmYcwMPhUhF",
        "outputId": "4b24f75a-9ceb-4321-b6f4-5b78c2f9dccc"
      },
      "source": [
        "#save a model using SavedModel format\n",
        "model_2.save(\"best_model_SavedModel_format\") #you get a folder // *default"
      ],
      "execution_count": null,
      "outputs": [
        {
          "output_type": "stream",
          "text": [
            "INFO:tensorflow:Assets written to: best_model_SavedModel_format/assets\n"
          ],
          "name": "stdout"
        }
      ]
    },
    {
      "cell_type": "code",
      "metadata": {
        "id": "S8FizZGJxMgt"
      },
      "source": [
        "#save a model using HDF5 format\n",
        "model_2.save(\"best_model_HDF5_format.h5\")  #you get a single file"
      ],
      "execution_count": null,
      "outputs": []
    },
    {
      "cell_type": "markdown",
      "metadata": {
        "id": "0QidSVEdx9cA"
      },
      "source": [
        "###LOADING A MODEL AND RE-EVALUATE IT CORRECTLY"
      ]
    },
    {
      "cell_type": "code",
      "metadata": {
        "colab": {
          "base_uri": "https://localhost:8080/"
        },
        "id": "bmsIVRMeyahr",
        "outputId": "6b0ad3fa-ec52-4c5f-b64e-c8d9c24f101e"
      },
      "source": [
        "# load in the SavedFormat format model\n",
        "loaded_SavedModel_format = tf.keras.models.load_model(\"/content/best_model_SavedModel_format\")\n",
        "loaded_SavedModel_format.summary()\n"
      ],
      "execution_count": null,
      "outputs": [
        {
          "output_type": "stream",
          "text": [
            "Model: \"sequential_8\"\n",
            "_________________________________________________________________\n",
            "Layer (type)                 Output Shape              Param #   \n",
            "=================================================================\n",
            "dense_12 (Dense)             (None, 10)                20        \n",
            "_________________________________________________________________\n",
            "dense_13 (Dense)             (None, 1)                 11        \n",
            "=================================================================\n",
            "Total params: 31\n",
            "Trainable params: 31\n",
            "Non-trainable params: 0\n",
            "_________________________________________________________________\n"
          ],
          "name": "stdout"
        }
      ]
    },
    {
      "cell_type": "code",
      "metadata": {
        "colab": {
          "base_uri": "https://localhost:8080/"
        },
        "id": "ziVQwjJPyaeo",
        "outputId": "613abf49-8d3d-4faa-c429-7df2928ae093"
      },
      "source": [
        "model_2.summary()"
      ],
      "execution_count": null,
      "outputs": [
        {
          "output_type": "stream",
          "text": [
            "Model: \"sequential_8\"\n",
            "_________________________________________________________________\n",
            "Layer (type)                 Output Shape              Param #   \n",
            "=================================================================\n",
            "dense_12 (Dense)             (None, 10)                20        \n",
            "_________________________________________________________________\n",
            "dense_13 (Dense)             (None, 1)                 11        \n",
            "=================================================================\n",
            "Total params: 31\n",
            "Trainable params: 31\n",
            "Non-trainable params: 0\n",
            "_________________________________________________________________\n"
          ],
          "name": "stdout"
        }
      ]
    },
    {
      "cell_type": "code",
      "metadata": {
        "id": "2EYNNFuszXYW"
      },
      "source": [
        "#the summary is same for both, model_2 and SavedFormat format model"
      ],
      "execution_count": null,
      "outputs": []
    },
    {
      "cell_type": "code",
      "metadata": {
        "colab": {
          "base_uri": "https://localhost:8080/"
        },
        "id": "0l5-Dg3VyaZ2",
        "outputId": "d57c0b1f-eacf-4a5f-96c9-75c5c3714e78"
      },
      "source": [
        "#compare model_2 predictions with the SavedModel format model predictions.\n",
        "model_2_preds = model_2.predict(X_test)\n",
        "loaded_SavedModel_format_preds = loaded_SavedModel_format.predict(X_test)\n",
        "model_2_preds == loaded_SavedModel_format_preds"
      ],
      "execution_count": null,
      "outputs": [
        {
          "output_type": "execute_result",
          "data": {
            "text/plain": [
              "array([[ True],\n",
              "       [ True],\n",
              "       [ True],\n",
              "       [ True],\n",
              "       [ True],\n",
              "       [ True],\n",
              "       [ True],\n",
              "       [ True],\n",
              "       [ True],\n",
              "       [ True]])"
            ]
          },
          "metadata": {
            "tags": []
          },
          "execution_count": 89
        }
      ]
    },
    {
      "cell_type": "code",
      "metadata": {
        "id": "O0idkAPPyaNY"
      },
      "source": [
        "#let's look at the predictions made by both of the models \n",
        "#model_2_preds, loaded_SavedModel_format_preds"
      ],
      "execution_count": null,
      "outputs": []
    },
    {
      "cell_type": "code",
      "metadata": {
        "colab": {
          "base_uri": "https://localhost:8080/"
        },
        "id": "DHyuDpu1yaIf",
        "outputId": "47dc8355-32a1-4cc4-f9b7-85f1a63492f2"
      },
      "source": [
        "# load in the HDF5 format model\n",
        "loaded_HDF5_format = tf.keras.models.load_model(\"/content/best_model_HDF5_format.h5\")\n",
        "loaded_HDF5_format.summary()\n",
        "\n"
      ],
      "execution_count": null,
      "outputs": [
        {
          "output_type": "stream",
          "text": [
            "Model: \"sequential_8\"\n",
            "_________________________________________________________________\n",
            "Layer (type)                 Output Shape              Param #   \n",
            "=================================================================\n",
            "dense_12 (Dense)             (None, 10)                20        \n",
            "_________________________________________________________________\n",
            "dense_13 (Dense)             (None, 1)                 11        \n",
            "=================================================================\n",
            "Total params: 31\n",
            "Trainable params: 31\n",
            "Non-trainable params: 0\n",
            "_________________________________________________________________\n"
          ],
          "name": "stdout"
        }
      ]
    },
    {
      "cell_type": "code",
      "metadata": {
        "colab": {
          "base_uri": "https://localhost:8080/"
        },
        "id": "1v3M8TS4yYgb",
        "outputId": "647b1a43-a6aa-415b-cfc7-a9e9735ecffb"
      },
      "source": [
        "loaded_HDF5_format_preds = loaded_HDF5_format.predict(X_test)\n",
        "loaded_HDF5_format_preds == model_2_preds"
      ],
      "execution_count": null,
      "outputs": [
        {
          "output_type": "execute_result",
          "data": {
            "text/plain": [
              "array([[ True],\n",
              "       [ True],\n",
              "       [ True],\n",
              "       [ True],\n",
              "       [ True],\n",
              "       [ True],\n",
              "       [ True],\n",
              "       [ True],\n",
              "       [ True],\n",
              "       [ True]])"
            ]
          },
          "metadata": {
            "tags": []
          },
          "execution_count": 94
        }
      ]
    },
    {
      "cell_type": "markdown",
      "metadata": {
        "id": "mQT7Mr-P4Qh4"
      },
      "source": [
        "###WORKS!"
      ]
    },
    {
      "cell_type": "markdown",
      "metadata": {
        "id": "U37DewEU4UKn"
      },
      "source": [
        "###Download a model (or any other file) from Google Colab\n",
        "\n",
        "If you want to download your files from Google Colab:\n",
        "\n",
        "1. You can go to the \"files\" tab and right click on the file you're after and click \"download\".\n",
        "2. Use code (see the cell below).\n",
        "3. Save it to Google Drive by connecting Google Drive and copying it there (see 2nd code cell below)."
      ]
    },
    {
      "cell_type": "code",
      "metadata": {
        "colab": {
          "base_uri": "https://localhost:8080/",
          "height": 17
        },
        "id": "s0_Of9tz4UIL",
        "outputId": "29ccf932-b0dc-452b-bef4-51f360919a12"
      },
      "source": [
        "# Download a file from Google Colab\n",
        "from google.colab import files\n",
        "files.download(\"/content/best_model_HDF5_format.h5\")\n"
      ],
      "execution_count": null,
      "outputs": [
        {
          "output_type": "display_data",
          "data": {
            "application/javascript": [
              "\n",
              "    async function download(id, filename, size) {\n",
              "      if (!google.colab.kernel.accessAllowed) {\n",
              "        return;\n",
              "      }\n",
              "      const div = document.createElement('div');\n",
              "      const label = document.createElement('label');\n",
              "      label.textContent = `Downloading \"${filename}\": `;\n",
              "      div.appendChild(label);\n",
              "      const progress = document.createElement('progress');\n",
              "      progress.max = size;\n",
              "      div.appendChild(progress);\n",
              "      document.body.appendChild(div);\n",
              "\n",
              "      const buffers = [];\n",
              "      let downloaded = 0;\n",
              "\n",
              "      const channel = await google.colab.kernel.comms.open(id);\n",
              "      // Send a message to notify the kernel that we're ready.\n",
              "      channel.send({})\n",
              "\n",
              "      for await (const message of channel.messages) {\n",
              "        // Send a message to notify the kernel that we're ready.\n",
              "        channel.send({})\n",
              "        if (message.buffers) {\n",
              "          for (const buffer of message.buffers) {\n",
              "            buffers.push(buffer);\n",
              "            downloaded += buffer.byteLength;\n",
              "            progress.value = downloaded;\n",
              "          }\n",
              "        }\n",
              "      }\n",
              "      const blob = new Blob(buffers, {type: 'application/binary'});\n",
              "      const a = document.createElement('a');\n",
              "      a.href = window.URL.createObjectURL(blob);\n",
              "      a.download = filename;\n",
              "      div.appendChild(a);\n",
              "      a.click();\n",
              "      div.remove();\n",
              "    }\n",
              "  "
            ],
            "text/plain": [
              "<IPython.core.display.Javascript object>"
            ]
          },
          "metadata": {
            "tags": []
          }
        },
        {
          "output_type": "display_data",
          "data": {
            "application/javascript": [
              "download(\"download_f0d04352-5851-4ec1-af03-02bf4cf1dc43\", \"best_model_HDF5_format.h5\", 16968)"
            ],
            "text/plain": [
              "<IPython.core.display.Javascript object>"
            ]
          },
          "metadata": {
            "tags": []
          }
        }
      ]
    },
    {
      "cell_type": "code",
      "metadata": {
        "id": "A-AMAB-h4UFA"
      },
      "source": [
        "#Save a file from Google Colab to Google Drive (requires mounting Google Drive)\n",
        "!cp /content/best_model_HDF5_format.h5 /content/drive/MyDrive/DBourke_01tensorflow"
      ],
      "execution_count": null,
      "outputs": []
    },
    {
      "cell_type": "code",
      "metadata": {
        "colab": {
          "base_uri": "https://localhost:8080/"
        },
        "id": "woT9vsJV4UCt",
        "outputId": "fa2bc991-c0ec-4260-ad78-da417b3c225b"
      },
      "source": [
        "!ls /content/drive/MyDrive/DBourke_01tensorflow"
      ],
      "execution_count": null,
      "outputs": [
        {
          "output_type": "stream",
          "text": [
            "best_model_HDF5_format.h5\n"
          ],
          "name": "stdout"
        }
      ]
    },
    {
      "cell_type": "code",
      "metadata": {
        "id": "Nr7NvIZh4UAX"
      },
      "source": [
        ""
      ],
      "execution_count": null,
      "outputs": []
    },
    {
      "cell_type": "code",
      "metadata": {
        "id": "h9hSyzEg4T9T"
      },
      "source": [
        ""
      ],
      "execution_count": null,
      "outputs": []
    }
  ]
}